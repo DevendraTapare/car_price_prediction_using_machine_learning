{
 "cells": [
  {
   "cell_type": "markdown",
   "id": "055e03de-590c-48da-8ed3-d01503d4793b",
   "metadata": {},
   "source": [
    "# Project 1 Car Price Prediction from CarDekho Dataset"
   ]
  },
  {
   "cell_type": "markdown",
   "id": "9fae2825-b676-4dda-8d0e-21772986c3f7",
   "metadata": {},
   "source": [
    "Problem Statement : The objective of this project is to develop a machine learning model to predict the prices of used cars based on various features using the Cardekho dataset."
   ]
  },
  {
   "cell_type": "markdown",
   "id": "5b940af9-35aa-4080-8f5b-5c04ed82ec78",
   "metadata": {},
   "source": [
    "## Step 1 Importing Libraries"
   ]
  },
  {
   "cell_type": "code",
   "execution_count": 1,
   "id": "5a3901aa-3360-444d-bac9-11efa25001ad",
   "metadata": {},
   "outputs": [],
   "source": [
    "import numpy as np\n",
    "import pandas as pd\n",
    "\n",
    "import matplotlib.pyplot as plt\n",
    "import seaborn as sns\n",
    "\n",
    "from sklearn.preprocessing import LabelEncoder\n",
    "label_encoder = LabelEncoder()\n",
    "\n",
    "import warnings\n",
    "warnings.filterwarnings('ignore')"
   ]
  },
  {
   "cell_type": "markdown",
   "id": "ed55b22f-b8b7-4127-87b0-5986097b0d53",
   "metadata": {},
   "source": [
    "## Step 2 Data Gathering"
   ]
  },
  {
   "cell_type": "code",
   "execution_count": 2,
   "id": "b0ff1e0b-6827-410c-9bc4-ab45e00a59fb",
   "metadata": {},
   "outputs": [],
   "source": [
    "df=pd.read_csv('car details.csv')"
   ]
  },
  {
   "cell_type": "code",
   "execution_count": 3,
   "id": "05e4840d-a43e-4964-8be7-c861b50fe83a",
   "metadata": {},
   "outputs": [
    {
     "data": {
      "text/html": [
       "<div>\n",
       "<style scoped>\n",
       "    .dataframe tbody tr th:only-of-type {\n",
       "        vertical-align: middle;\n",
       "    }\n",
       "\n",
       "    .dataframe tbody tr th {\n",
       "        vertical-align: top;\n",
       "    }\n",
       "\n",
       "    .dataframe thead th {\n",
       "        text-align: right;\n",
       "    }\n",
       "</style>\n",
       "<table border=\"1\" class=\"dataframe\">\n",
       "  <thead>\n",
       "    <tr style=\"text-align: right;\">\n",
       "      <th></th>\n",
       "      <th>Make</th>\n",
       "      <th>Model</th>\n",
       "      <th>Price</th>\n",
       "      <th>Year</th>\n",
       "      <th>Kilometer</th>\n",
       "      <th>Fuel Type</th>\n",
       "      <th>Transmission</th>\n",
       "      <th>Location</th>\n",
       "      <th>Color</th>\n",
       "      <th>Owner</th>\n",
       "      <th>Seller Type</th>\n",
       "      <th>Engine</th>\n",
       "      <th>Max Power</th>\n",
       "      <th>Max Torque</th>\n",
       "      <th>Drivetrain</th>\n",
       "      <th>Length</th>\n",
       "      <th>Width</th>\n",
       "      <th>Height</th>\n",
       "      <th>Seating Capacity</th>\n",
       "      <th>Fuel Tank Capacity</th>\n",
       "    </tr>\n",
       "  </thead>\n",
       "  <tbody>\n",
       "    <tr>\n",
       "      <th>0</th>\n",
       "      <td>Honda</td>\n",
       "      <td>Amaze 1.2 VX i-VTEC</td>\n",
       "      <td>505000</td>\n",
       "      <td>2017</td>\n",
       "      <td>87150</td>\n",
       "      <td>Petrol</td>\n",
       "      <td>Manual</td>\n",
       "      <td>Pune</td>\n",
       "      <td>Grey</td>\n",
       "      <td>First</td>\n",
       "      <td>Corporate</td>\n",
       "      <td>1198 cc</td>\n",
       "      <td>87 bhp @ 6000 rpm</td>\n",
       "      <td>109 Nm @ 4500 rpm</td>\n",
       "      <td>FWD</td>\n",
       "      <td>3990.0</td>\n",
       "      <td>1680.0</td>\n",
       "      <td>1505.0</td>\n",
       "      <td>5.0</td>\n",
       "      <td>35.0</td>\n",
       "    </tr>\n",
       "    <tr>\n",
       "      <th>1</th>\n",
       "      <td>Maruti Suzuki</td>\n",
       "      <td>Swift DZire VDI</td>\n",
       "      <td>450000</td>\n",
       "      <td>2014</td>\n",
       "      <td>75000</td>\n",
       "      <td>Diesel</td>\n",
       "      <td>Manual</td>\n",
       "      <td>Ludhiana</td>\n",
       "      <td>White</td>\n",
       "      <td>Second</td>\n",
       "      <td>Individual</td>\n",
       "      <td>1248 cc</td>\n",
       "      <td>74 bhp @ 4000 rpm</td>\n",
       "      <td>190 Nm @ 2000 rpm</td>\n",
       "      <td>FWD</td>\n",
       "      <td>3995.0</td>\n",
       "      <td>1695.0</td>\n",
       "      <td>1555.0</td>\n",
       "      <td>5.0</td>\n",
       "      <td>42.0</td>\n",
       "    </tr>\n",
       "    <tr>\n",
       "      <th>2</th>\n",
       "      <td>Hyundai</td>\n",
       "      <td>i10 Magna 1.2 Kappa2</td>\n",
       "      <td>220000</td>\n",
       "      <td>2011</td>\n",
       "      <td>67000</td>\n",
       "      <td>Petrol</td>\n",
       "      <td>Manual</td>\n",
       "      <td>Lucknow</td>\n",
       "      <td>Maroon</td>\n",
       "      <td>First</td>\n",
       "      <td>Individual</td>\n",
       "      <td>1197 cc</td>\n",
       "      <td>79 bhp @ 6000 rpm</td>\n",
       "      <td>112.7619 Nm @ 4000 rpm</td>\n",
       "      <td>FWD</td>\n",
       "      <td>3585.0</td>\n",
       "      <td>1595.0</td>\n",
       "      <td>1550.0</td>\n",
       "      <td>5.0</td>\n",
       "      <td>35.0</td>\n",
       "    </tr>\n",
       "    <tr>\n",
       "      <th>3</th>\n",
       "      <td>Toyota</td>\n",
       "      <td>Glanza G</td>\n",
       "      <td>799000</td>\n",
       "      <td>2019</td>\n",
       "      <td>37500</td>\n",
       "      <td>Petrol</td>\n",
       "      <td>Manual</td>\n",
       "      <td>Mangalore</td>\n",
       "      <td>Red</td>\n",
       "      <td>First</td>\n",
       "      <td>Individual</td>\n",
       "      <td>1197 cc</td>\n",
       "      <td>82 bhp @ 6000 rpm</td>\n",
       "      <td>113 Nm @ 4200 rpm</td>\n",
       "      <td>FWD</td>\n",
       "      <td>3995.0</td>\n",
       "      <td>1745.0</td>\n",
       "      <td>1510.0</td>\n",
       "      <td>5.0</td>\n",
       "      <td>37.0</td>\n",
       "    </tr>\n",
       "    <tr>\n",
       "      <th>4</th>\n",
       "      <td>Toyota</td>\n",
       "      <td>Innova 2.4 VX 7 STR [2016-2020]</td>\n",
       "      <td>1950000</td>\n",
       "      <td>2018</td>\n",
       "      <td>69000</td>\n",
       "      <td>Diesel</td>\n",
       "      <td>Manual</td>\n",
       "      <td>Mumbai</td>\n",
       "      <td>Grey</td>\n",
       "      <td>First</td>\n",
       "      <td>Individual</td>\n",
       "      <td>2393 cc</td>\n",
       "      <td>148 bhp @ 3400 rpm</td>\n",
       "      <td>343 Nm @ 1400 rpm</td>\n",
       "      <td>RWD</td>\n",
       "      <td>4735.0</td>\n",
       "      <td>1830.0</td>\n",
       "      <td>1795.0</td>\n",
       "      <td>7.0</td>\n",
       "      <td>55.0</td>\n",
       "    </tr>\n",
       "  </tbody>\n",
       "</table>\n",
       "</div>"
      ],
      "text/plain": [
       "            Make                            Model    Price  Year  Kilometer  \\\n",
       "0          Honda              Amaze 1.2 VX i-VTEC   505000  2017      87150   \n",
       "1  Maruti Suzuki                  Swift DZire VDI   450000  2014      75000   \n",
       "2        Hyundai             i10 Magna 1.2 Kappa2   220000  2011      67000   \n",
       "3         Toyota                         Glanza G   799000  2019      37500   \n",
       "4         Toyota  Innova 2.4 VX 7 STR [2016-2020]  1950000  2018      69000   \n",
       "\n",
       "  Fuel Type Transmission   Location   Color   Owner Seller Type   Engine  \\\n",
       "0    Petrol       Manual       Pune    Grey   First   Corporate  1198 cc   \n",
       "1    Diesel       Manual   Ludhiana   White  Second  Individual  1248 cc   \n",
       "2    Petrol       Manual    Lucknow  Maroon   First  Individual  1197 cc   \n",
       "3    Petrol       Manual  Mangalore     Red   First  Individual  1197 cc   \n",
       "4    Diesel       Manual     Mumbai    Grey   First  Individual  2393 cc   \n",
       "\n",
       "            Max Power              Max Torque Drivetrain  Length   Width  \\\n",
       "0   87 bhp @ 6000 rpm       109 Nm @ 4500 rpm        FWD  3990.0  1680.0   \n",
       "1   74 bhp @ 4000 rpm       190 Nm @ 2000 rpm        FWD  3995.0  1695.0   \n",
       "2   79 bhp @ 6000 rpm  112.7619 Nm @ 4000 rpm        FWD  3585.0  1595.0   \n",
       "3   82 bhp @ 6000 rpm       113 Nm @ 4200 rpm        FWD  3995.0  1745.0   \n",
       "4  148 bhp @ 3400 rpm       343 Nm @ 1400 rpm        RWD  4735.0  1830.0   \n",
       "\n",
       "   Height  Seating Capacity  Fuel Tank Capacity  \n",
       "0  1505.0               5.0                35.0  \n",
       "1  1555.0               5.0                42.0  \n",
       "2  1550.0               5.0                35.0  \n",
       "3  1510.0               5.0                37.0  \n",
       "4  1795.0               7.0                55.0  "
      ]
     },
     "execution_count": 3,
     "metadata": {},
     "output_type": "execute_result"
    }
   ],
   "source": [
    "df.head()"
   ]
  },
  {
   "cell_type": "code",
   "execution_count": 4,
   "id": "a633c1af-951a-4836-8feb-e70e3f078415",
   "metadata": {},
   "outputs": [
    {
     "name": "stdout",
     "output_type": "stream",
     "text": [
      "<class 'pandas.core.frame.DataFrame'>\n",
      "RangeIndex: 2059 entries, 0 to 2058\n",
      "Data columns (total 20 columns):\n",
      " #   Column              Non-Null Count  Dtype  \n",
      "---  ------              --------------  -----  \n",
      " 0   Make                2059 non-null   object \n",
      " 1   Model               2059 non-null   object \n",
      " 2   Price               2059 non-null   int64  \n",
      " 3   Year                2059 non-null   int64  \n",
      " 4   Kilometer           2059 non-null   int64  \n",
      " 5   Fuel Type           2059 non-null   object \n",
      " 6   Transmission        2059 non-null   object \n",
      " 7   Location            2059 non-null   object \n",
      " 8   Color               2059 non-null   object \n",
      " 9   Owner               2059 non-null   object \n",
      " 10  Seller Type         2059 non-null   object \n",
      " 11  Engine              1979 non-null   object \n",
      " 12  Max Power           1979 non-null   object \n",
      " 13  Max Torque          1979 non-null   object \n",
      " 14  Drivetrain          1923 non-null   object \n",
      " 15  Length              1995 non-null   float64\n",
      " 16  Width               1995 non-null   float64\n",
      " 17  Height              1995 non-null   float64\n",
      " 18  Seating Capacity    1995 non-null   float64\n",
      " 19  Fuel Tank Capacity  1946 non-null   float64\n",
      "dtypes: float64(5), int64(3), object(12)\n",
      "memory usage: 321.8+ KB\n"
     ]
    }
   ],
   "source": [
    "df.info()"
   ]
  },
  {
   "cell_type": "markdown",
   "id": "170e9f61-f5e9-4cb6-b87b-f2215ad15b68",
   "metadata": {},
   "source": [
    "## Step 3 Exploratory Data Analysis (EDA)"
   ]
  },
  {
   "cell_type": "code",
   "execution_count": 5,
   "id": "2c033654-8401-4bda-aae0-e78f1d4286cc",
   "metadata": {},
   "outputs": [
    {
     "data": {
      "text/plain": [
       "Make\n",
       "Maruti Suzuki    440\n",
       "Hyundai          349\n",
       "Mercedes-Benz    171\n",
       "Honda            158\n",
       "Toyota           132\n",
       "Audi             127\n",
       "BMW              121\n",
       "Mahindra         119\n",
       "Tata              57\n",
       "Volkswagen        50\n",
       "Ford              48\n",
       "Renault           43\n",
       "Skoda             40\n",
       "Land Rover        33\n",
       "Kia               23\n",
       "Jeep              18\n",
       "Jaguar            17\n",
       "MG                17\n",
       "Nissan            16\n",
       "Volvo             16\n",
       "Porsche           15\n",
       "MINI              11\n",
       "Datsun             8\n",
       "Chevrolet          7\n",
       "Lexus              6\n",
       "Mitsubishi         4\n",
       "Ssangyong          3\n",
       "Rolls-Royce        3\n",
       "Isuzu              2\n",
       "Fiat               2\n",
       "Maserati           1\n",
       "Ferrari            1\n",
       "Lamborghini        1\n",
       "Name: count, dtype: int64"
      ]
     },
     "execution_count": 5,
     "metadata": {},
     "output_type": "execute_result"
    }
   ],
   "source": [
    "df['Make'].value_counts()"
   ]
  },
  {
   "cell_type": "code",
   "execution_count": 6,
   "id": "6ba65273-cb86-42a1-a8cb-d116c842daab",
   "metadata": {},
   "outputs": [
    {
     "data": {
      "text/plain": [
       "array(['Honda', 'Maruti Suzuki', 'Hyundai', 'Toyota', 'Mercedes-Benz',\n",
       "       'BMW', 'Skoda', 'Nissan', 'Renault', 'Tata', 'Volkswagen', 'Ford',\n",
       "       'Audi', 'Mahindra', 'MG', 'Jeep', 'Porsche', 'Kia', 'Land Rover',\n",
       "       'Volvo', 'Maserati', 'Jaguar', 'Isuzu', 'Fiat', 'MINI', 'Ferrari',\n",
       "       'Mitsubishi', 'Datsun', 'Lamborghini', 'Chevrolet', 'Ssangyong',\n",
       "       'Rolls-Royce', 'Lexus'], dtype=object)"
      ]
     },
     "execution_count": 6,
     "metadata": {},
     "output_type": "execute_result"
    }
   ],
   "source": [
    "df['Make'].unique()"
   ]
  },
  {
   "cell_type": "code",
   "execution_count": 7,
   "id": "432b82ad-193c-4e4f-89d9-1ba98d2c5919",
   "metadata": {},
   "outputs": [
    {
     "data": {
      "text/plain": [
       "33"
      ]
     },
     "execution_count": 7,
     "metadata": {},
     "output_type": "execute_result"
    }
   ],
   "source": [
    "df['Make'].nunique()"
   ]
  },
  {
   "cell_type": "code",
   "execution_count": 8,
   "id": "becf67bd-ab7c-4962-8ee3-6a63edb9d1ec",
   "metadata": {},
   "outputs": [
    {
     "data": {
      "text/html": [
       "<div>\n",
       "<style scoped>\n",
       "    .dataframe tbody tr th:only-of-type {\n",
       "        vertical-align: middle;\n",
       "    }\n",
       "\n",
       "    .dataframe tbody tr th {\n",
       "        vertical-align: top;\n",
       "    }\n",
       "\n",
       "    .dataframe thead th {\n",
       "        text-align: right;\n",
       "    }\n",
       "</style>\n",
       "<table border=\"1\" class=\"dataframe\">\n",
       "  <thead>\n",
       "    <tr style=\"text-align: right;\">\n",
       "      <th></th>\n",
       "      <th>Make_Audi</th>\n",
       "      <th>Make_BMW</th>\n",
       "      <th>Make_Chevrolet</th>\n",
       "      <th>Make_Datsun</th>\n",
       "      <th>Make_Ferrari</th>\n",
       "      <th>Make_Fiat</th>\n",
       "      <th>Make_Ford</th>\n",
       "      <th>Make_Honda</th>\n",
       "      <th>Make_Hyundai</th>\n",
       "      <th>Make_Isuzu</th>\n",
       "      <th>...</th>\n",
       "      <th>Make_Nissan</th>\n",
       "      <th>Make_Porsche</th>\n",
       "      <th>Make_Renault</th>\n",
       "      <th>Make_Rolls-Royce</th>\n",
       "      <th>Make_Skoda</th>\n",
       "      <th>Make_Ssangyong</th>\n",
       "      <th>Make_Tata</th>\n",
       "      <th>Make_Toyota</th>\n",
       "      <th>Make_Volkswagen</th>\n",
       "      <th>Make_Volvo</th>\n",
       "    </tr>\n",
       "  </thead>\n",
       "  <tbody>\n",
       "    <tr>\n",
       "      <th>0</th>\n",
       "      <td>False</td>\n",
       "      <td>False</td>\n",
       "      <td>False</td>\n",
       "      <td>False</td>\n",
       "      <td>False</td>\n",
       "      <td>False</td>\n",
       "      <td>False</td>\n",
       "      <td>True</td>\n",
       "      <td>False</td>\n",
       "      <td>False</td>\n",
       "      <td>...</td>\n",
       "      <td>False</td>\n",
       "      <td>False</td>\n",
       "      <td>False</td>\n",
       "      <td>False</td>\n",
       "      <td>False</td>\n",
       "      <td>False</td>\n",
       "      <td>False</td>\n",
       "      <td>False</td>\n",
       "      <td>False</td>\n",
       "      <td>False</td>\n",
       "    </tr>\n",
       "    <tr>\n",
       "      <th>1</th>\n",
       "      <td>False</td>\n",
       "      <td>False</td>\n",
       "      <td>False</td>\n",
       "      <td>False</td>\n",
       "      <td>False</td>\n",
       "      <td>False</td>\n",
       "      <td>False</td>\n",
       "      <td>False</td>\n",
       "      <td>False</td>\n",
       "      <td>False</td>\n",
       "      <td>...</td>\n",
       "      <td>False</td>\n",
       "      <td>False</td>\n",
       "      <td>False</td>\n",
       "      <td>False</td>\n",
       "      <td>False</td>\n",
       "      <td>False</td>\n",
       "      <td>False</td>\n",
       "      <td>False</td>\n",
       "      <td>False</td>\n",
       "      <td>False</td>\n",
       "    </tr>\n",
       "    <tr>\n",
       "      <th>2</th>\n",
       "      <td>False</td>\n",
       "      <td>False</td>\n",
       "      <td>False</td>\n",
       "      <td>False</td>\n",
       "      <td>False</td>\n",
       "      <td>False</td>\n",
       "      <td>False</td>\n",
       "      <td>False</td>\n",
       "      <td>True</td>\n",
       "      <td>False</td>\n",
       "      <td>...</td>\n",
       "      <td>False</td>\n",
       "      <td>False</td>\n",
       "      <td>False</td>\n",
       "      <td>False</td>\n",
       "      <td>False</td>\n",
       "      <td>False</td>\n",
       "      <td>False</td>\n",
       "      <td>False</td>\n",
       "      <td>False</td>\n",
       "      <td>False</td>\n",
       "    </tr>\n",
       "    <tr>\n",
       "      <th>3</th>\n",
       "      <td>False</td>\n",
       "      <td>False</td>\n",
       "      <td>False</td>\n",
       "      <td>False</td>\n",
       "      <td>False</td>\n",
       "      <td>False</td>\n",
       "      <td>False</td>\n",
       "      <td>False</td>\n",
       "      <td>False</td>\n",
       "      <td>False</td>\n",
       "      <td>...</td>\n",
       "      <td>False</td>\n",
       "      <td>False</td>\n",
       "      <td>False</td>\n",
       "      <td>False</td>\n",
       "      <td>False</td>\n",
       "      <td>False</td>\n",
       "      <td>False</td>\n",
       "      <td>True</td>\n",
       "      <td>False</td>\n",
       "      <td>False</td>\n",
       "    </tr>\n",
       "    <tr>\n",
       "      <th>4</th>\n",
       "      <td>False</td>\n",
       "      <td>False</td>\n",
       "      <td>False</td>\n",
       "      <td>False</td>\n",
       "      <td>False</td>\n",
       "      <td>False</td>\n",
       "      <td>False</td>\n",
       "      <td>False</td>\n",
       "      <td>False</td>\n",
       "      <td>False</td>\n",
       "      <td>...</td>\n",
       "      <td>False</td>\n",
       "      <td>False</td>\n",
       "      <td>False</td>\n",
       "      <td>False</td>\n",
       "      <td>False</td>\n",
       "      <td>False</td>\n",
       "      <td>False</td>\n",
       "      <td>True</td>\n",
       "      <td>False</td>\n",
       "      <td>False</td>\n",
       "    </tr>\n",
       "    <tr>\n",
       "      <th>...</th>\n",
       "      <td>...</td>\n",
       "      <td>...</td>\n",
       "      <td>...</td>\n",
       "      <td>...</td>\n",
       "      <td>...</td>\n",
       "      <td>...</td>\n",
       "      <td>...</td>\n",
       "      <td>...</td>\n",
       "      <td>...</td>\n",
       "      <td>...</td>\n",
       "      <td>...</td>\n",
       "      <td>...</td>\n",
       "      <td>...</td>\n",
       "      <td>...</td>\n",
       "      <td>...</td>\n",
       "      <td>...</td>\n",
       "      <td>...</td>\n",
       "      <td>...</td>\n",
       "      <td>...</td>\n",
       "      <td>...</td>\n",
       "      <td>...</td>\n",
       "    </tr>\n",
       "    <tr>\n",
       "      <th>2054</th>\n",
       "      <td>False</td>\n",
       "      <td>False</td>\n",
       "      <td>False</td>\n",
       "      <td>False</td>\n",
       "      <td>False</td>\n",
       "      <td>False</td>\n",
       "      <td>False</td>\n",
       "      <td>False</td>\n",
       "      <td>False</td>\n",
       "      <td>False</td>\n",
       "      <td>...</td>\n",
       "      <td>False</td>\n",
       "      <td>False</td>\n",
       "      <td>False</td>\n",
       "      <td>False</td>\n",
       "      <td>False</td>\n",
       "      <td>False</td>\n",
       "      <td>False</td>\n",
       "      <td>False</td>\n",
       "      <td>False</td>\n",
       "      <td>False</td>\n",
       "    </tr>\n",
       "    <tr>\n",
       "      <th>2055</th>\n",
       "      <td>False</td>\n",
       "      <td>False</td>\n",
       "      <td>False</td>\n",
       "      <td>False</td>\n",
       "      <td>False</td>\n",
       "      <td>False</td>\n",
       "      <td>False</td>\n",
       "      <td>False</td>\n",
       "      <td>True</td>\n",
       "      <td>False</td>\n",
       "      <td>...</td>\n",
       "      <td>False</td>\n",
       "      <td>False</td>\n",
       "      <td>False</td>\n",
       "      <td>False</td>\n",
       "      <td>False</td>\n",
       "      <td>False</td>\n",
       "      <td>False</td>\n",
       "      <td>False</td>\n",
       "      <td>False</td>\n",
       "      <td>False</td>\n",
       "    </tr>\n",
       "    <tr>\n",
       "      <th>2056</th>\n",
       "      <td>False</td>\n",
       "      <td>False</td>\n",
       "      <td>False</td>\n",
       "      <td>False</td>\n",
       "      <td>False</td>\n",
       "      <td>False</td>\n",
       "      <td>True</td>\n",
       "      <td>False</td>\n",
       "      <td>False</td>\n",
       "      <td>False</td>\n",
       "      <td>...</td>\n",
       "      <td>False</td>\n",
       "      <td>False</td>\n",
       "      <td>False</td>\n",
       "      <td>False</td>\n",
       "      <td>False</td>\n",
       "      <td>False</td>\n",
       "      <td>False</td>\n",
       "      <td>False</td>\n",
       "      <td>False</td>\n",
       "      <td>False</td>\n",
       "    </tr>\n",
       "    <tr>\n",
       "      <th>2057</th>\n",
       "      <td>False</td>\n",
       "      <td>True</td>\n",
       "      <td>False</td>\n",
       "      <td>False</td>\n",
       "      <td>False</td>\n",
       "      <td>False</td>\n",
       "      <td>False</td>\n",
       "      <td>False</td>\n",
       "      <td>False</td>\n",
       "      <td>False</td>\n",
       "      <td>...</td>\n",
       "      <td>False</td>\n",
       "      <td>False</td>\n",
       "      <td>False</td>\n",
       "      <td>False</td>\n",
       "      <td>False</td>\n",
       "      <td>False</td>\n",
       "      <td>False</td>\n",
       "      <td>False</td>\n",
       "      <td>False</td>\n",
       "      <td>False</td>\n",
       "    </tr>\n",
       "    <tr>\n",
       "      <th>2058</th>\n",
       "      <td>False</td>\n",
       "      <td>False</td>\n",
       "      <td>False</td>\n",
       "      <td>False</td>\n",
       "      <td>False</td>\n",
       "      <td>False</td>\n",
       "      <td>False</td>\n",
       "      <td>False</td>\n",
       "      <td>False</td>\n",
       "      <td>False</td>\n",
       "      <td>...</td>\n",
       "      <td>False</td>\n",
       "      <td>False</td>\n",
       "      <td>False</td>\n",
       "      <td>False</td>\n",
       "      <td>False</td>\n",
       "      <td>False</td>\n",
       "      <td>False</td>\n",
       "      <td>False</td>\n",
       "      <td>False</td>\n",
       "      <td>False</td>\n",
       "    </tr>\n",
       "  </tbody>\n",
       "</table>\n",
       "<p>2059 rows × 33 columns</p>\n",
       "</div>"
      ],
      "text/plain": [
       "      Make_Audi  Make_BMW  Make_Chevrolet  Make_Datsun  Make_Ferrari  \\\n",
       "0         False     False           False        False         False   \n",
       "1         False     False           False        False         False   \n",
       "2         False     False           False        False         False   \n",
       "3         False     False           False        False         False   \n",
       "4         False     False           False        False         False   \n",
       "...         ...       ...             ...          ...           ...   \n",
       "2054      False     False           False        False         False   \n",
       "2055      False     False           False        False         False   \n",
       "2056      False     False           False        False         False   \n",
       "2057      False      True           False        False         False   \n",
       "2058      False     False           False        False         False   \n",
       "\n",
       "      Make_Fiat  Make_Ford  Make_Honda  Make_Hyundai  Make_Isuzu  ...  \\\n",
       "0         False      False        True         False       False  ...   \n",
       "1         False      False       False         False       False  ...   \n",
       "2         False      False       False          True       False  ...   \n",
       "3         False      False       False         False       False  ...   \n",
       "4         False      False       False         False       False  ...   \n",
       "...         ...        ...         ...           ...         ...  ...   \n",
       "2054      False      False       False         False       False  ...   \n",
       "2055      False      False       False          True       False  ...   \n",
       "2056      False       True       False         False       False  ...   \n",
       "2057      False      False       False         False       False  ...   \n",
       "2058      False      False       False         False       False  ...   \n",
       "\n",
       "      Make_Nissan  Make_Porsche  Make_Renault  Make_Rolls-Royce  Make_Skoda  \\\n",
       "0           False         False         False             False       False   \n",
       "1           False         False         False             False       False   \n",
       "2           False         False         False             False       False   \n",
       "3           False         False         False             False       False   \n",
       "4           False         False         False             False       False   \n",
       "...           ...           ...           ...               ...         ...   \n",
       "2054        False         False         False             False       False   \n",
       "2055        False         False         False             False       False   \n",
       "2056        False         False         False             False       False   \n",
       "2057        False         False         False             False       False   \n",
       "2058        False         False         False             False       False   \n",
       "\n",
       "      Make_Ssangyong  Make_Tata  Make_Toyota  Make_Volkswagen  Make_Volvo  \n",
       "0              False      False        False            False       False  \n",
       "1              False      False        False            False       False  \n",
       "2              False      False        False            False       False  \n",
       "3              False      False         True            False       False  \n",
       "4              False      False         True            False       False  \n",
       "...              ...        ...          ...              ...         ...  \n",
       "2054           False      False        False            False       False  \n",
       "2055           False      False        False            False       False  \n",
       "2056           False      False        False            False       False  \n",
       "2057           False      False        False            False       False  \n",
       "2058           False      False        False            False       False  \n",
       "\n",
       "[2059 rows x 33 columns]"
      ]
     },
     "execution_count": 8,
     "metadata": {},
     "output_type": "execute_result"
    }
   ],
   "source": [
    "df_make= pd.get_dummies(df['Make'],prefix='Make')\n",
    "df_make"
   ]
  },
  {
   "cell_type": "code",
   "execution_count": 9,
   "id": "25d67fdc-9f04-4dd6-9d87-9a790b905b61",
   "metadata": {},
   "outputs": [],
   "source": [
    "df_make=df_make.astype(int)"
   ]
  },
  {
   "cell_type": "code",
   "execution_count": 10,
   "id": "4d8eb8bb-1a05-4008-80a8-fb06b6daca77",
   "metadata": {},
   "outputs": [
    {
     "data": {
      "text/html": [
       "<div>\n",
       "<style scoped>\n",
       "    .dataframe tbody tr th:only-of-type {\n",
       "        vertical-align: middle;\n",
       "    }\n",
       "\n",
       "    .dataframe tbody tr th {\n",
       "        vertical-align: top;\n",
       "    }\n",
       "\n",
       "    .dataframe thead th {\n",
       "        text-align: right;\n",
       "    }\n",
       "</style>\n",
       "<table border=\"1\" class=\"dataframe\">\n",
       "  <thead>\n",
       "    <tr style=\"text-align: right;\">\n",
       "      <th></th>\n",
       "      <th>Make_Audi</th>\n",
       "      <th>Make_BMW</th>\n",
       "      <th>Make_Chevrolet</th>\n",
       "      <th>Make_Datsun</th>\n",
       "      <th>Make_Ferrari</th>\n",
       "      <th>Make_Fiat</th>\n",
       "      <th>Make_Ford</th>\n",
       "      <th>Make_Honda</th>\n",
       "      <th>Make_Hyundai</th>\n",
       "      <th>Make_Isuzu</th>\n",
       "      <th>...</th>\n",
       "      <th>Make_Nissan</th>\n",
       "      <th>Make_Porsche</th>\n",
       "      <th>Make_Renault</th>\n",
       "      <th>Make_Rolls-Royce</th>\n",
       "      <th>Make_Skoda</th>\n",
       "      <th>Make_Ssangyong</th>\n",
       "      <th>Make_Tata</th>\n",
       "      <th>Make_Toyota</th>\n",
       "      <th>Make_Volkswagen</th>\n",
       "      <th>Make_Volvo</th>\n",
       "    </tr>\n",
       "  </thead>\n",
       "  <tbody>\n",
       "    <tr>\n",
       "      <th>0</th>\n",
       "      <td>0</td>\n",
       "      <td>0</td>\n",
       "      <td>0</td>\n",
       "      <td>0</td>\n",
       "      <td>0</td>\n",
       "      <td>0</td>\n",
       "      <td>0</td>\n",
       "      <td>1</td>\n",
       "      <td>0</td>\n",
       "      <td>0</td>\n",
       "      <td>...</td>\n",
       "      <td>0</td>\n",
       "      <td>0</td>\n",
       "      <td>0</td>\n",
       "      <td>0</td>\n",
       "      <td>0</td>\n",
       "      <td>0</td>\n",
       "      <td>0</td>\n",
       "      <td>0</td>\n",
       "      <td>0</td>\n",
       "      <td>0</td>\n",
       "    </tr>\n",
       "    <tr>\n",
       "      <th>1</th>\n",
       "      <td>0</td>\n",
       "      <td>0</td>\n",
       "      <td>0</td>\n",
       "      <td>0</td>\n",
       "      <td>0</td>\n",
       "      <td>0</td>\n",
       "      <td>0</td>\n",
       "      <td>0</td>\n",
       "      <td>0</td>\n",
       "      <td>0</td>\n",
       "      <td>...</td>\n",
       "      <td>0</td>\n",
       "      <td>0</td>\n",
       "      <td>0</td>\n",
       "      <td>0</td>\n",
       "      <td>0</td>\n",
       "      <td>0</td>\n",
       "      <td>0</td>\n",
       "      <td>0</td>\n",
       "      <td>0</td>\n",
       "      <td>0</td>\n",
       "    </tr>\n",
       "    <tr>\n",
       "      <th>2</th>\n",
       "      <td>0</td>\n",
       "      <td>0</td>\n",
       "      <td>0</td>\n",
       "      <td>0</td>\n",
       "      <td>0</td>\n",
       "      <td>0</td>\n",
       "      <td>0</td>\n",
       "      <td>0</td>\n",
       "      <td>1</td>\n",
       "      <td>0</td>\n",
       "      <td>...</td>\n",
       "      <td>0</td>\n",
       "      <td>0</td>\n",
       "      <td>0</td>\n",
       "      <td>0</td>\n",
       "      <td>0</td>\n",
       "      <td>0</td>\n",
       "      <td>0</td>\n",
       "      <td>0</td>\n",
       "      <td>0</td>\n",
       "      <td>0</td>\n",
       "    </tr>\n",
       "    <tr>\n",
       "      <th>3</th>\n",
       "      <td>0</td>\n",
       "      <td>0</td>\n",
       "      <td>0</td>\n",
       "      <td>0</td>\n",
       "      <td>0</td>\n",
       "      <td>0</td>\n",
       "      <td>0</td>\n",
       "      <td>0</td>\n",
       "      <td>0</td>\n",
       "      <td>0</td>\n",
       "      <td>...</td>\n",
       "      <td>0</td>\n",
       "      <td>0</td>\n",
       "      <td>0</td>\n",
       "      <td>0</td>\n",
       "      <td>0</td>\n",
       "      <td>0</td>\n",
       "      <td>0</td>\n",
       "      <td>1</td>\n",
       "      <td>0</td>\n",
       "      <td>0</td>\n",
       "    </tr>\n",
       "    <tr>\n",
       "      <th>4</th>\n",
       "      <td>0</td>\n",
       "      <td>0</td>\n",
       "      <td>0</td>\n",
       "      <td>0</td>\n",
       "      <td>0</td>\n",
       "      <td>0</td>\n",
       "      <td>0</td>\n",
       "      <td>0</td>\n",
       "      <td>0</td>\n",
       "      <td>0</td>\n",
       "      <td>...</td>\n",
       "      <td>0</td>\n",
       "      <td>0</td>\n",
       "      <td>0</td>\n",
       "      <td>0</td>\n",
       "      <td>0</td>\n",
       "      <td>0</td>\n",
       "      <td>0</td>\n",
       "      <td>1</td>\n",
       "      <td>0</td>\n",
       "      <td>0</td>\n",
       "    </tr>\n",
       "  </tbody>\n",
       "</table>\n",
       "<p>5 rows × 33 columns</p>\n",
       "</div>"
      ],
      "text/plain": [
       "   Make_Audi  Make_BMW  Make_Chevrolet  Make_Datsun  Make_Ferrari  Make_Fiat  \\\n",
       "0          0         0               0            0             0          0   \n",
       "1          0         0               0            0             0          0   \n",
       "2          0         0               0            0             0          0   \n",
       "3          0         0               0            0             0          0   \n",
       "4          0         0               0            0             0          0   \n",
       "\n",
       "   Make_Ford  Make_Honda  Make_Hyundai  Make_Isuzu  ...  Make_Nissan  \\\n",
       "0          0           1             0           0  ...            0   \n",
       "1          0           0             0           0  ...            0   \n",
       "2          0           0             1           0  ...            0   \n",
       "3          0           0             0           0  ...            0   \n",
       "4          0           0             0           0  ...            0   \n",
       "\n",
       "   Make_Porsche  Make_Renault  Make_Rolls-Royce  Make_Skoda  Make_Ssangyong  \\\n",
       "0             0             0                 0           0               0   \n",
       "1             0             0                 0           0               0   \n",
       "2             0             0                 0           0               0   \n",
       "3             0             0                 0           0               0   \n",
       "4             0             0                 0           0               0   \n",
       "\n",
       "   Make_Tata  Make_Toyota  Make_Volkswagen  Make_Volvo  \n",
       "0          0            0                0           0  \n",
       "1          0            0                0           0  \n",
       "2          0            0                0           0  \n",
       "3          0            1                0           0  \n",
       "4          0            1                0           0  \n",
       "\n",
       "[5 rows x 33 columns]"
      ]
     },
     "execution_count": 10,
     "metadata": {},
     "output_type": "execute_result"
    }
   ],
   "source": [
    "df_make.head()"
   ]
  },
  {
   "cell_type": "code",
   "execution_count": 11,
   "id": "506acebc-0067-4a79-926f-a6a821c588ac",
   "metadata": {},
   "outputs": [
    {
     "data": {
      "text/plain": [
       "array(['Honda', 'Maruti Suzuki', 'Hyundai', 'Toyota', 'Mercedes-Benz',\n",
       "       'BMW', 'Skoda', 'Nissan', 'Renault', 'Tata', 'Volkswagen', 'Ford',\n",
       "       'Audi', 'Mahindra', 'MG', 'Jeep', 'Porsche', 'Kia', 'Land Rover',\n",
       "       'Volvo', 'Maserati', 'Jaguar', 'Isuzu', 'Fiat', 'MINI', 'Ferrari',\n",
       "       'Mitsubishi', 'Datsun', 'Lamborghini', 'Chevrolet', 'Ssangyong',\n",
       "       'Rolls-Royce', 'Lexus'], dtype=object)"
      ]
     },
     "execution_count": 11,
     "metadata": {},
     "output_type": "execute_result"
    }
   ],
   "source": [
    "df['Make'].unique()"
   ]
  },
  {
   "cell_type": "markdown",
   "id": "e695e5e3-9be7-47a8-a972-7831aac2c1d1",
   "metadata": {},
   "source": [
    "### want ot find out which type of encoding should we use"
   ]
  },
  {
   "cell_type": "code",
   "execution_count": 12,
   "id": "81b852a0-c2a0-4f3a-a51e-2d668dd359bc",
   "metadata": {},
   "outputs": [
    {
     "data": {
      "text/plain": [
       "Model\n",
       "X1 sDrive20d xLine                 15\n",
       "Swift DZire VDI                    14\n",
       "City V                             13\n",
       "Fortuner 2.8 4x2 AT [2016-2020]    13\n",
       "Swift DZire VXI                    12\n",
       "                                   ..\n",
       "XF R 5.0 V8 Supercharged            1\n",
       "Pajero SFX 2.8                      1\n",
       "Etios G                             1\n",
       "Marazzo M6 Plus 8 STR               1\n",
       "Figo Duratec Petrol ZXI 1.2         1\n",
       "Name: count, Length: 1050, dtype: int64"
      ]
     },
     "execution_count": 12,
     "metadata": {},
     "output_type": "execute_result"
    }
   ],
   "source": [
    "df['Model'].value_counts()"
   ]
  },
  {
   "cell_type": "code",
   "execution_count": 13,
   "id": "c8fef6d6-edfd-4682-b862-0f376520fe42",
   "metadata": {},
   "outputs": [
    {
     "data": {
      "text/plain": [
       "array(['Amaze 1.2 VX i-VTEC', 'Swift DZire VDI', 'i10 Magna 1.2 Kappa2',\n",
       "       ..., 'Ritz Vxi (ABS) BS-IV', 'XUV500 W8 [2015-2017]',\n",
       "       'Figo Duratec Petrol ZXI 1.2'], dtype=object)"
      ]
     },
     "execution_count": 13,
     "metadata": {},
     "output_type": "execute_result"
    }
   ],
   "source": [
    "df['Model'].unique()"
   ]
  },
  {
   "cell_type": "code",
   "execution_count": 14,
   "id": "f0bb4896-0bd6-4e5e-be5c-10437bedc59a",
   "metadata": {},
   "outputs": [
    {
     "data": {
      "text/plain": [
       "1050"
      ]
     },
     "execution_count": 14,
     "metadata": {},
     "output_type": "execute_result"
    }
   ],
   "source": [
    "df['Model'].nunique()"
   ]
  },
  {
   "cell_type": "code",
   "execution_count": 17,
   "id": "51328d80-ad63-4c01-a2c6-2553ec480e80",
   "metadata": {},
   "outputs": [
    {
     "data": {
      "text/plain": [
       "0        106\n",
       "1        802\n",
       "2       1030\n",
       "3        492\n",
       "4        548\n",
       "        ... \n",
       "2054     999\n",
       "2055     414\n",
       "2056     455\n",
       "2057      13\n",
       "2058     138\n",
       "Name: Model, Length: 2059, dtype: int64"
      ]
     },
     "execution_count": 17,
     "metadata": {},
     "output_type": "execute_result"
    }
   ],
   "source": [
    "df['Model']=label_encoder.fit_transform(df['Model'])\n",
    "df['Model']"
   ]
  },
  {
   "cell_type": "code",
   "execution_count": 18,
   "id": "334c01ce-2913-41f1-8fe5-ef87e0a040a0",
   "metadata": {},
   "outputs": [
    {
     "data": {
      "text/plain": [
       "0"
      ]
     },
     "execution_count": 18,
     "metadata": {},
     "output_type": "execute_result"
    }
   ],
   "source": [
    "df['Model'].isna().sum()"
   ]
  },
  {
   "cell_type": "code",
   "execution_count": 20,
   "id": "0d23d648-73c3-40f9-8436-a621567d1f73",
   "metadata": {},
   "outputs": [
    {
     "data": {
      "text/plain": [
       "Price\n",
       "425000     26\n",
       "625000     24\n",
       "650000     22\n",
       "450000     20\n",
       "375000     20\n",
       "           ..\n",
       "1698999     1\n",
       "3995000     1\n",
       "9200000     1\n",
       "426999      1\n",
       "670000      1\n",
       "Name: count, Length: 619, dtype: int64"
      ]
     },
     "execution_count": 20,
     "metadata": {},
     "output_type": "execute_result"
    }
   ],
   "source": [
    "df['Price'].value_counts()"
   ]
  },
  {
   "cell_type": "code",
   "execution_count": 21,
   "id": "0cf69f06-1cf9-4fe3-aa62-007c84cd18fc",
   "metadata": {},
   "outputs": [
    {
     "data": {
      "text/plain": [
       "0"
      ]
     },
     "execution_count": 21,
     "metadata": {},
     "output_type": "execute_result"
    }
   ],
   "source": [
    "df['Price'].isna().sum()"
   ]
  },
  {
   "cell_type": "code",
   "execution_count": 23,
   "id": "37ac7ea5-6a1e-442e-940f-1409ee35d8ae",
   "metadata": {},
   "outputs": [
    {
     "data": {
      "text/plain": [
       "Year\n",
       "2018    268\n",
       "2017    262\n",
       "2019    218\n",
       "2014    192\n",
       "2016    187\n",
       "2015    178\n",
       "2021    156\n",
       "2020    132\n",
       "2013    128\n",
       "2012     92\n",
       "2022     81\n",
       "2011     79\n",
       "2009     33\n",
       "2010     27\n",
       "2008     13\n",
       "2007      6\n",
       "2006      2\n",
       "2004      1\n",
       "2002      1\n",
       "1988      1\n",
       "2000      1\n",
       "1996      1\n",
       "Name: count, dtype: int64"
      ]
     },
     "execution_count": 23,
     "metadata": {},
     "output_type": "execute_result"
    }
   ],
   "source": [
    "df['Year'].value_counts()"
   ]
  },
  {
   "cell_type": "code",
   "execution_count": 24,
   "id": "d9c80e71-3aab-4e84-9190-00639f94809f",
   "metadata": {},
   "outputs": [
    {
     "data": {
      "text/plain": [
       "array([2017, 2014, 2011, 2019, 2018, 2015, 2016, 2020, 2013, 2009, 2010,\n",
       "       2021, 2012, 2006, 2022, 2007, 2008, 2004, 2002, 1988, 2000, 1996],\n",
       "      dtype=int64)"
      ]
     },
     "execution_count": 24,
     "metadata": {},
     "output_type": "execute_result"
    }
   ],
   "source": [
    "df['Year'].unique()"
   ]
  },
  {
   "cell_type": "code",
   "execution_count": 25,
   "id": "8fbf30bd-4991-4b18-b8c6-ae3fedd0420e",
   "metadata": {},
   "outputs": [
    {
     "data": {
      "text/plain": [
       "22"
      ]
     },
     "execution_count": 25,
     "metadata": {},
     "output_type": "execute_result"
    }
   ],
   "source": [
    "df['Year'].nunique()"
   ]
  },
  {
   "cell_type": "code",
   "execution_count": 26,
   "id": "0b8d4c6d-03c9-482c-8b61-2b2155d2627b",
   "metadata": {},
   "outputs": [
    {
     "data": {
      "text/plain": [
       "<Axes: xlabel='Year'>"
      ]
     },
     "execution_count": 26,
     "metadata": {},
     "output_type": "execute_result"
    },
    {
     "data": {
      "image/png": "[encoded data removed]",
      "text/plain": [
       "<Figure size 640x480 with 1 Axes>"
      ]
     },
     "metadata": {},
     "output_type": "display_data"
    }
   ],
   "source": [
    "sns.boxplot(data=df, x='Year')"
   ]
  },
  {
   "cell_type": "code",
   "execution_count": 27,
   "id": "04986fa5-eabd-440c-8572-10a97c9146b9",
   "metadata": {},
   "outputs": [
    {
     "data": {
      "image/png": "[encoded data removed]",
      "text/plain": [
       "<Figure size 640x480 with 1 Axes>"
      ]
     },
     "metadata": {},
     "output_type": "display_data"
    }
   ],
   "source": [
    "sns.histplot(data=df, x='Year');"
   ]
  },
  {
   "cell_type": "markdown",
   "id": "0d765192-e0c9-44d2-8b79-cd4c89720a85",
   "metadata": {},
   "source": [
    "- Most of the cars manufactured in the year 2016 to 2018"
   ]
  },
  {
   "cell_type": "code",
   "execution_count": 28,
   "id": "4a71513e-153e-4a55-8aeb-01808dc5fc56",
   "metadata": {},
   "outputs": [
    {
     "data": {
      "text/plain": [
       "Kilometer\n",
       "65000    33\n",
       "72000    32\n",
       "75000    29\n",
       "45000    29\n",
       "50000    29\n",
       "         ..\n",
       "72600     1\n",
       "42313     1\n",
       "26200     1\n",
       "14366     1\n",
       "60474     1\n",
       "Name: count, Length: 847, dtype: int64"
      ]
     },
     "execution_count": 28,
     "metadata": {},
     "output_type": "execute_result"
    }
   ],
   "source": [
    "df['Kilometer'].value_counts()"
   ]
  },
  {
   "cell_type": "code",
   "execution_count": 29,
   "id": "9473b38a-be21-4bf0-8c8b-854e90a28a55",
   "metadata": {},
   "outputs": [
    {
     "data": {
      "text/plain": [
       "0"
      ]
     },
     "execution_count": 29,
     "metadata": {},
     "output_type": "execute_result"
    }
   ],
   "source": [
    "df['Kilometer'].isna().sum()"
   ]
  },
  {
   "cell_type": "code",
   "execution_count": 30,
   "id": "e643c523-fc5f-4cd1-8176-5407f64cd51b",
   "metadata": {},
   "outputs": [
    {
     "data": {
      "image/png": "[encoded data removed]",
      "text/plain": [
       "<Figure size 640x480 with 1 Axes>"
      ]
     },
     "metadata": {},
     "output_type": "display_data"
    }
   ],
   "source": [
    "sns.histplot(df['Kilometer'], kde=True)\n",
    "\n",
    "# Set the x-axis limits\n",
    "plt.xlim(0, 200000)  # Change these values based on your data range\n",
    "\n",
    "# Add titles and labels\n",
    "plt.title('Distribution of Kilometers Driven')\n",
    "plt.xlabel('Kilometers')\n",
    "plt.ylabel('Frequency')\n",
    "\n",
    "# Show the plot\n",
    "plt.show()"
   ]
  },
  {
   "cell_type": "code",
   "execution_count": 31,
   "id": "78a28e2f-81b2-4901-a068-192612c5c24a",
   "metadata": {},
   "outputs": [
    {
     "name": "stdout",
     "output_type": "stream",
     "text": [
      "<class 'pandas.core.frame.DataFrame'>\n",
      "RangeIndex: 2059 entries, 0 to 2058\n",
      "Data columns (total 20 columns):\n",
      " #   Column              Non-Null Count  Dtype  \n",
      "---  ------              --------------  -----  \n",
      " 0   Make                2059 non-null   object \n",
      " 1   Model               2059 non-null   int64  \n",
      " 2   Price               2059 non-null   int64  \n",
      " 3   Year                2059 non-null   int64  \n",
      " 4   Kilometer           2059 non-null   int64  \n",
      " 5   Fuel Type           2059 non-null   object \n",
      " 6   Transmission        2059 non-null   object \n",
      " 7   Location            2059 non-null   object \n",
      " 8   Color               2059 non-null   object \n",
      " 9   Owner               2059 non-null   object \n",
      " 10  Seller Type         2059 non-null   object \n",
      " 11  Engine              1979 non-null   object \n",
      " 12  Max Power           1979 non-null   object \n",
      " 13  Max Torque          1979 non-null   object \n",
      " 14  Drivetrain          1923 non-null   object \n",
      " 15  Length              1995 non-null   float64\n",
      " 16  Width               1995 non-null   float64\n",
      " 17  Height              1995 non-null   float64\n",
      " 18  Seating Capacity    1995 non-null   float64\n",
      " 19  Fuel Tank Capacity  1946 non-null   float64\n",
      "dtypes: float64(5), int64(4), object(11)\n",
      "memory usage: 321.8+ KB\n"
     ]
    }
   ],
   "source": [
    "df.info()"
   ]
  },
  {
   "cell_type": "code",
   "execution_count": 32,
   "id": "c2a5d15a-fa9d-437a-82d5-c1e4b43d8fbc",
   "metadata": {},
   "outputs": [
    {
     "data": {
      "text/plain": [
       "Fuel Type\n",
       "Diesel          1049\n",
       "Petrol           942\n",
       "CNG               50\n",
       "Electric           7\n",
       "LPG                5\n",
       "Hybrid             3\n",
       "CNG + CNG          1\n",
       "Petrol + CNG       1\n",
       "Petrol + LPG       1\n",
       "Name: count, dtype: int64"
      ]
     },
     "execution_count": 32,
     "metadata": {},
     "output_type": "execute_result"
    }
   ],
   "source": [
    "df['Fuel Type'].value_counts()"
   ]
  },
  {
   "cell_type": "code",
   "execution_count": 33,
   "id": "5b1c50cd-46ad-4eac-9a15-ada2a3d050c2",
   "metadata": {},
   "outputs": [
    {
     "data": {
      "text/plain": [
       "array(['Petrol', 'Diesel', 'CNG', 'LPG', 'Electric', 'CNG + CNG',\n",
       "       'Hybrid', 'Petrol + CNG', 'Petrol + LPG'], dtype=object)"
      ]
     },
     "execution_count": 33,
     "metadata": {},
     "output_type": "execute_result"
    }
   ],
   "source": [
    "df['Fuel Type'].unique()"
   ]
  },
  {
   "cell_type": "code",
   "execution_count": 34,
   "id": "963ee55e-a90f-4aa1-a715-af055ac2e79e",
   "metadata": {},
   "outputs": [
    {
     "data": {
      "text/plain": [
       "9"
      ]
     },
     "execution_count": 34,
     "metadata": {},
     "output_type": "execute_result"
    }
   ],
   "source": [
    "df['Fuel Type'].nunique()"
   ]
  },
  {
   "cell_type": "code",
   "execution_count": 35,
   "id": "51e91f66-5f60-4e63-87ad-d0f4f3d71014",
   "metadata": {},
   "outputs": [],
   "source": [
    "from sklearn.preprocessing import LabelEncoder\n",
    "label_encoder=LabelEncoder()"
   ]
  },
  {
   "cell_type": "code",
   "execution_count": 36,
   "id": "13c652a0-1aa7-40b8-902d-00c87ebc9daf",
   "metadata": {},
   "outputs": [],
   "source": [
    "df['Fuel Type'] = label_encoder.fit_transform(df['Fuel Type'])"
   ]
  },
  {
   "cell_type": "code",
   "execution_count": 37,
   "id": "61f7eb0f-3eea-4165-9e89-2963402ecfec",
   "metadata": {},
   "outputs": [
    {
     "data": {
      "text/plain": [
       "array([6, 2, 0, 5, 3, 1, 4, 7, 8])"
      ]
     },
     "execution_count": 37,
     "metadata": {},
     "output_type": "execute_result"
    }
   ],
   "source": [
    "df['Fuel Type'].unique()       # To check whether the column names changes or not"
   ]
  },
  {
   "cell_type": "code",
   "execution_count": 125,
   "id": "cbaa6c0f-1a79-4f5c-aab1-42b99e2eb8d1",
   "metadata": {},
   "outputs": [
    {
     "data": {
      "text/plain": [
       "Transmission\n",
       "Manual       1133\n",
       "Automatic     926\n",
       "Name: count, dtype: int64"
      ]
     },
     "execution_count": 125,
     "metadata": {},
     "output_type": "execute_result"
    }
   ],
   "source": [
    "df['Transmission'].value_counts()"
   ]
  },
  {
   "cell_type": "code",
   "execution_count": 126,
   "id": "751e3644-0474-4c5a-ace8-d3ea948e1ec7",
   "metadata": {},
   "outputs": [],
   "source": [
    "df['Transmission'].replace({'Manual':0,'Automatic':1},inplace=True)"
   ]
  },
  {
   "cell_type": "code",
   "execution_count": 128,
   "id": "a771778b-7c91-4fb2-83e5-a3fb63fb189f",
   "metadata": {},
   "outputs": [
    {
     "data": {
      "text/plain": [
       "array([0, 1], dtype=int64)"
      ]
     },
     "execution_count": 128,
     "metadata": {},
     "output_type": "execute_result"
    }
   ],
   "source": [
    "df['Transmission'].unique()"
   ]
  },
  {
   "cell_type": "code",
   "execution_count": 131,
   "id": "cb3317ff-a231-4c89-9157-b85043553699",
   "metadata": {},
   "outputs": [
    {
     "data": {
      "text/plain": [
       "0       0\n",
       "1       0\n",
       "2       0\n",
       "3       0\n",
       "4       0\n",
       "       ..\n",
       "2054    0\n",
       "2055    0\n",
       "2056    0\n",
       "2057    1\n",
       "2058    0\n",
       "Name: Transmission, Length: 2059, dtype: int64"
      ]
     },
     "execution_count": 131,
     "metadata": {},
     "output_type": "execute_result"
    }
   ],
   "source": [
    "df['Transmission']"
   ]
  },
  {
   "cell_type": "code",
   "execution_count": 41,
   "id": "02c724d8-c99e-44e5-9866-2803c32fc598",
   "metadata": {},
   "outputs": [
    {
     "data": {
      "text/plain": [
       "Location\n",
       "Mumbai              342\n",
       "Delhi               307\n",
       "Pune                144\n",
       "Bangalore           132\n",
       "Hyderabad           116\n",
       "                   ... \n",
       "Faizabad              1\n",
       "Pimpri-Chinchwad      1\n",
       "Rohtak                1\n",
       "Valsad                1\n",
       "Siliguri              1\n",
       "Name: count, Length: 77, dtype: int64"
      ]
     },
     "execution_count": 41,
     "metadata": {},
     "output_type": "execute_result"
    }
   ],
   "source": [
    "df['Location'].value_counts()"
   ]
  },
  {
   "cell_type": "code",
   "execution_count": 42,
   "id": "33cf7b63-e2bf-4630-8ea1-82e0a235381b",
   "metadata": {},
   "outputs": [
    {
     "data": {
      "text/plain": [
       "0"
      ]
     },
     "execution_count": 42,
     "metadata": {},
     "output_type": "execute_result"
    }
   ],
   "source": [
    "df['Location'].isna().sum()"
   ]
  },
  {
   "cell_type": "code",
   "execution_count": 43,
   "id": "1b4984ec-ede2-4ba9-b979-1ae11dd9a0b0",
   "metadata": {},
   "outputs": [
    {
     "data": {
      "text/html": [
       "<div>\n",
       "<style scoped>\n",
       "    .dataframe tbody tr th:only-of-type {\n",
       "        vertical-align: middle;\n",
       "    }\n",
       "\n",
       "    .dataframe tbody tr th {\n",
       "        vertical-align: top;\n",
       "    }\n",
       "\n",
       "    .dataframe thead th {\n",
       "        text-align: right;\n",
       "    }\n",
       "</style>\n",
       "<table border=\"1\" class=\"dataframe\">\n",
       "  <thead>\n",
       "    <tr style=\"text-align: right;\">\n",
       "      <th></th>\n",
       "      <th>loaction_Agra</th>\n",
       "      <th>loaction_Ahmedabad</th>\n",
       "      <th>loaction_Allahabad</th>\n",
       "      <th>loaction_Ambala Cantt</th>\n",
       "      <th>loaction_Amritsar</th>\n",
       "      <th>loaction_Aurangabad</th>\n",
       "      <th>loaction_Bangalore</th>\n",
       "      <th>loaction_Bhopal</th>\n",
       "      <th>loaction_Bhubaneswar</th>\n",
       "      <th>loaction_Bulandshahar</th>\n",
       "      <th>...</th>\n",
       "      <th>loaction_Surat</th>\n",
       "      <th>loaction_Thane</th>\n",
       "      <th>loaction_Udupi</th>\n",
       "      <th>loaction_Unnao</th>\n",
       "      <th>loaction_Vadodara</th>\n",
       "      <th>loaction_Valsad</th>\n",
       "      <th>loaction_Varanasi</th>\n",
       "      <th>loaction_Warangal</th>\n",
       "      <th>loaction_Yamunanagar</th>\n",
       "      <th>loaction_Zirakpur</th>\n",
       "    </tr>\n",
       "  </thead>\n",
       "  <tbody>\n",
       "    <tr>\n",
       "      <th>0</th>\n",
       "      <td>False</td>\n",
       "      <td>False</td>\n",
       "      <td>False</td>\n",
       "      <td>False</td>\n",
       "      <td>False</td>\n",
       "      <td>False</td>\n",
       "      <td>False</td>\n",
       "      <td>False</td>\n",
       "      <td>False</td>\n",
       "      <td>False</td>\n",
       "      <td>...</td>\n",
       "      <td>False</td>\n",
       "      <td>False</td>\n",
       "      <td>False</td>\n",
       "      <td>False</td>\n",
       "      <td>False</td>\n",
       "      <td>False</td>\n",
       "      <td>False</td>\n",
       "      <td>False</td>\n",
       "      <td>False</td>\n",
       "      <td>False</td>\n",
       "    </tr>\n",
       "    <tr>\n",
       "      <th>1</th>\n",
       "      <td>False</td>\n",
       "      <td>False</td>\n",
       "      <td>False</td>\n",
       "      <td>False</td>\n",
       "      <td>False</td>\n",
       "      <td>False</td>\n",
       "      <td>False</td>\n",
       "      <td>False</td>\n",
       "      <td>False</td>\n",
       "      <td>False</td>\n",
       "      <td>...</td>\n",
       "      <td>False</td>\n",
       "      <td>False</td>\n",
       "      <td>False</td>\n",
       "      <td>False</td>\n",
       "      <td>False</td>\n",
       "      <td>False</td>\n",
       "      <td>False</td>\n",
       "      <td>False</td>\n",
       "      <td>False</td>\n",
       "      <td>False</td>\n",
       "    </tr>\n",
       "    <tr>\n",
       "      <th>2</th>\n",
       "      <td>False</td>\n",
       "      <td>False</td>\n",
       "      <td>False</td>\n",
       "      <td>False</td>\n",
       "      <td>False</td>\n",
       "      <td>False</td>\n",
       "      <td>False</td>\n",
       "      <td>False</td>\n",
       "      <td>False</td>\n",
       "      <td>False</td>\n",
       "      <td>...</td>\n",
       "      <td>False</td>\n",
       "      <td>False</td>\n",
       "      <td>False</td>\n",
       "      <td>False</td>\n",
       "      <td>False</td>\n",
       "      <td>False</td>\n",
       "      <td>False</td>\n",
       "      <td>False</td>\n",
       "      <td>False</td>\n",
       "      <td>False</td>\n",
       "    </tr>\n",
       "    <tr>\n",
       "      <th>3</th>\n",
       "      <td>False</td>\n",
       "      <td>False</td>\n",
       "      <td>False</td>\n",
       "      <td>False</td>\n",
       "      <td>False</td>\n",
       "      <td>False</td>\n",
       "      <td>False</td>\n",
       "      <td>False</td>\n",
       "      <td>False</td>\n",
       "      <td>False</td>\n",
       "      <td>...</td>\n",
       "      <td>False</td>\n",
       "      <td>False</td>\n",
       "      <td>False</td>\n",
       "      <td>False</td>\n",
       "      <td>False</td>\n",
       "      <td>False</td>\n",
       "      <td>False</td>\n",
       "      <td>False</td>\n",
       "      <td>False</td>\n",
       "      <td>False</td>\n",
       "    </tr>\n",
       "    <tr>\n",
       "      <th>4</th>\n",
       "      <td>False</td>\n",
       "      <td>False</td>\n",
       "      <td>False</td>\n",
       "      <td>False</td>\n",
       "      <td>False</td>\n",
       "      <td>False</td>\n",
       "      <td>False</td>\n",
       "      <td>False</td>\n",
       "      <td>False</td>\n",
       "      <td>False</td>\n",
       "      <td>...</td>\n",
       "      <td>False</td>\n",
       "      <td>False</td>\n",
       "      <td>False</td>\n",
       "      <td>False</td>\n",
       "      <td>False</td>\n",
       "      <td>False</td>\n",
       "      <td>False</td>\n",
       "      <td>False</td>\n",
       "      <td>False</td>\n",
       "      <td>False</td>\n",
       "    </tr>\n",
       "    <tr>\n",
       "      <th>...</th>\n",
       "      <td>...</td>\n",
       "      <td>...</td>\n",
       "      <td>...</td>\n",
       "      <td>...</td>\n",
       "      <td>...</td>\n",
       "      <td>...</td>\n",
       "      <td>...</td>\n",
       "      <td>...</td>\n",
       "      <td>...</td>\n",
       "      <td>...</td>\n",
       "      <td>...</td>\n",
       "      <td>...</td>\n",
       "      <td>...</td>\n",
       "      <td>...</td>\n",
       "      <td>...</td>\n",
       "      <td>...</td>\n",
       "      <td>...</td>\n",
       "      <td>...</td>\n",
       "      <td>...</td>\n",
       "      <td>...</td>\n",
       "      <td>...</td>\n",
       "    </tr>\n",
       "    <tr>\n",
       "      <th>2054</th>\n",
       "      <td>False</td>\n",
       "      <td>False</td>\n",
       "      <td>False</td>\n",
       "      <td>False</td>\n",
       "      <td>False</td>\n",
       "      <td>False</td>\n",
       "      <td>False</td>\n",
       "      <td>False</td>\n",
       "      <td>False</td>\n",
       "      <td>False</td>\n",
       "      <td>...</td>\n",
       "      <td>True</td>\n",
       "      <td>False</td>\n",
       "      <td>False</td>\n",
       "      <td>False</td>\n",
       "      <td>False</td>\n",
       "      <td>False</td>\n",
       "      <td>False</td>\n",
       "      <td>False</td>\n",
       "      <td>False</td>\n",
       "      <td>False</td>\n",
       "    </tr>\n",
       "    <tr>\n",
       "      <th>2055</th>\n",
       "      <td>False</td>\n",
       "      <td>True</td>\n",
       "      <td>False</td>\n",
       "      <td>False</td>\n",
       "      <td>False</td>\n",
       "      <td>False</td>\n",
       "      <td>False</td>\n",
       "      <td>False</td>\n",
       "      <td>False</td>\n",
       "      <td>False</td>\n",
       "      <td>...</td>\n",
       "      <td>False</td>\n",
       "      <td>False</td>\n",
       "      <td>False</td>\n",
       "      <td>False</td>\n",
       "      <td>False</td>\n",
       "      <td>False</td>\n",
       "      <td>False</td>\n",
       "      <td>False</td>\n",
       "      <td>False</td>\n",
       "      <td>False</td>\n",
       "    </tr>\n",
       "    <tr>\n",
       "      <th>2056</th>\n",
       "      <td>False</td>\n",
       "      <td>False</td>\n",
       "      <td>False</td>\n",
       "      <td>False</td>\n",
       "      <td>False</td>\n",
       "      <td>False</td>\n",
       "      <td>False</td>\n",
       "      <td>False</td>\n",
       "      <td>False</td>\n",
       "      <td>False</td>\n",
       "      <td>...</td>\n",
       "      <td>False</td>\n",
       "      <td>True</td>\n",
       "      <td>False</td>\n",
       "      <td>False</td>\n",
       "      <td>False</td>\n",
       "      <td>False</td>\n",
       "      <td>False</td>\n",
       "      <td>False</td>\n",
       "      <td>False</td>\n",
       "      <td>False</td>\n",
       "    </tr>\n",
       "    <tr>\n",
       "      <th>2057</th>\n",
       "      <td>False</td>\n",
       "      <td>False</td>\n",
       "      <td>False</td>\n",
       "      <td>False</td>\n",
       "      <td>False</td>\n",
       "      <td>False</td>\n",
       "      <td>False</td>\n",
       "      <td>False</td>\n",
       "      <td>False</td>\n",
       "      <td>False</td>\n",
       "      <td>...</td>\n",
       "      <td>False</td>\n",
       "      <td>False</td>\n",
       "      <td>False</td>\n",
       "      <td>False</td>\n",
       "      <td>False</td>\n",
       "      <td>False</td>\n",
       "      <td>False</td>\n",
       "      <td>False</td>\n",
       "      <td>False</td>\n",
       "      <td>False</td>\n",
       "    </tr>\n",
       "    <tr>\n",
       "      <th>2058</th>\n",
       "      <td>False</td>\n",
       "      <td>False</td>\n",
       "      <td>False</td>\n",
       "      <td>False</td>\n",
       "      <td>False</td>\n",
       "      <td>False</td>\n",
       "      <td>False</td>\n",
       "      <td>False</td>\n",
       "      <td>False</td>\n",
       "      <td>False</td>\n",
       "      <td>...</td>\n",
       "      <td>False</td>\n",
       "      <td>False</td>\n",
       "      <td>False</td>\n",
       "      <td>False</td>\n",
       "      <td>False</td>\n",
       "      <td>False</td>\n",
       "      <td>False</td>\n",
       "      <td>False</td>\n",
       "      <td>False</td>\n",
       "      <td>False</td>\n",
       "    </tr>\n",
       "  </tbody>\n",
       "</table>\n",
       "<p>2059 rows × 77 columns</p>\n",
       "</div>"
      ],
      "text/plain": [
       "      loaction_Agra  loaction_Ahmedabad  loaction_Allahabad  \\\n",
       "0             False               False               False   \n",
       "1             False               False               False   \n",
       "2             False               False               False   \n",
       "3             False               False               False   \n",
       "4             False               False               False   \n",
       "...             ...                 ...                 ...   \n",
       "2054          False               False               False   \n",
       "2055          False                True               False   \n",
       "2056          False               False               False   \n",
       "2057          False               False               False   \n",
       "2058          False               False               False   \n",
       "\n",
       "      loaction_Ambala Cantt  loaction_Amritsar  loaction_Aurangabad  \\\n",
       "0                     False              False                False   \n",
       "1                     False              False                False   \n",
       "2                     False              False                False   \n",
       "3                     False              False                False   \n",
       "4                     False              False                False   \n",
       "...                     ...                ...                  ...   \n",
       "2054                  False              False                False   \n",
       "2055                  False              False                False   \n",
       "2056                  False              False                False   \n",
       "2057                  False              False                False   \n",
       "2058                  False              False                False   \n",
       "\n",
       "      loaction_Bangalore  loaction_Bhopal  loaction_Bhubaneswar  \\\n",
       "0                  False            False                 False   \n",
       "1                  False            False                 False   \n",
       "2                  False            False                 False   \n",
       "3                  False            False                 False   \n",
       "4                  False            False                 False   \n",
       "...                  ...              ...                   ...   \n",
       "2054               False            False                 False   \n",
       "2055               False            False                 False   \n",
       "2056               False            False                 False   \n",
       "2057               False            False                 False   \n",
       "2058               False            False                 False   \n",
       "\n",
       "      loaction_Bulandshahar  ...  loaction_Surat  loaction_Thane  \\\n",
       "0                     False  ...           False           False   \n",
       "1                     False  ...           False           False   \n",
       "2                     False  ...           False           False   \n",
       "3                     False  ...           False           False   \n",
       "4                     False  ...           False           False   \n",
       "...                     ...  ...             ...             ...   \n",
       "2054                  False  ...            True           False   \n",
       "2055                  False  ...           False           False   \n",
       "2056                  False  ...           False            True   \n",
       "2057                  False  ...           False           False   \n",
       "2058                  False  ...           False           False   \n",
       "\n",
       "      loaction_Udupi  loaction_Unnao  loaction_Vadodara  loaction_Valsad  \\\n",
       "0              False           False              False            False   \n",
       "1              False           False              False            False   \n",
       "2              False           False              False            False   \n",
       "3              False           False              False            False   \n",
       "4              False           False              False            False   \n",
       "...              ...             ...                ...              ...   \n",
       "2054           False           False              False            False   \n",
       "2055           False           False              False            False   \n",
       "2056           False           False              False            False   \n",
       "2057           False           False              False            False   \n",
       "2058           False           False              False            False   \n",
       "\n",
       "      loaction_Varanasi  loaction_Warangal  loaction_Yamunanagar  \\\n",
       "0                 False              False                 False   \n",
       "1                 False              False                 False   \n",
       "2                 False              False                 False   \n",
       "3                 False              False                 False   \n",
       "4                 False              False                 False   \n",
       "...                 ...                ...                   ...   \n",
       "2054              False              False                 False   \n",
       "2055              False              False                 False   \n",
       "2056              False              False                 False   \n",
       "2057              False              False                 False   \n",
       "2058              False              False                 False   \n",
       "\n",
       "      loaction_Zirakpur  \n",
       "0                 False  \n",
       "1                 False  \n",
       "2                 False  \n",
       "3                 False  \n",
       "4                 False  \n",
       "...                 ...  \n",
       "2054              False  \n",
       "2055              False  \n",
       "2056              False  \n",
       "2057              False  \n",
       "2058              False  \n",
       "\n",
       "[2059 rows x 77 columns]"
      ]
     },
     "execution_count": 43,
     "metadata": {},
     "output_type": "execute_result"
    }
   ],
   "source": [
    "df_location=pd.get_dummies(df['Location'],prefix='loaction')\n",
    "df_location"
   ]
  },
  {
   "cell_type": "code",
   "execution_count": 44,
   "id": "65ad330f-700a-4164-be82-3d04424b4393",
   "metadata": {},
   "outputs": [],
   "source": [
    "df_location =df_location.astype(int)"
   ]
  },
  {
   "cell_type": "code",
   "execution_count": 45,
   "id": "c7ef7387-db8d-48fb-906b-ef4b14945243",
   "metadata": {},
   "outputs": [
    {
     "data": {
      "text/html": [
       "<div>\n",
       "<style scoped>\n",
       "    .dataframe tbody tr th:only-of-type {\n",
       "        vertical-align: middle;\n",
       "    }\n",
       "\n",
       "    .dataframe tbody tr th {\n",
       "        vertical-align: top;\n",
       "    }\n",
       "\n",
       "    .dataframe thead th {\n",
       "        text-align: right;\n",
       "    }\n",
       "</style>\n",
       "<table border=\"1\" class=\"dataframe\">\n",
       "  <thead>\n",
       "    <tr style=\"text-align: right;\">\n",
       "      <th></th>\n",
       "      <th>loaction_Agra</th>\n",
       "      <th>loaction_Ahmedabad</th>\n",
       "      <th>loaction_Allahabad</th>\n",
       "      <th>loaction_Ambala Cantt</th>\n",
       "      <th>loaction_Amritsar</th>\n",
       "      <th>loaction_Aurangabad</th>\n",
       "      <th>loaction_Bangalore</th>\n",
       "      <th>loaction_Bhopal</th>\n",
       "      <th>loaction_Bhubaneswar</th>\n",
       "      <th>loaction_Bulandshahar</th>\n",
       "      <th>...</th>\n",
       "      <th>loaction_Surat</th>\n",
       "      <th>loaction_Thane</th>\n",
       "      <th>loaction_Udupi</th>\n",
       "      <th>loaction_Unnao</th>\n",
       "      <th>loaction_Vadodara</th>\n",
       "      <th>loaction_Valsad</th>\n",
       "      <th>loaction_Varanasi</th>\n",
       "      <th>loaction_Warangal</th>\n",
       "      <th>loaction_Yamunanagar</th>\n",
       "      <th>loaction_Zirakpur</th>\n",
       "    </tr>\n",
       "  </thead>\n",
       "  <tbody>\n",
       "    <tr>\n",
       "      <th>0</th>\n",
       "      <td>0</td>\n",
       "      <td>0</td>\n",
       "      <td>0</td>\n",
       "      <td>0</td>\n",
       "      <td>0</td>\n",
       "      <td>0</td>\n",
       "      <td>0</td>\n",
       "      <td>0</td>\n",
       "      <td>0</td>\n",
       "      <td>0</td>\n",
       "      <td>...</td>\n",
       "      <td>0</td>\n",
       "      <td>0</td>\n",
       "      <td>0</td>\n",
       "      <td>0</td>\n",
       "      <td>0</td>\n",
       "      <td>0</td>\n",
       "      <td>0</td>\n",
       "      <td>0</td>\n",
       "      <td>0</td>\n",
       "      <td>0</td>\n",
       "    </tr>\n",
       "    <tr>\n",
       "      <th>1</th>\n",
       "      <td>0</td>\n",
       "      <td>0</td>\n",
       "      <td>0</td>\n",
       "      <td>0</td>\n",
       "      <td>0</td>\n",
       "      <td>0</td>\n",
       "      <td>0</td>\n",
       "      <td>0</td>\n",
       "      <td>0</td>\n",
       "      <td>0</td>\n",
       "      <td>...</td>\n",
       "      <td>0</td>\n",
       "      <td>0</td>\n",
       "      <td>0</td>\n",
       "      <td>0</td>\n",
       "      <td>0</td>\n",
       "      <td>0</td>\n",
       "      <td>0</td>\n",
       "      <td>0</td>\n",
       "      <td>0</td>\n",
       "      <td>0</td>\n",
       "    </tr>\n",
       "    <tr>\n",
       "      <th>2</th>\n",
       "      <td>0</td>\n",
       "      <td>0</td>\n",
       "      <td>0</td>\n",
       "      <td>0</td>\n",
       "      <td>0</td>\n",
       "      <td>0</td>\n",
       "      <td>0</td>\n",
       "      <td>0</td>\n",
       "      <td>0</td>\n",
       "      <td>0</td>\n",
       "      <td>...</td>\n",
       "      <td>0</td>\n",
       "      <td>0</td>\n",
       "      <td>0</td>\n",
       "      <td>0</td>\n",
       "      <td>0</td>\n",
       "      <td>0</td>\n",
       "      <td>0</td>\n",
       "      <td>0</td>\n",
       "      <td>0</td>\n",
       "      <td>0</td>\n",
       "    </tr>\n",
       "    <tr>\n",
       "      <th>3</th>\n",
       "      <td>0</td>\n",
       "      <td>0</td>\n",
       "      <td>0</td>\n",
       "      <td>0</td>\n",
       "      <td>0</td>\n",
       "      <td>0</td>\n",
       "      <td>0</td>\n",
       "      <td>0</td>\n",
       "      <td>0</td>\n",
       "      <td>0</td>\n",
       "      <td>...</td>\n",
       "      <td>0</td>\n",
       "      <td>0</td>\n",
       "      <td>0</td>\n",
       "      <td>0</td>\n",
       "      <td>0</td>\n",
       "      <td>0</td>\n",
       "      <td>0</td>\n",
       "      <td>0</td>\n",
       "      <td>0</td>\n",
       "      <td>0</td>\n",
       "    </tr>\n",
       "    <tr>\n",
       "      <th>4</th>\n",
       "      <td>0</td>\n",
       "      <td>0</td>\n",
       "      <td>0</td>\n",
       "      <td>0</td>\n",
       "      <td>0</td>\n",
       "      <td>0</td>\n",
       "      <td>0</td>\n",
       "      <td>0</td>\n",
       "      <td>0</td>\n",
       "      <td>0</td>\n",
       "      <td>...</td>\n",
       "      <td>0</td>\n",
       "      <td>0</td>\n",
       "      <td>0</td>\n",
       "      <td>0</td>\n",
       "      <td>0</td>\n",
       "      <td>0</td>\n",
       "      <td>0</td>\n",
       "      <td>0</td>\n",
       "      <td>0</td>\n",
       "      <td>0</td>\n",
       "    </tr>\n",
       "    <tr>\n",
       "      <th>...</th>\n",
       "      <td>...</td>\n",
       "      <td>...</td>\n",
       "      <td>...</td>\n",
       "      <td>...</td>\n",
       "      <td>...</td>\n",
       "      <td>...</td>\n",
       "      <td>...</td>\n",
       "      <td>...</td>\n",
       "      <td>...</td>\n",
       "      <td>...</td>\n",
       "      <td>...</td>\n",
       "      <td>...</td>\n",
       "      <td>...</td>\n",
       "      <td>...</td>\n",
       "      <td>...</td>\n",
       "      <td>...</td>\n",
       "      <td>...</td>\n",
       "      <td>...</td>\n",
       "      <td>...</td>\n",
       "      <td>...</td>\n",
       "      <td>...</td>\n",
       "    </tr>\n",
       "    <tr>\n",
       "      <th>2054</th>\n",
       "      <td>0</td>\n",
       "      <td>0</td>\n",
       "      <td>0</td>\n",
       "      <td>0</td>\n",
       "      <td>0</td>\n",
       "      <td>0</td>\n",
       "      <td>0</td>\n",
       "      <td>0</td>\n",
       "      <td>0</td>\n",
       "      <td>0</td>\n",
       "      <td>...</td>\n",
       "      <td>1</td>\n",
       "      <td>0</td>\n",
       "      <td>0</td>\n",
       "      <td>0</td>\n",
       "      <td>0</td>\n",
       "      <td>0</td>\n",
       "      <td>0</td>\n",
       "      <td>0</td>\n",
       "      <td>0</td>\n",
       "      <td>0</td>\n",
       "    </tr>\n",
       "    <tr>\n",
       "      <th>2055</th>\n",
       "      <td>0</td>\n",
       "      <td>1</td>\n",
       "      <td>0</td>\n",
       "      <td>0</td>\n",
       "      <td>0</td>\n",
       "      <td>0</td>\n",
       "      <td>0</td>\n",
       "      <td>0</td>\n",
       "      <td>0</td>\n",
       "      <td>0</td>\n",
       "      <td>...</td>\n",
       "      <td>0</td>\n",
       "      <td>0</td>\n",
       "      <td>0</td>\n",
       "      <td>0</td>\n",
       "      <td>0</td>\n",
       "      <td>0</td>\n",
       "      <td>0</td>\n",
       "      <td>0</td>\n",
       "      <td>0</td>\n",
       "      <td>0</td>\n",
       "    </tr>\n",
       "    <tr>\n",
       "      <th>2056</th>\n",
       "      <td>0</td>\n",
       "      <td>0</td>\n",
       "      <td>0</td>\n",
       "      <td>0</td>\n",
       "      <td>0</td>\n",
       "      <td>0</td>\n",
       "      <td>0</td>\n",
       "      <td>0</td>\n",
       "      <td>0</td>\n",
       "      <td>0</td>\n",
       "      <td>...</td>\n",
       "      <td>0</td>\n",
       "      <td>1</td>\n",
       "      <td>0</td>\n",
       "      <td>0</td>\n",
       "      <td>0</td>\n",
       "      <td>0</td>\n",
       "      <td>0</td>\n",
       "      <td>0</td>\n",
       "      <td>0</td>\n",
       "      <td>0</td>\n",
       "    </tr>\n",
       "    <tr>\n",
       "      <th>2057</th>\n",
       "      <td>0</td>\n",
       "      <td>0</td>\n",
       "      <td>0</td>\n",
       "      <td>0</td>\n",
       "      <td>0</td>\n",
       "      <td>0</td>\n",
       "      <td>0</td>\n",
       "      <td>0</td>\n",
       "      <td>0</td>\n",
       "      <td>0</td>\n",
       "      <td>...</td>\n",
       "      <td>0</td>\n",
       "      <td>0</td>\n",
       "      <td>0</td>\n",
       "      <td>0</td>\n",
       "      <td>0</td>\n",
       "      <td>0</td>\n",
       "      <td>0</td>\n",
       "      <td>0</td>\n",
       "      <td>0</td>\n",
       "      <td>0</td>\n",
       "    </tr>\n",
       "    <tr>\n",
       "      <th>2058</th>\n",
       "      <td>0</td>\n",
       "      <td>0</td>\n",
       "      <td>0</td>\n",
       "      <td>0</td>\n",
       "      <td>0</td>\n",
       "      <td>0</td>\n",
       "      <td>0</td>\n",
       "      <td>0</td>\n",
       "      <td>0</td>\n",
       "      <td>0</td>\n",
       "      <td>...</td>\n",
       "      <td>0</td>\n",
       "      <td>0</td>\n",
       "      <td>0</td>\n",
       "      <td>0</td>\n",
       "      <td>0</td>\n",
       "      <td>0</td>\n",
       "      <td>0</td>\n",
       "      <td>0</td>\n",
       "      <td>0</td>\n",
       "      <td>0</td>\n",
       "    </tr>\n",
       "  </tbody>\n",
       "</table>\n",
       "<p>2059 rows × 77 columns</p>\n",
       "</div>"
      ],
      "text/plain": [
       "      loaction_Agra  loaction_Ahmedabad  loaction_Allahabad  \\\n",
       "0                 0                   0                   0   \n",
       "1                 0                   0                   0   \n",
       "2                 0                   0                   0   \n",
       "3                 0                   0                   0   \n",
       "4                 0                   0                   0   \n",
       "...             ...                 ...                 ...   \n",
       "2054              0                   0                   0   \n",
       "2055              0                   1                   0   \n",
       "2056              0                   0                   0   \n",
       "2057              0                   0                   0   \n",
       "2058              0                   0                   0   \n",
       "\n",
       "      loaction_Ambala Cantt  loaction_Amritsar  loaction_Aurangabad  \\\n",
       "0                         0                  0                    0   \n",
       "1                         0                  0                    0   \n",
       "2                         0                  0                    0   \n",
       "3                         0                  0                    0   \n",
       "4                         0                  0                    0   \n",
       "...                     ...                ...                  ...   \n",
       "2054                      0                  0                    0   \n",
       "2055                      0                  0                    0   \n",
       "2056                      0                  0                    0   \n",
       "2057                      0                  0                    0   \n",
       "2058                      0                  0                    0   \n",
       "\n",
       "      loaction_Bangalore  loaction_Bhopal  loaction_Bhubaneswar  \\\n",
       "0                      0                0                     0   \n",
       "1                      0                0                     0   \n",
       "2                      0                0                     0   \n",
       "3                      0                0                     0   \n",
       "4                      0                0                     0   \n",
       "...                  ...              ...                   ...   \n",
       "2054                   0                0                     0   \n",
       "2055                   0                0                     0   \n",
       "2056                   0                0                     0   \n",
       "2057                   0                0                     0   \n",
       "2058                   0                0                     0   \n",
       "\n",
       "      loaction_Bulandshahar  ...  loaction_Surat  loaction_Thane  \\\n",
       "0                         0  ...               0               0   \n",
       "1                         0  ...               0               0   \n",
       "2                         0  ...               0               0   \n",
       "3                         0  ...               0               0   \n",
       "4                         0  ...               0               0   \n",
       "...                     ...  ...             ...             ...   \n",
       "2054                      0  ...               1               0   \n",
       "2055                      0  ...               0               0   \n",
       "2056                      0  ...               0               1   \n",
       "2057                      0  ...               0               0   \n",
       "2058                      0  ...               0               0   \n",
       "\n",
       "      loaction_Udupi  loaction_Unnao  loaction_Vadodara  loaction_Valsad  \\\n",
       "0                  0               0                  0                0   \n",
       "1                  0               0                  0                0   \n",
       "2                  0               0                  0                0   \n",
       "3                  0               0                  0                0   \n",
       "4                  0               0                  0                0   \n",
       "...              ...             ...                ...              ...   \n",
       "2054               0               0                  0                0   \n",
       "2055               0               0                  0                0   \n",
       "2056               0               0                  0                0   \n",
       "2057               0               0                  0                0   \n",
       "2058               0               0                  0                0   \n",
       "\n",
       "      loaction_Varanasi  loaction_Warangal  loaction_Yamunanagar  \\\n",
       "0                     0                  0                     0   \n",
       "1                     0                  0                     0   \n",
       "2                     0                  0                     0   \n",
       "3                     0                  0                     0   \n",
       "4                     0                  0                     0   \n",
       "...                 ...                ...                   ...   \n",
       "2054                  0                  0                     0   \n",
       "2055                  0                  0                     0   \n",
       "2056                  0                  0                     0   \n",
       "2057                  0                  0                     0   \n",
       "2058                  0                  0                     0   \n",
       "\n",
       "      loaction_Zirakpur  \n",
       "0                     0  \n",
       "1                     0  \n",
       "2                     0  \n",
       "3                     0  \n",
       "4                     0  \n",
       "...                 ...  \n",
       "2054                  0  \n",
       "2055                  0  \n",
       "2056                  0  \n",
       "2057                  0  \n",
       "2058                  0  \n",
       "\n",
       "[2059 rows x 77 columns]"
      ]
     },
     "execution_count": 45,
     "metadata": {},
     "output_type": "execute_result"
    }
   ],
   "source": [
    "df_location"
   ]
  },
  {
   "cell_type": "markdown",
   "id": "251f74cf-3c43-42b4-b350-4e5c29cfa2a4",
   "metadata": {},
   "source": [
    "### want out find out which type of encoding should we use"
   ]
  },
  {
   "cell_type": "code",
   "execution_count": 46,
   "id": "3054fd5f-ac50-4994-9326-cd5dcd459dd5",
   "metadata": {},
   "outputs": [
    {
     "name": "stdout",
     "output_type": "stream",
     "text": [
      "<class 'pandas.core.frame.DataFrame'>\n",
      "RangeIndex: 2059 entries, 0 to 2058\n",
      "Data columns (total 20 columns):\n",
      " #   Column              Non-Null Count  Dtype  \n",
      "---  ------              --------------  -----  \n",
      " 0   Make                2059 non-null   object \n",
      " 1   Model               2059 non-null   int64  \n",
      " 2   Price               2059 non-null   int64  \n",
      " 3   Year                2059 non-null   int64  \n",
      " 4   Kilometer           2059 non-null   int64  \n",
      " 5   Fuel Type           2059 non-null   int32  \n",
      " 6   Transmission        2059 non-null   object \n",
      " 7   Location            2059 non-null   object \n",
      " 8   Color               2059 non-null   object \n",
      " 9   Owner               2059 non-null   object \n",
      " 10  Seller Type         2059 non-null   object \n",
      " 11  Engine              1979 non-null   object \n",
      " 12  Max Power           1979 non-null   object \n",
      " 13  Max Torque          1979 non-null   object \n",
      " 14  Drivetrain          1923 non-null   object \n",
      " 15  Length              1995 non-null   float64\n",
      " 16  Width               1995 non-null   float64\n",
      " 17  Height              1995 non-null   float64\n",
      " 18  Seating Capacity    1995 non-null   float64\n",
      " 19  Fuel Tank Capacity  1946 non-null   float64\n",
      "dtypes: float64(5), int32(1), int64(4), object(10)\n",
      "memory usage: 313.8+ KB\n"
     ]
    }
   ],
   "source": [
    "df.info()"
   ]
  },
  {
   "cell_type": "code",
   "execution_count": 47,
   "id": "bf3c2fc4-60f1-4e56-ac0c-1ff02243b719",
   "metadata": {},
   "outputs": [
    {
     "data": {
      "text/plain": [
       "Color\n",
       "White     802\n",
       "Silver    285\n",
       "Grey      220\n",
       "Blue      190\n",
       "Black     163\n",
       "Red       154\n",
       "Brown      82\n",
       "Maroon     37\n",
       "Gold       30\n",
       "Bronze     28\n",
       "Green      17\n",
       "Orange     16\n",
       "Others     12\n",
       "Yellow      9\n",
       "Beige       8\n",
       "Purple      5\n",
       "Pink        1\n",
       "Name: count, dtype: int64"
      ]
     },
     "execution_count": 47,
     "metadata": {},
     "output_type": "execute_result"
    }
   ],
   "source": [
    "df['Color'].value_counts()"
   ]
  },
  {
   "cell_type": "code",
   "execution_count": 48,
   "id": "18c63f3c-29e2-47b8-92e2-37a519f5a9c4",
   "metadata": {},
   "outputs": [
    {
     "data": {
      "text/plain": [
       "array(['Grey', 'White', 'Maroon', 'Red', 'Blue', 'Orange', 'Silver',\n",
       "       'Brown', 'Black', 'Bronze', 'Gold', 'Beige', 'Green', 'Yellow',\n",
       "       'Purple', 'Others', 'Pink'], dtype=object)"
      ]
     },
     "execution_count": 48,
     "metadata": {},
     "output_type": "execute_result"
    }
   ],
   "source": [
    "df['Color'].unique()"
   ]
  },
  {
   "cell_type": "code",
   "execution_count": 49,
   "id": "e12e1a5f-fe5a-4850-9d82-977133974838",
   "metadata": {},
   "outputs": [
    {
     "data": {
      "text/plain": [
       "0"
      ]
     },
     "execution_count": 49,
     "metadata": {},
     "output_type": "execute_result"
    }
   ],
   "source": [
    "df['Color'].isna().sum()"
   ]
  },
  {
   "cell_type": "code",
   "execution_count": 50,
   "id": "2246cd98-ea5c-4a00-99ad-2630ad6d10e6",
   "metadata": {},
   "outputs": [],
   "source": [
    "df['Color'] = label_encoder.fit_transform(df['Color'])"
   ]
  },
  {
   "cell_type": "code",
   "execution_count": 51,
   "id": "eb7c45b9-a42d-4ef7-a085-09f9f2af1e1c",
   "metadata": {},
   "outputs": [
    {
     "data": {
      "text/plain": [
       "array([ 7, 15,  8, 13,  2,  9, 14,  4,  1,  3,  5,  0,  6, 16, 12, 10, 11])"
      ]
     },
     "execution_count": 51,
     "metadata": {},
     "output_type": "execute_result"
    }
   ],
   "source": [
    "df['Color'].unique()"
   ]
  },
  {
   "cell_type": "code",
   "execution_count": 57,
   "id": "55cb08d3-7e33-4b23-ae02-375b0e84156d",
   "metadata": {},
   "outputs": [
    {
     "data": {
      "text/plain": [
       "Owner\n",
       "1    1619\n",
       "2     373\n",
       "3      42\n",
       "5      21\n",
       "4       3\n",
       "6       1\n",
       "Name: count, dtype: int64"
      ]
     },
     "execution_count": 57,
     "metadata": {},
     "output_type": "execute_result"
    }
   ],
   "source": [
    "df['Owner'].value_counts()"
   ]
  },
  {
   "cell_type": "code",
   "execution_count": 58,
   "id": "646bc0fa-70cf-4e67-9dfb-d1eaa880d896",
   "metadata": {},
   "outputs": [
    {
     "data": {
      "text/plain": [
       "0"
      ]
     },
     "execution_count": 58,
     "metadata": {},
     "output_type": "execute_result"
    }
   ],
   "source": [
    "df['Owner'].isna().sum()"
   ]
  },
  {
   "cell_type": "code",
   "execution_count": 59,
   "id": "b6ba0497-53f4-44b3-bd68-8d442beb0233",
   "metadata": {},
   "outputs": [
    {
     "data": {
      "text/plain": [
       "array([1, 2, 3, 4, 5, 6], dtype=int64)"
      ]
     },
     "execution_count": 59,
     "metadata": {},
     "output_type": "execute_result"
    }
   ],
   "source": [
    "df['Owner'].unique()"
   ]
  },
  {
   "cell_type": "code",
   "execution_count": 60,
   "id": "c1823da4-7f42-417b-ac62-bd630d2e8d64",
   "metadata": {},
   "outputs": [],
   "source": [
    "df['Owner'].replace({'First':1, 'Second':2, 'Third':3, 'Fourth':4, 'UnRegistered Car':5,\n",
    "       '4 or More':6},inplace=True)"
   ]
  },
  {
   "cell_type": "code",
   "execution_count": 61,
   "id": "c1e65738-d157-41a1-92ce-d9e0191c0046",
   "metadata": {},
   "outputs": [
    {
     "data": {
      "text/plain": [
       "array([1, 2, 3, 4, 5, 6], dtype=int64)"
      ]
     },
     "execution_count": 61,
     "metadata": {},
     "output_type": "execute_result"
    }
   ],
   "source": [
    "df['Owner'].unique()"
   ]
  },
  {
   "cell_type": "code",
   "execution_count": 62,
   "id": "491cbb6e-7afe-4c05-a54a-5eb7d3167e9b",
   "metadata": {},
   "outputs": [
    {
     "name": "stdout",
     "output_type": "stream",
     "text": [
      "<class 'pandas.core.frame.DataFrame'>\n",
      "RangeIndex: 2059 entries, 0 to 2058\n",
      "Data columns (total 20 columns):\n",
      " #   Column              Non-Null Count  Dtype  \n",
      "---  ------              --------------  -----  \n",
      " 0   Make                2059 non-null   object \n",
      " 1   Model               2059 non-null   int64  \n",
      " 2   Price               2059 non-null   int64  \n",
      " 3   Year                2059 non-null   int64  \n",
      " 4   Kilometer           2059 non-null   int64  \n",
      " 5   Fuel Type           2059 non-null   int32  \n",
      " 6   Transmission        2059 non-null   object \n",
      " 7   Location            2059 non-null   object \n",
      " 8   Color               2059 non-null   int32  \n",
      " 9   Owner               2059 non-null   int64  \n",
      " 10  Seller Type         2059 non-null   object \n",
      " 11  Engine              1979 non-null   object \n",
      " 12  Max Power           1979 non-null   object \n",
      " 13  Max Torque          1979 non-null   object \n",
      " 14  Drivetrain          1923 non-null   object \n",
      " 15  Length              1995 non-null   float64\n",
      " 16  Width               1995 non-null   float64\n",
      " 17  Height              1995 non-null   float64\n",
      " 18  Seating Capacity    1995 non-null   float64\n",
      " 19  Fuel Tank Capacity  1946 non-null   float64\n",
      "dtypes: float64(5), int32(2), int64(5), object(8)\n",
      "memory usage: 305.8+ KB\n"
     ]
    }
   ],
   "source": [
    "df.info()"
   ]
  },
  {
   "cell_type": "code",
   "execution_count": 63,
   "id": "fc7e0979-ad18-4013-b65a-1ac4c7fb3e72",
   "metadata": {},
   "outputs": [
    {
     "data": {
      "text/plain": [
       "Seller Type\n",
       "Individual                 1997\n",
       "Corporate                    57\n",
       "Commercial Registration       5\n",
       "Name: count, dtype: int64"
      ]
     },
     "execution_count": 63,
     "metadata": {},
     "output_type": "execute_result"
    }
   ],
   "source": [
    "df['Seller Type'].value_counts()"
   ]
  },
  {
   "cell_type": "code",
   "execution_count": 64,
   "id": "e158507e-4355-4f4f-9d2e-c330bbbb4637",
   "metadata": {},
   "outputs": [
    {
     "data": {
      "text/plain": [
       "0"
      ]
     },
     "execution_count": 64,
     "metadata": {},
     "output_type": "execute_result"
    }
   ],
   "source": [
    "df['Seller Type'].isna().sum()"
   ]
  },
  {
   "cell_type": "code",
   "execution_count": 65,
   "id": "ea1d19fa-60ba-4528-9fd4-2bbbe1c11d98",
   "metadata": {},
   "outputs": [
    {
     "data": {
      "text/plain": [
       "array(['Corporate', 'Individual', 'Commercial Registration'], dtype=object)"
      ]
     },
     "execution_count": 65,
     "metadata": {},
     "output_type": "execute_result"
    }
   ],
   "source": [
    "df['Seller Type'].unique()"
   ]
  },
  {
   "cell_type": "code",
   "execution_count": 66,
   "id": "a8adc761-8dcb-4e64-a2b6-9b44565c87e0",
   "metadata": {},
   "outputs": [],
   "source": [
    "df['Seller Type'].replace({'Corporate':1, 'Individual':2, 'Commercial Registration':3},inplace=True)"
   ]
  },
  {
   "cell_type": "code",
   "execution_count": 67,
   "id": "3367de28-f8a5-4efc-a638-9d440f328358",
   "metadata": {},
   "outputs": [
    {
     "data": {
      "text/plain": [
       "array([1, 2, 3], dtype=int64)"
      ]
     },
     "execution_count": 67,
     "metadata": {},
     "output_type": "execute_result"
    }
   ],
   "source": [
    "df['Seller Type'].unique()"
   ]
  },
  {
   "cell_type": "code",
   "execution_count": 69,
   "id": "87aae299-46ae-45de-b3bb-511511a81a2a",
   "metadata": {},
   "outputs": [
    {
     "data": {
      "text/plain": [
       "Engine\n",
       "1197 cc    231\n",
       "1248 cc    122\n",
       "998 cc     121\n",
       "1497 cc     84\n",
       "1968 cc     82\n",
       "          ... \n",
       "1948 cc      1\n",
       "4806 cc      1\n",
       "3496 cc      1\n",
       "2609 cc      1\n",
       "995 cc       1\n",
       "Name: count, Length: 108, dtype: int64"
      ]
     },
     "execution_count": 69,
     "metadata": {},
     "output_type": "execute_result"
    }
   ],
   "source": [
    "df['Engine'].value_counts()"
   ]
  },
  {
   "cell_type": "code",
   "execution_count": 70,
   "id": "72ff54d8-9d7d-4def-b47f-8a840df0b8f3",
   "metadata": {},
   "outputs": [
    {
     "data": {
      "text/plain": [
       "80"
      ]
     },
     "execution_count": 70,
     "metadata": {},
     "output_type": "execute_result"
    }
   ],
   "source": [
    "df['Engine'].isna().sum()"
   ]
  },
  {
   "cell_type": "code",
   "execution_count": 71,
   "id": "c49db3c9-1c6a-4e64-ab20-b3d4eb12c44b",
   "metadata": {},
   "outputs": [
    {
     "data": {
      "text/plain": [
       "array(['1198 cc', '1248 cc', '1197 cc', '2393 cc', '1373 cc', '1991 cc',\n",
       "       '1995 cc', '1798 cc', '1461 cc', '999 cc', '1462 cc', '1956 cc',\n",
       "       '998 cc', '796 cc', '1591 cc', '1086 cc', '1199 cc', '1582 cc',\n",
       "       nan, '1047 cc', '2143 cc', '1968 cc', '1796 cc', '2498 cc',\n",
       "       '2494 cc', '2179 cc', '1998 cc', '1497 cc', '1196 cc', '2755 cc',\n",
       "       '1799 cc', '1493 cc', '1399 cc', '1498 cc', '1997 cc', '1598 cc',\n",
       "       '2993 cc', '2995 cc', '2982 cc', '1353 cc', '1984 cc', '2967 cc',\n",
       "       '2609 cc', '1950 cc', '1999 cc', '4663 cc', '1451 cc', '2354 cc',\n",
       "       '1396 cc', '2987 cc', '2997 cc', '1336 cc', '4163 cc', '3496 cc',\n",
       "       '799 cc', '2979 cc', '4806 cc', '2996 cc', '1061 cc', '2184 cc',\n",
       "       '2497 cc', '2999 cc', '1948 cc', '3436 cc', '2925 cc', '2489 cc',\n",
       "       '1368 cc', '1797 cc', '1298 cc', '2694 cc', '1186 cc', '1364 cc',\n",
       "       '3498 cc', '3982 cc', '1120 cc', '2523 cc', '1988 cc', '3902 cc',\n",
       "       '624 cc', '2477 cc', '3198 cc', '5204 cc', '814 cc', '2953 cc',\n",
       "       '1496 cc', '1499 cc', '1996 cc', '5461 cc', '1395 cc', '2835 cc',\n",
       "       '2148 cc', '2696 cc', '1794 cc', '1969 cc', '6592 cc', '2199 cc',\n",
       "       '4951 cc', '1495 cc', '2487 cc', '2998 cc', '2198 cc', '2157 cc',\n",
       "       '1595 cc', '1586 cc', '936 cc', '1332 cc', '2400 cc', '793 cc',\n",
       "       '995 cc'], dtype=object)"
      ]
     },
     "execution_count": 71,
     "metadata": {},
     "output_type": "execute_result"
    }
   ],
   "source": [
    "df['Engine'].unique()"
   ]
  },
  {
   "cell_type": "code",
   "execution_count": 72,
   "id": "0910b515-6906-418e-9985-a79057558800",
   "metadata": {},
   "outputs": [],
   "source": [
    "df['Engine']=df['Engine'].str.replace(\" cc\",\"\")"
   ]
  },
  {
   "cell_type": "code",
   "execution_count": 73,
   "id": "45489810-70dd-4fcd-aa6e-8a54341a209c",
   "metadata": {},
   "outputs": [],
   "source": [
    "df['Engine'].fillna(df['Engine'].mode()[0],inplace=True)"
   ]
  },
  {
   "cell_type": "code",
   "execution_count": 74,
   "id": "0d7c30c2-16e9-4607-b9b0-54a8eafd444e",
   "metadata": {},
   "outputs": [],
   "source": [
    "df['Engine']=df['Engine'].astype(float)"
   ]
  },
  {
   "cell_type": "code",
   "execution_count": 75,
   "id": "ae262cbc-af04-4cf7-96d4-e5aed9b08640",
   "metadata": {},
   "outputs": [
    {
     "data": {
      "text/plain": [
       "0"
      ]
     },
     "execution_count": 75,
     "metadata": {},
     "output_type": "execute_result"
    }
   ],
   "source": [
    "df['Engine'].isna().sum()"
   ]
  },
  {
   "cell_type": "code",
   "execution_count": 76,
   "id": "bc659bea-4f00-4db1-8fbb-962288af9731",
   "metadata": {},
   "outputs": [
    {
     "name": "stdout",
     "output_type": "stream",
     "text": [
      "<class 'pandas.core.frame.DataFrame'>\n",
      "RangeIndex: 2059 entries, 0 to 2058\n",
      "Data columns (total 20 columns):\n",
      " #   Column              Non-Null Count  Dtype  \n",
      "---  ------              --------------  -----  \n",
      " 0   Make                2059 non-null   object \n",
      " 1   Model               2059 non-null   int64  \n",
      " 2   Price               2059 non-null   int64  \n",
      " 3   Year                2059 non-null   int64  \n",
      " 4   Kilometer           2059 non-null   int64  \n",
      " 5   Fuel Type           2059 non-null   int32  \n",
      " 6   Transmission        2059 non-null   object \n",
      " 7   Location            2059 non-null   object \n",
      " 8   Color               2059 non-null   int32  \n",
      " 9   Owner               2059 non-null   int64  \n",
      " 10  Seller Type         2059 non-null   int64  \n",
      " 11  Engine              2059 non-null   float64\n",
      " 12  Max Power           1979 non-null   object \n",
      " 13  Max Torque          1979 non-null   object \n",
      " 14  Drivetrain          1923 non-null   object \n",
      " 15  Length              1995 non-null   float64\n",
      " 16  Width               1995 non-null   float64\n",
      " 17  Height              1995 non-null   float64\n",
      " 18  Seating Capacity    1995 non-null   float64\n",
      " 19  Fuel Tank Capacity  1946 non-null   float64\n",
      "dtypes: float64(6), int32(2), int64(6), object(6)\n",
      "memory usage: 305.8+ KB\n"
     ]
    }
   ],
   "source": [
    "df.info()"
   ]
  },
  {
   "cell_type": "code",
   "execution_count": 77,
   "id": "f626053e-46e0-4a49-894b-e3fb01b1fe49",
   "metadata": {},
   "outputs": [
    {
     "data": {
      "text/plain": [
       "Max Power\n",
       "89 bhp @ 4000 rpm     90\n",
       "82 bhp @ 6000 rpm     62\n",
       "83 bhp @ 6000 rpm     55\n",
       "126 bhp @ 4000 rpm    55\n",
       "74 bhp @ 4000 rpm     50\n",
       "                      ..\n",
       "204 bhp @ 3800 rpm     1\n",
       "157 bhp @ 6500 rpm     1\n",
       "255 bhp @ 3600 rpm     1\n",
       "76 bhp @ 6000 rpm      1\n",
       "329 bhp @ 5250 rpm     1\n",
       "Name: count, Length: 335, dtype: int64"
      ]
     },
     "execution_count": 77,
     "metadata": {},
     "output_type": "execute_result"
    }
   ],
   "source": [
    "df['Max Power'].value_counts()"
   ]
  },
  {
   "cell_type": "code",
   "execution_count": 78,
   "id": "72768f0c-005e-44a1-a49a-747aca5eee7d",
   "metadata": {},
   "outputs": [
    {
     "data": {
      "text/plain": [
       "80"
      ]
     },
     "execution_count": 78,
     "metadata": {},
     "output_type": "execute_result"
    }
   ],
   "source": [
    "df['Max Power'].isna().sum()"
   ]
  },
  {
   "cell_type": "code",
   "execution_count": 79,
   "id": "a7d03a16-5870-46d0-8d90-bd9ab3672b3a",
   "metadata": {},
   "outputs": [
    {
     "data": {
      "text/plain": [
       "Max Torque\n",
       "200 Nm @ 1750 rpm    90\n",
       "115 Nm @ 4000 rpm    78\n",
       "114 Nm @ 4000 rpm    66\n",
       "90 Nm @ 3500 rpm     64\n",
       "400 Nm @ 1750 rpm    63\n",
       "                     ..\n",
       "505 Nm @ 4400 rpm     1\n",
       "290@1800              1\n",
       "380 Nm @ 2500 rpm     1\n",
       "560 Nm @ 6500 rpm     1\n",
       "480 Nm @ 1600 rpm     1\n",
       "Name: count, Length: 290, dtype: int64"
      ]
     },
     "execution_count": 79,
     "metadata": {},
     "output_type": "execute_result"
    }
   ],
   "source": [
    "df['Max Torque'].value_counts()"
   ]
  },
  {
   "cell_type": "code",
   "execution_count": 80,
   "id": "a20b9519-0d18-48aa-b49e-12aca602b142",
   "metadata": {},
   "outputs": [
    {
     "data": {
      "text/plain": [
       "80"
      ]
     },
     "execution_count": 80,
     "metadata": {},
     "output_type": "execute_result"
    }
   ],
   "source": [
    "df['Max Torque'].isna().sum()"
   ]
  },
  {
   "cell_type": "code",
   "execution_count": 81,
   "id": "c677721c-94a3-44a7-ba6d-39c3bd3ac47a",
   "metadata": {},
   "outputs": [
    {
     "name": "stdout",
     "output_type": "stream",
     "text": [
      "<class 'pandas.core.frame.DataFrame'>\n",
      "RangeIndex: 2059 entries, 0 to 2058\n",
      "Data columns (total 20 columns):\n",
      " #   Column              Non-Null Count  Dtype  \n",
      "---  ------              --------------  -----  \n",
      " 0   Make                2059 non-null   object \n",
      " 1   Model               2059 non-null   int64  \n",
      " 2   Price               2059 non-null   int64  \n",
      " 3   Year                2059 non-null   int64  \n",
      " 4   Kilometer           2059 non-null   int64  \n",
      " 5   Fuel Type           2059 non-null   int32  \n",
      " 6   Transmission        2059 non-null   object \n",
      " 7   Location            2059 non-null   object \n",
      " 8   Color               2059 non-null   int32  \n",
      " 9   Owner               2059 non-null   int64  \n",
      " 10  Seller Type         2059 non-null   int64  \n",
      " 11  Engine              2059 non-null   float64\n",
      " 12  Max Power           1979 non-null   object \n",
      " 13  Max Torque          1979 non-null   object \n",
      " 14  Drivetrain          1923 non-null   object \n",
      " 15  Length              1995 non-null   float64\n",
      " 16  Width               1995 non-null   float64\n",
      " 17  Height              1995 non-null   float64\n",
      " 18  Seating Capacity    1995 non-null   float64\n",
      " 19  Fuel Tank Capacity  1946 non-null   float64\n",
      "dtypes: float64(6), int32(2), int64(6), object(6)\n",
      "memory usage: 305.8+ KB\n"
     ]
    }
   ],
   "source": [
    "df.info()"
   ]
  },
  {
   "cell_type": "code",
   "execution_count": 82,
   "id": "3697ba94-22e8-4c04-9ecd-2165d449ff00",
   "metadata": {},
   "outputs": [
    {
     "data": {
      "text/plain": [
       "Drivetrain\n",
       "FWD    1330\n",
       "RWD     321\n",
       "AWD     272\n",
       "Name: count, dtype: int64"
      ]
     },
     "execution_count": 82,
     "metadata": {},
     "output_type": "execute_result"
    }
   ],
   "source": [
    "df['Drivetrain'].value_counts()"
   ]
  },
  {
   "cell_type": "code",
   "execution_count": 83,
   "id": "4e5726d3-94ef-4507-a630-3f5d7c6d7346",
   "metadata": {},
   "outputs": [
    {
     "data": {
      "text/plain": [
       "136"
      ]
     },
     "execution_count": 83,
     "metadata": {},
     "output_type": "execute_result"
    }
   ],
   "source": [
    "df['Drivetrain'].isna().sum()"
   ]
  },
  {
   "cell_type": "code",
   "execution_count": 84,
   "id": "22eca9be-08e7-49d9-a80b-b6cf6fbd1f3a",
   "metadata": {},
   "outputs": [],
   "source": [
    "df['Drivetrain'].replace({\"FWD\":1 ,\"RWD\":2 ,\"AWD\":3},inplace=True)"
   ]
  },
  {
   "cell_type": "code",
   "execution_count": 85,
   "id": "73d24e53-e9aa-440b-bbf5-971748a30dbf",
   "metadata": {},
   "outputs": [
    {
     "data": {
      "text/plain": [
       "array([ 1.,  2.,  3., nan])"
      ]
     },
     "execution_count": 85,
     "metadata": {},
     "output_type": "execute_result"
    }
   ],
   "source": [
    "df['Drivetrain'].unique()"
   ]
  },
  {
   "cell_type": "code",
   "execution_count": 86,
   "id": "1c4443ec-57d2-4193-84b0-7906804dac43",
   "metadata": {},
   "outputs": [],
   "source": [
    "df['Drivetrain'].fillna(df['Drivetrain'].mode()[0],inplace=True)"
   ]
  },
  {
   "cell_type": "code",
   "execution_count": 87,
   "id": "c31920a5-9951-43fe-9138-0afc5a155b61",
   "metadata": {},
   "outputs": [
    {
     "data": {
      "text/plain": [
       "array([1., 2., 3.])"
      ]
     },
     "execution_count": 87,
     "metadata": {},
     "output_type": "execute_result"
    }
   ],
   "source": [
    "df['Drivetrain'].unique()"
   ]
  },
  {
   "cell_type": "code",
   "execution_count": 88,
   "id": "e7240382-9f0c-43e2-94b6-95aeb22619d9",
   "metadata": {},
   "outputs": [
    {
     "data": {
      "text/plain": [
       "Drivetrain\n",
       "1.0    1466\n",
       "2.0     321\n",
       "3.0     272\n",
       "Name: count, dtype: int64"
      ]
     },
     "execution_count": 88,
     "metadata": {},
     "output_type": "execute_result"
    }
   ],
   "source": [
    "df['Drivetrain'].value_counts()"
   ]
  },
  {
   "cell_type": "code",
   "execution_count": 89,
   "id": "83a56601-8dd5-4d27-9fbd-30535d2d0d44",
   "metadata": {},
   "outputs": [
    {
     "data": {
      "text/plain": [
       "0"
      ]
     },
     "execution_count": 89,
     "metadata": {},
     "output_type": "execute_result"
    }
   ],
   "source": [
    "df['Drivetrain'].isna().sum()"
   ]
  },
  {
   "cell_type": "code",
   "execution_count": 90,
   "id": "36e156d7-7995-4177-84fa-caa66094e9a7",
   "metadata": {},
   "outputs": [
    {
     "name": "stdout",
     "output_type": "stream",
     "text": [
      "<class 'pandas.core.frame.DataFrame'>\n",
      "RangeIndex: 2059 entries, 0 to 2058\n",
      "Data columns (total 20 columns):\n",
      " #   Column              Non-Null Count  Dtype  \n",
      "---  ------              --------------  -----  \n",
      " 0   Make                2059 non-null   object \n",
      " 1   Model               2059 non-null   int64  \n",
      " 2   Price               2059 non-null   int64  \n",
      " 3   Year                2059 non-null   int64  \n",
      " 4   Kilometer           2059 non-null   int64  \n",
      " 5   Fuel Type           2059 non-null   int32  \n",
      " 6   Transmission        2059 non-null   object \n",
      " 7   Location            2059 non-null   object \n",
      " 8   Color               2059 non-null   int32  \n",
      " 9   Owner               2059 non-null   int64  \n",
      " 10  Seller Type         2059 non-null   int64  \n",
      " 11  Engine              2059 non-null   float64\n",
      " 12  Max Power           1979 non-null   object \n",
      " 13  Max Torque          1979 non-null   object \n",
      " 14  Drivetrain          2059 non-null   float64\n",
      " 15  Length              1995 non-null   float64\n",
      " 16  Width               1995 non-null   float64\n",
      " 17  Height              1995 non-null   float64\n",
      " 18  Seating Capacity    1995 non-null   float64\n",
      " 19  Fuel Tank Capacity  1946 non-null   float64\n",
      "dtypes: float64(7), int32(2), int64(6), object(5)\n",
      "memory usage: 305.8+ KB\n"
     ]
    }
   ],
   "source": [
    "df.info()"
   ]
  },
  {
   "cell_type": "code",
   "execution_count": 91,
   "id": "471442cb-9b3b-4ff4-86a5-2f89afc6176d",
   "metadata": {},
   "outputs": [
    {
     "data": {
      "text/plain": [
       "Length\n",
       "3995.0    221\n",
       "4440.0     70\n",
       "4270.0     57\n",
       "3985.0     55\n",
       "4456.0     44\n",
       "         ... \n",
       "4371.0      1\n",
       "5399.0      1\n",
       "4969.0      1\n",
       "3884.0      1\n",
       "4249.0      1\n",
       "Name: count, Length: 248, dtype: int64"
      ]
     },
     "execution_count": 91,
     "metadata": {},
     "output_type": "execute_result"
    }
   ],
   "source": [
    "df['Length'].value_counts()"
   ]
  },
  {
   "cell_type": "code",
   "execution_count": 92,
   "id": "a510b85a-3078-4e97-b547-ab20e35cdafb",
   "metadata": {},
   "outputs": [
    {
     "data": {
      "text/plain": [
       "64"
      ]
     },
     "execution_count": 92,
     "metadata": {},
     "output_type": "execute_result"
    }
   ],
   "source": [
    "df['Length'].isna().sum()"
   ]
  },
  {
   "cell_type": "code",
   "execution_count": 93,
   "id": "64463b42-d730-4682-8c62-27e9cd9ad2d6",
   "metadata": {},
   "outputs": [],
   "source": [
    "df['Length'].fillna(df['Length'].median(),inplace=True)"
   ]
  },
  {
   "cell_type": "code",
   "execution_count": 94,
   "id": "88c5ce39-2624-425d-9da8-061dded7b335",
   "metadata": {},
   "outputs": [
    {
     "data": {
      "text/plain": [
       "0"
      ]
     },
     "execution_count": 94,
     "metadata": {},
     "output_type": "execute_result"
    }
   ],
   "source": [
    "df['Length'].isna().sum()"
   ]
  },
  {
   "cell_type": "code",
   "execution_count": 95,
   "id": "1ddae1e9-b74f-4592-bdbd-9b69f0802865",
   "metadata": {},
   "outputs": [
    {
     "data": {
      "text/plain": [
       "Width\n",
       "1695.0    201\n",
       "1780.0     62\n",
       "1790.0     61\n",
       "1680.0     51\n",
       "1660.0     51\n",
       "         ... \n",
       "1758.0      1\n",
       "1687.0      1\n",
       "2139.0      1\n",
       "1915.0      1\n",
       "2032.0      1\n",
       "Name: count, Length: 170, dtype: int64"
      ]
     },
     "execution_count": 95,
     "metadata": {},
     "output_type": "execute_result"
    }
   ],
   "source": [
    "df['Width'].value_counts()"
   ]
  },
  {
   "cell_type": "code",
   "execution_count": 96,
   "id": "c8a8e947-e87d-4482-be82-9c6b70fd573f",
   "metadata": {},
   "outputs": [
    {
     "data": {
      "text/plain": [
       "64"
      ]
     },
     "execution_count": 96,
     "metadata": {},
     "output_type": "execute_result"
    }
   ],
   "source": [
    "df['Width'].isna().sum()"
   ]
  },
  {
   "cell_type": "code",
   "execution_count": 97,
   "id": "641a8171-3117-40d8-a5b1-f2848b988334",
   "metadata": {},
   "outputs": [],
   "source": [
    "df['Width'].fillna(df['Width'].median(),inplace=True)"
   ]
  },
  {
   "cell_type": "code",
   "execution_count": 98,
   "id": "bd0978be-a3b7-49fa-a380-8413591e64ab",
   "metadata": {},
   "outputs": [
    {
     "data": {
      "text/plain": [
       "0"
      ]
     },
     "execution_count": 98,
     "metadata": {},
     "output_type": "execute_result"
    }
   ],
   "source": [
    "df['Width'].isna().sum()"
   ]
  },
  {
   "cell_type": "code",
   "execution_count": 99,
   "id": "3be45986-0134-4caf-b5f4-4adf6a8ecd6c",
   "metadata": {},
   "outputs": [
    {
     "data": {
      "text/plain": [
       "Height\n",
       "1475.0    88\n",
       "1505.0    80\n",
       "1530.0    63\n",
       "1520.0    61\n",
       "1495.0    58\n",
       "          ..\n",
       "1538.0     1\n",
       "1658.0     1\n",
       "1572.0     1\n",
       "1710.0     1\n",
       "1503.0     1\n",
       "Name: count, Length: 196, dtype: int64"
      ]
     },
     "execution_count": 99,
     "metadata": {},
     "output_type": "execute_result"
    }
   ],
   "source": [
    "df['Height'].value_counts()"
   ]
  },
  {
   "cell_type": "code",
   "execution_count": 100,
   "id": "59332e00-168d-4f5d-8045-9f3f462ee7ca",
   "metadata": {},
   "outputs": [
    {
     "data": {
      "text/plain": [
       "64"
      ]
     },
     "execution_count": 100,
     "metadata": {},
     "output_type": "execute_result"
    }
   ],
   "source": [
    "df['Height'].isna().sum()"
   ]
  },
  {
   "cell_type": "code",
   "execution_count": 101,
   "id": "b1df921f-d079-4736-9d45-56d6f3d02095",
   "metadata": {},
   "outputs": [],
   "source": [
    "df['Height'].fillna(df['Height'].median(),inplace=True)"
   ]
  },
  {
   "cell_type": "code",
   "execution_count": 102,
   "id": "dbc9f47b-341d-49f9-9d84-35f5336943d4",
   "metadata": {},
   "outputs": [
    {
     "data": {
      "text/plain": [
       "0"
      ]
     },
     "execution_count": 102,
     "metadata": {},
     "output_type": "execute_result"
    }
   ],
   "source": [
    "df['Height'].isna().sum()"
   ]
  },
  {
   "cell_type": "code",
   "execution_count": 103,
   "id": "edfdc890-9f3a-4399-aa84-c58a9115d8bd",
   "metadata": {},
   "outputs": [
    {
     "data": {
      "text/plain": [
       "Seating Capacity\n",
       "5.0    1615\n",
       "7.0     273\n",
       "4.0      42\n",
       "8.0      35\n",
       "6.0      23\n",
       "2.0       7\n",
       "Name: count, dtype: int64"
      ]
     },
     "execution_count": 103,
     "metadata": {},
     "output_type": "execute_result"
    }
   ],
   "source": [
    "df['Seating Capacity'].value_counts()"
   ]
  },
  {
   "cell_type": "code",
   "execution_count": 104,
   "id": "f340b3f2-bb8e-4fff-ad01-d2285438937b",
   "metadata": {},
   "outputs": [
    {
     "data": {
      "text/plain": [
       "64"
      ]
     },
     "execution_count": 104,
     "metadata": {},
     "output_type": "execute_result"
    }
   ],
   "source": [
    "df['Seating Capacity'].isna().sum()"
   ]
  },
  {
   "cell_type": "code",
   "execution_count": 105,
   "id": "0c0482fa-b880-44ad-92f9-768a9874c3a5",
   "metadata": {},
   "outputs": [],
   "source": [
    "df['Seating Capacity'].fillna(df['Seating Capacity'].median(),inplace=True)"
   ]
  },
  {
   "cell_type": "code",
   "execution_count": 106,
   "id": "f5aac218-4352-4a0c-ba39-396b0959bd37",
   "metadata": {},
   "outputs": [
    {
     "data": {
      "text/plain": [
       "0"
      ]
     },
     "execution_count": 106,
     "metadata": {},
     "output_type": "execute_result"
    }
   ],
   "source": [
    "df['Seating Capacity'].isna().sum()"
   ]
  },
  {
   "cell_type": "code",
   "execution_count": 107,
   "id": "1d22750f-0804-403c-a88b-fb980be9206a",
   "metadata": {},
   "outputs": [
    {
     "data": {
      "text/plain": [
       "Fuel Tank Capacity\n",
       "35.0     222\n",
       "60.0     155\n",
       "45.0     154\n",
       "43.0     146\n",
       "50.0     132\n",
       "55.0     117\n",
       "42.0     111\n",
       "40.0     106\n",
       "80.0      92\n",
       "37.0      89\n",
       "66.0      59\n",
       "70.0      59\n",
       "65.0      55\n",
       "48.0      51\n",
       "57.0      44\n",
       "64.0      31\n",
       "28.0      30\n",
       "63.0      30\n",
       "75.0      30\n",
       "32.0      27\n",
       "52.0      20\n",
       "44.0      20\n",
       "93.0      18\n",
       "100.0     15\n",
       "54.0      14\n",
       "67.0      12\n",
       "56.0      11\n",
       "90.0      10\n",
       "78.0       7\n",
       "51.0       6\n",
       "83.0       6\n",
       "41.0       6\n",
       "27.0       5\n",
       "77.0       5\n",
       "85.0       5\n",
       "62.0       5\n",
       "71.0       5\n",
       "82.0       4\n",
       "105.0      3\n",
       "82.5       3\n",
       "58.0       3\n",
       "47.0       3\n",
       "68.0       3\n",
       "59.0       3\n",
       "95.0       2\n",
       "73.0       2\n",
       "60.9       2\n",
       "15.0       1\n",
       "66.5       1\n",
       "104.0      1\n",
       "92.0       1\n",
       "67.5       1\n",
       "81.0       1\n",
       "61.0       1\n",
       "38.0       1\n",
       "Name: count, dtype: int64"
      ]
     },
     "execution_count": 107,
     "metadata": {},
     "output_type": "execute_result"
    }
   ],
   "source": [
    "df['Fuel Tank Capacity'].value_counts()"
   ]
  },
  {
   "cell_type": "code",
   "execution_count": 108,
   "id": "60e08906-923b-4587-92c9-c3b7dbbb4f7f",
   "metadata": {},
   "outputs": [
    {
     "data": {
      "text/plain": [
       "113"
      ]
     },
     "execution_count": 108,
     "metadata": {},
     "output_type": "execute_result"
    }
   ],
   "source": [
    "df['Fuel Tank Capacity'].isna().sum()"
   ]
  },
  {
   "cell_type": "code",
   "execution_count": 109,
   "id": "cfd677e8-b1e8-42b5-8da2-e23604d66997",
   "metadata": {},
   "outputs": [],
   "source": [
    "df['Fuel Tank Capacity'].fillna(df['Fuel Tank Capacity'].median(),inplace=True)"
   ]
  },
  {
   "cell_type": "code",
   "execution_count": 110,
   "id": "e3822452-3cd9-4e40-8192-862eb358651d",
   "metadata": {},
   "outputs": [
    {
     "data": {
      "text/plain": [
       "0"
      ]
     },
     "execution_count": 110,
     "metadata": {},
     "output_type": "execute_result"
    }
   ],
   "source": [
    "df['Fuel Tank Capacity'].isna().sum()"
   ]
  },
  {
   "cell_type": "code",
   "execution_count": 111,
   "id": "cf769de4-6f1e-42c9-94af-3eba79a51072",
   "metadata": {},
   "outputs": [
    {
     "name": "stdout",
     "output_type": "stream",
     "text": [
      "<class 'pandas.core.frame.DataFrame'>\n",
      "RangeIndex: 2059 entries, 0 to 2058\n",
      "Data columns (total 20 columns):\n",
      " #   Column              Non-Null Count  Dtype  \n",
      "---  ------              --------------  -----  \n",
      " 0   Make                2059 non-null   object \n",
      " 1   Model               2059 non-null   int64  \n",
      " 2   Price               2059 non-null   int64  \n",
      " 3   Year                2059 non-null   int64  \n",
      " 4   Kilometer           2059 non-null   int64  \n",
      " 5   Fuel Type           2059 non-null   int32  \n",
      " 6   Transmission        2059 non-null   object \n",
      " 7   Location            2059 non-null   object \n",
      " 8   Color               2059 non-null   int32  \n",
      " 9   Owner               2059 non-null   int64  \n",
      " 10  Seller Type         2059 non-null   int64  \n",
      " 11  Engine              2059 non-null   float64\n",
      " 12  Max Power           1979 non-null   object \n",
      " 13  Max Torque          1979 non-null   object \n",
      " 14  Drivetrain          2059 non-null   float64\n",
      " 15  Length              2059 non-null   float64\n",
      " 16  Width               2059 non-null   float64\n",
      " 17  Height              2059 non-null   float64\n",
      " 18  Seating Capacity    2059 non-null   float64\n",
      " 19  Fuel Tank Capacity  2059 non-null   float64\n",
      "dtypes: float64(7), int32(2), int64(6), object(5)\n",
      "memory usage: 305.8+ KB\n"
     ]
    }
   ],
   "source": [
    "df.info()"
   ]
  },
  {
   "cell_type": "code",
   "execution_count": 112,
   "id": "bc073cd4-ca61-4a91-be53-9d2e063a5120",
   "metadata": {},
   "outputs": [
    {
     "name": "stdout",
     "output_type": "stream",
     "text": [
      "['Length', 'Width', 'Height', 'Fuel Tank Capacity', 'Max Power', 'Max Torque', 'Make', 'Location']\n"
     ]
    }
   ],
   "source": [
    "columns = ['Length','Width','Height','Fuel Tank Capacity','Max Power','Max Torque','Make','Location']\n",
    "print(columns)"
   ]
  },
  {
   "cell_type": "code",
   "execution_count": 139,
   "id": "e05323f4-4307-4c43-932a-8e1564e3857e",
   "metadata": {},
   "outputs": [],
   "source": [
    "df.drop(columns,axis=1,inplace=True)"
   ]
  },
  {
   "cell_type": "code",
   "execution_count": null,
   "id": "ba06eaef-9854-4440-b4e4-d71e9364310a",
   "metadata": {},
   "outputs": [],
   "source": [
    "df=pd.concat([df,df_location,df_make],axis=1)"
   ]
  },
  {
   "cell_type": "code",
   "execution_count": 1,
   "id": "02db8304-e7f0-4c15-ac44-d1a78c6df1b7",
   "metadata": {},
   "outputs": [
    {
     "ename": "NameError",
     "evalue": "name 'df' is not defined",
     "output_type": "error",
     "traceback": [
      "\u001b[1;31m---------------------------------------------------------------------------\u001b[0m",
      "\u001b[1;31mNameError\u001b[0m                                 Traceback (most recent call last)",
      "Cell \u001b[1;32mIn[1], line 1\u001b[0m\n\u001b[1;32m----> 1\u001b[0m df\u001b[38;5;241m.\u001b[39minfo()\n",
      "\u001b[1;31mNameError\u001b[0m: name 'df' is not defined"
     ]
    }
   ],
   "source": [
    "df.info()"
   ]
  },
  {
   "cell_type": "code",
   "execution_count": 132,
   "id": "524e9980-b477-4922-9f64-b3dd3dea93a2",
   "metadata": {},
   "outputs": [
    {
     "data": {
      "text/html": [
       "<div>\n",
       "<style scoped>\n",
       "    .dataframe tbody tr th:only-of-type {\n",
       "        vertical-align: middle;\n",
       "    }\n",
       "\n",
       "    .dataframe tbody tr th {\n",
       "        vertical-align: top;\n",
       "    }\n",
       "\n",
       "    .dataframe thead th {\n",
       "        text-align: right;\n",
       "    }\n",
       "</style>\n",
       "<table border=\"1\" class=\"dataframe\">\n",
       "  <thead>\n",
       "    <tr style=\"text-align: right;\">\n",
       "      <th></th>\n",
       "      <th>Model</th>\n",
       "      <th>Price</th>\n",
       "      <th>Year</th>\n",
       "      <th>Kilometer</th>\n",
       "      <th>Fuel Type</th>\n",
       "      <th>Transmission</th>\n",
       "      <th>Color</th>\n",
       "      <th>Owner</th>\n",
       "      <th>Seller Type</th>\n",
       "      <th>Engine</th>\n",
       "      <th>...</th>\n",
       "      <th>Make_Nissan</th>\n",
       "      <th>Make_Porsche</th>\n",
       "      <th>Make_Renault</th>\n",
       "      <th>Make_Rolls-Royce</th>\n",
       "      <th>Make_Skoda</th>\n",
       "      <th>Make_Ssangyong</th>\n",
       "      <th>Make_Tata</th>\n",
       "      <th>Make_Toyota</th>\n",
       "      <th>Make_Volkswagen</th>\n",
       "      <th>Make_Volvo</th>\n",
       "    </tr>\n",
       "  </thead>\n",
       "  <tbody>\n",
       "    <tr>\n",
       "      <th>0</th>\n",
       "      <td>106</td>\n",
       "      <td>505000</td>\n",
       "      <td>2017</td>\n",
       "      <td>87150</td>\n",
       "      <td>6</td>\n",
       "      <td>0</td>\n",
       "      <td>7</td>\n",
       "      <td>1</td>\n",
       "      <td>1</td>\n",
       "      <td>1198.0</td>\n",
       "      <td>...</td>\n",
       "      <td>0</td>\n",
       "      <td>0</td>\n",
       "      <td>0</td>\n",
       "      <td>0</td>\n",
       "      <td>0</td>\n",
       "      <td>0</td>\n",
       "      <td>0</td>\n",
       "      <td>0</td>\n",
       "      <td>0</td>\n",
       "      <td>0</td>\n",
       "    </tr>\n",
       "    <tr>\n",
       "      <th>1</th>\n",
       "      <td>802</td>\n",
       "      <td>450000</td>\n",
       "      <td>2014</td>\n",
       "      <td>75000</td>\n",
       "      <td>2</td>\n",
       "      <td>0</td>\n",
       "      <td>15</td>\n",
       "      <td>2</td>\n",
       "      <td>2</td>\n",
       "      <td>1248.0</td>\n",
       "      <td>...</td>\n",
       "      <td>0</td>\n",
       "      <td>0</td>\n",
       "      <td>0</td>\n",
       "      <td>0</td>\n",
       "      <td>0</td>\n",
       "      <td>0</td>\n",
       "      <td>0</td>\n",
       "      <td>0</td>\n",
       "      <td>0</td>\n",
       "      <td>0</td>\n",
       "    </tr>\n",
       "    <tr>\n",
       "      <th>2</th>\n",
       "      <td>1030</td>\n",
       "      <td>220000</td>\n",
       "      <td>2011</td>\n",
       "      <td>67000</td>\n",
       "      <td>6</td>\n",
       "      <td>0</td>\n",
       "      <td>8</td>\n",
       "      <td>1</td>\n",
       "      <td>2</td>\n",
       "      <td>1197.0</td>\n",
       "      <td>...</td>\n",
       "      <td>0</td>\n",
       "      <td>0</td>\n",
       "      <td>0</td>\n",
       "      <td>0</td>\n",
       "      <td>0</td>\n",
       "      <td>0</td>\n",
       "      <td>0</td>\n",
       "      <td>0</td>\n",
       "      <td>0</td>\n",
       "      <td>0</td>\n",
       "    </tr>\n",
       "    <tr>\n",
       "      <th>3</th>\n",
       "      <td>492</td>\n",
       "      <td>799000</td>\n",
       "      <td>2019</td>\n",
       "      <td>37500</td>\n",
       "      <td>6</td>\n",
       "      <td>0</td>\n",
       "      <td>13</td>\n",
       "      <td>1</td>\n",
       "      <td>2</td>\n",
       "      <td>1197.0</td>\n",
       "      <td>...</td>\n",
       "      <td>0</td>\n",
       "      <td>0</td>\n",
       "      <td>0</td>\n",
       "      <td>0</td>\n",
       "      <td>0</td>\n",
       "      <td>0</td>\n",
       "      <td>0</td>\n",
       "      <td>1</td>\n",
       "      <td>0</td>\n",
       "      <td>0</td>\n",
       "    </tr>\n",
       "    <tr>\n",
       "      <th>4</th>\n",
       "      <td>548</td>\n",
       "      <td>1950000</td>\n",
       "      <td>2018</td>\n",
       "      <td>69000</td>\n",
       "      <td>2</td>\n",
       "      <td>0</td>\n",
       "      <td>7</td>\n",
       "      <td>1</td>\n",
       "      <td>2</td>\n",
       "      <td>2393.0</td>\n",
       "      <td>...</td>\n",
       "      <td>0</td>\n",
       "      <td>0</td>\n",
       "      <td>0</td>\n",
       "      <td>0</td>\n",
       "      <td>0</td>\n",
       "      <td>0</td>\n",
       "      <td>0</td>\n",
       "      <td>1</td>\n",
       "      <td>0</td>\n",
       "      <td>0</td>\n",
       "    </tr>\n",
       "    <tr>\n",
       "      <th>...</th>\n",
       "      <td>...</td>\n",
       "      <td>...</td>\n",
       "      <td>...</td>\n",
       "      <td>...</td>\n",
       "      <td>...</td>\n",
       "      <td>...</td>\n",
       "      <td>...</td>\n",
       "      <td>...</td>\n",
       "      <td>...</td>\n",
       "      <td>...</td>\n",
       "      <td>...</td>\n",
       "      <td>...</td>\n",
       "      <td>...</td>\n",
       "      <td>...</td>\n",
       "      <td>...</td>\n",
       "      <td>...</td>\n",
       "      <td>...</td>\n",
       "      <td>...</td>\n",
       "      <td>...</td>\n",
       "      <td>...</td>\n",
       "      <td>...</td>\n",
       "    </tr>\n",
       "    <tr>\n",
       "      <th>2054</th>\n",
       "      <td>999</td>\n",
       "      <td>850000</td>\n",
       "      <td>2016</td>\n",
       "      <td>90300</td>\n",
       "      <td>2</td>\n",
       "      <td>0</td>\n",
       "      <td>15</td>\n",
       "      <td>1</td>\n",
       "      <td>2</td>\n",
       "      <td>2179.0</td>\n",
       "      <td>...</td>\n",
       "      <td>0</td>\n",
       "      <td>0</td>\n",
       "      <td>0</td>\n",
       "      <td>0</td>\n",
       "      <td>0</td>\n",
       "      <td>0</td>\n",
       "      <td>0</td>\n",
       "      <td>0</td>\n",
       "      <td>0</td>\n",
       "      <td>0</td>\n",
       "    </tr>\n",
       "    <tr>\n",
       "      <th>2055</th>\n",
       "      <td>414</td>\n",
       "      <td>275000</td>\n",
       "      <td>2014</td>\n",
       "      <td>83000</td>\n",
       "      <td>6</td>\n",
       "      <td>0</td>\n",
       "      <td>15</td>\n",
       "      <td>2</td>\n",
       "      <td>2</td>\n",
       "      <td>814.0</td>\n",
       "      <td>...</td>\n",
       "      <td>0</td>\n",
       "      <td>0</td>\n",
       "      <td>0</td>\n",
       "      <td>0</td>\n",
       "      <td>0</td>\n",
       "      <td>0</td>\n",
       "      <td>0</td>\n",
       "      <td>0</td>\n",
       "      <td>0</td>\n",
       "      <td>0</td>\n",
       "    </tr>\n",
       "    <tr>\n",
       "      <th>2056</th>\n",
       "      <td>455</td>\n",
       "      <td>240000</td>\n",
       "      <td>2013</td>\n",
       "      <td>73000</td>\n",
       "      <td>6</td>\n",
       "      <td>0</td>\n",
       "      <td>14</td>\n",
       "      <td>1</td>\n",
       "      <td>2</td>\n",
       "      <td>1196.0</td>\n",
       "      <td>...</td>\n",
       "      <td>0</td>\n",
       "      <td>0</td>\n",
       "      <td>0</td>\n",
       "      <td>0</td>\n",
       "      <td>0</td>\n",
       "      <td>0</td>\n",
       "      <td>0</td>\n",
       "      <td>0</td>\n",
       "      <td>0</td>\n",
       "      <td>0</td>\n",
       "    </tr>\n",
       "    <tr>\n",
       "      <th>2057</th>\n",
       "      <td>13</td>\n",
       "      <td>4290000</td>\n",
       "      <td>2018</td>\n",
       "      <td>60474</td>\n",
       "      <td>2</td>\n",
       "      <td>1</td>\n",
       "      <td>15</td>\n",
       "      <td>1</td>\n",
       "      <td>2</td>\n",
       "      <td>1995.0</td>\n",
       "      <td>...</td>\n",
       "      <td>0</td>\n",
       "      <td>0</td>\n",
       "      <td>0</td>\n",
       "      <td>0</td>\n",
       "      <td>0</td>\n",
       "      <td>0</td>\n",
       "      <td>0</td>\n",
       "      <td>0</td>\n",
       "      <td>0</td>\n",
       "      <td>0</td>\n",
       "    </tr>\n",
       "    <tr>\n",
       "      <th>2058</th>\n",
       "      <td>138</td>\n",
       "      <td>670000</td>\n",
       "      <td>2017</td>\n",
       "      <td>72000</td>\n",
       "      <td>2</td>\n",
       "      <td>0</td>\n",
       "      <td>15</td>\n",
       "      <td>1</td>\n",
       "      <td>2</td>\n",
       "      <td>1493.0</td>\n",
       "      <td>...</td>\n",
       "      <td>0</td>\n",
       "      <td>0</td>\n",
       "      <td>0</td>\n",
       "      <td>0</td>\n",
       "      <td>0</td>\n",
       "      <td>0</td>\n",
       "      <td>0</td>\n",
       "      <td>0</td>\n",
       "      <td>0</td>\n",
       "      <td>0</td>\n",
       "    </tr>\n",
       "  </tbody>\n",
       "</table>\n",
       "<p>2059 rows × 122 columns</p>\n",
       "</div>"
      ],
      "text/plain": [
       "      Model    Price  Year  Kilometer  Fuel Type  Transmission  Color  Owner  \\\n",
       "0       106   505000  2017      87150          6             0      7      1   \n",
       "1       802   450000  2014      75000          2             0     15      2   \n",
       "2      1030   220000  2011      67000          6             0      8      1   \n",
       "3       492   799000  2019      37500          6             0     13      1   \n",
       "4       548  1950000  2018      69000          2             0      7      1   \n",
       "...     ...      ...   ...        ...        ...           ...    ...    ...   \n",
       "2054    999   850000  2016      90300          2             0     15      1   \n",
       "2055    414   275000  2014      83000          6             0     15      2   \n",
       "2056    455   240000  2013      73000          6             0     14      1   \n",
       "2057     13  4290000  2018      60474          2             1     15      1   \n",
       "2058    138   670000  2017      72000          2             0     15      1   \n",
       "\n",
       "      Seller Type  Engine  ...  Make_Nissan  Make_Porsche  Make_Renault  \\\n",
       "0               1  1198.0  ...            0             0             0   \n",
       "1               2  1248.0  ...            0             0             0   \n",
       "2               2  1197.0  ...            0             0             0   \n",
       "3               2  1197.0  ...            0             0             0   \n",
       "4               2  2393.0  ...            0             0             0   \n",
       "...           ...     ...  ...          ...           ...           ...   \n",
       "2054            2  2179.0  ...            0             0             0   \n",
       "2055            2   814.0  ...            0             0             0   \n",
       "2056            2  1196.0  ...            0             0             0   \n",
       "2057            2  1995.0  ...            0             0             0   \n",
       "2058            2  1493.0  ...            0             0             0   \n",
       "\n",
       "      Make_Rolls-Royce  Make_Skoda  Make_Ssangyong  Make_Tata  Make_Toyota  \\\n",
       "0                    0           0               0          0            0   \n",
       "1                    0           0               0          0            0   \n",
       "2                    0           0               0          0            0   \n",
       "3                    0           0               0          0            1   \n",
       "4                    0           0               0          0            1   \n",
       "...                ...         ...             ...        ...          ...   \n",
       "2054                 0           0               0          0            0   \n",
       "2055                 0           0               0          0            0   \n",
       "2056                 0           0               0          0            0   \n",
       "2057                 0           0               0          0            0   \n",
       "2058                 0           0               0          0            0   \n",
       "\n",
       "      Make_Volkswagen  Make_Volvo  \n",
       "0                   0           0  \n",
       "1                   0           0  \n",
       "2                   0           0  \n",
       "3                   0           0  \n",
       "4                   0           0  \n",
       "...               ...         ...  \n",
       "2054                0           0  \n",
       "2055                0           0  \n",
       "2056                0           0  \n",
       "2057                0           0  \n",
       "2058                0           0  \n",
       "\n",
       "[2059 rows x 122 columns]"
      ]
     },
     "execution_count": 132,
     "metadata": {},
     "output_type": "execute_result"
    }
   ],
   "source": [
    "df"
   ]
  },
  {
   "cell_type": "code",
   "execution_count": 133,
   "id": "b0b05282-b5d9-4fe9-8069-55dba504e8d3",
   "metadata": {},
   "outputs": [
    {
     "data": {
      "text/plain": [
       "0    122\n",
       "Name: count, dtype: int64"
      ]
     },
     "execution_count": 133,
     "metadata": {},
     "output_type": "execute_result"
    }
   ],
   "source": [
    "df.isna().sum().value_counts()"
   ]
  },
  {
   "cell_type": "markdown",
   "id": "31f3b8e2-dccf-4584-a99d-8ba5532e63bd",
   "metadata": {},
   "source": [
    "# Step 4 Model Training"
   ]
  },
  {
   "cell_type": "markdown",
   "id": "a016e6cd-7361-4d2f-833d-50b31bf4a5bc",
   "metadata": {},
   "source": [
    "## 1) Linear Regression"
   ]
  },
  {
   "cell_type": "code",
   "execution_count": 134,
   "id": "25fd9cca-13e0-4ffd-8fa5-431fc3f1571e",
   "metadata": {},
   "outputs": [],
   "source": [
    "from sklearn.linear_model import LinearRegression \n",
    "from sklearn.model_selection import train_test_split\n",
    "from sklearn.metrics import r2_score, accuracy_score, mean_absolute_error, mean_squared_error\n",
    "from statsmodels.stats.outliers_influence import variance_inflation_factor"
   ]
  },
  {
   "cell_type": "code",
   "execution_count": 135,
   "id": "2de421cc-bc54-4d27-bd26-4d3d20156f59",
   "metadata": {},
   "outputs": [],
   "source": [
    "x = df.drop('Price',axis=1)# independet variable  = price\n",
    "y = df['Price']  # dependent variable"
   ]
  },
  {
   "cell_type": "code",
   "execution_count": 136,
   "id": "2ea9df6f-b013-4231-a766-ec98ed229753",
   "metadata": {},
   "outputs": [],
   "source": [
    "x_train,x_test,y_train,y_test = train_test_split(x,y, test_size=0.2, random_state=1)\n"
   ]
  },
  {
   "cell_type": "markdown",
   "id": "49d5c1a6-9fc6-4a3d-b4a2-041d4f2956a3",
   "metadata": {},
   "source": [
    "### Create an instance"
   ]
  },
  {
   "cell_type": "code",
   "execution_count": 137,
   "id": "6e4a6f33-6896-4958-bd05-a2c30d27da03",
   "metadata": {},
   "outputs": [],
   "source": [
    "model = LinearRegression()"
   ]
  },
  {
   "cell_type": "code",
   "execution_count": 138,
   "id": "d7bc1028-9f8e-411d-8b31-6ea77b4aca54",
   "metadata": {},
   "outputs": [
    {
     "data": {
      "text/html": [
       "<style>#sk-container-id-1 {color: black;background-color: white;}#sk-container-id-1 pre{padding: 0;}#sk-container-id-1 div.sk-toggleable {background-color: white;}#sk-container-id-1 label.sk-toggleable__label {cursor: pointer;display: block;width: 100%;margin-bottom: 0;padding: 0.3em;box-sizing: border-box;text-align: center;}#sk-container-id-1 label.sk-toggleable__label-arrow:before {content: \"▸\";float: left;margin-right: 0.25em;color: #696969;}#sk-container-id-1 label.sk-toggleable__label-arrow:hover:before {color: black;}#sk-container-id-1 div.sk-estimator:hover label.sk-toggleable__label-arrow:before {color: black;}#sk-container-id-1 div.sk-toggleable__content {max-height: 0;max-width: 0;overflow: hidden;text-align: left;background-color: #f0f8ff;}#sk-container-id-1 div.sk-toggleable__content pre {margin: 0.2em;color: black;border-radius: 0.25em;background-color: #f0f8ff;}#sk-container-id-1 input.sk-toggleable__control:checked~div.sk-toggleable__content {max-height: 200px;max-width: 100%;overflow: auto;}#sk-container-id-1 input.sk-toggleable__control:checked~label.sk-toggleable__label-arrow:before {content: \"▾\";}#sk-container-id-1 div.sk-estimator input.sk-toggleable__control:checked~label.sk-toggleable__label {background-color: #d4ebff;}#sk-container-id-1 div.sk-label input.sk-toggleable__control:checked~label.sk-toggleable__label {background-color: #d4ebff;}#sk-container-id-1 input.sk-hidden--visually {border: 0;clip: rect(1px 1px 1px 1px);clip: rect(1px, 1px, 1px, 1px);height: 1px;margin: -1px;overflow: hidden;padding: 0;position: absolute;width: 1px;}#sk-container-id-1 div.sk-estimator {font-family: monospace;background-color: #f0f8ff;border: 1px dotted black;border-radius: 0.25em;box-sizing: border-box;margin-bottom: 0.5em;}#sk-container-id-1 div.sk-estimator:hover {background-color: #d4ebff;}#sk-container-id-1 div.sk-parallel-item::after {content: \"\";width: 100%;border-bottom: 1px solid gray;flex-grow: 1;}#sk-container-id-1 div.sk-label:hover label.sk-toggleable__label {background-color: #d4ebff;}#sk-container-id-1 div.sk-serial::before {content: \"\";position: absolute;border-left: 1px solid gray;box-sizing: border-box;top: 0;bottom: 0;left: 50%;z-index: 0;}#sk-container-id-1 div.sk-serial {display: flex;flex-direction: column;align-items: center;background-color: white;padding-right: 0.2em;padding-left: 0.2em;position: relative;}#sk-container-id-1 div.sk-item {position: relative;z-index: 1;}#sk-container-id-1 div.sk-parallel {display: flex;align-items: stretch;justify-content: center;background-color: white;position: relative;}#sk-container-id-1 div.sk-item::before, #sk-container-id-1 div.sk-parallel-item::before {content: \"\";position: absolute;border-left: 1px solid gray;box-sizing: border-box;top: 0;bottom: 0;left: 50%;z-index: -1;}#sk-container-id-1 div.sk-parallel-item {display: flex;flex-direction: column;z-index: 1;position: relative;background-color: white;}#sk-container-id-1 div.sk-parallel-item:first-child::after {align-self: flex-end;width: 50%;}#sk-container-id-1 div.sk-parallel-item:last-child::after {align-self: flex-start;width: 50%;}#sk-container-id-1 div.sk-parallel-item:only-child::after {width: 0;}#sk-container-id-1 div.sk-dashed-wrapped {border: 1px dashed gray;margin: 0 0.4em 0.5em 0.4em;box-sizing: border-box;padding-bottom: 0.4em;background-color: white;}#sk-container-id-1 div.sk-label label {font-family: monospace;font-weight: bold;display: inline-block;line-height: 1.2em;}#sk-container-id-1 div.sk-label-container {text-align: center;}#sk-container-id-1 div.sk-container {/* jupyter's `normalize.less` sets `[hidden] { display: none; }` but bootstrap.min.css set `[hidden] { display: none !important; }` so we also need the `!important` here to be able to override the default hidden behavior on the sphinx rendered scikit-learn.org. See: https://github.com/scikit-learn/scikit-learn/issues/21755 */display: inline-block !important;position: relative;}#sk-container-id-1 div.sk-text-repr-fallback {display: none;}</style><div id=\"sk-container-id-1\" class=\"sk-top-container\"><div class=\"sk-text-repr-fallback\"><pre>LinearRegression()</pre><b>In a Jupyter environment, please rerun this cell to show the HTML representation or trust the notebook. <br />On GitHub, the HTML representation is unable to render, please try loading this page with nbviewer.org.</b></div><div class=\"sk-container\" hidden><div class=\"sk-item\"><div class=\"sk-estimator sk-toggleable\"><input class=\"sk-toggleable__control sk-hidden--visually\" id=\"sk-estimator-id-1\" type=\"checkbox\" checked><label for=\"sk-estimator-id-1\" class=\"sk-toggleable__label sk-toggleable__label-arrow\">LinearRegression</label><div class=\"sk-toggleable__content\"><pre>LinearRegression()</pre></div></div></div></div></div>"
      ],
      "text/plain": [
       "LinearRegression()"
      ]
     },
     "execution_count": 138,
     "metadata": {},
     "output_type": "execute_result"
    }
   ],
   "source": [
    "model.fit(x_train,y_train)"
   ]
  },
  {
   "cell_type": "code",
   "execution_count": 140,
   "id": "bf1b1eb4-3b60-4ba1-a266-d6c292d00436",
   "metadata": {},
   "outputs": [
    {
     "data": {
      "text/plain": [
       "array([ 3.86152463e+02,  1.93259498e+05, -3.69342996e+00,  2.60131578e+04,\n",
       "        8.64416549e+03,  3.42519567e+01,  1.29928225e+05,  4.90436193e+04,\n",
       "        8.75428755e+02,  3.23497449e+05,  3.28943903e+04, -2.41129022e+05,\n",
       "       -6.75379854e+04,  2.26650338e+05,  1.07041843e+05,  1.90155725e+04,\n",
       "       -2.94678828e+05,  1.03414090e+05,  1.54479503e+05, -2.34030464e+05,\n",
       "       -3.50198736e+04, -1.86029350e+05,  2.23052225e+05,  1.37049906e+05,\n",
       "        3.42488493e+04,  1.82411485e+05,  9.86293843e+04,  2.89878532e+05,\n",
       "        1.22117315e+05,  6.23755494e+05,  5.36528552e+05, -5.24710240e+04,\n",
       "        4.11771796e+05,  5.45195404e+05, -1.24366369e+06, -8.20636174e+04,\n",
       "       -2.33573955e+05, -1.66352729e+05,  1.86201121e+05,  2.66714111e+05,\n",
       "       -7.52088584e+04, -2.99573087e+05,  3.64844672e+05,  6.52155249e+04,\n",
       "       -9.41262033e+03, -2.53773866e+05,  1.07102096e-08, -3.12007518e+05,\n",
       "       -3.80316155e+05,  2.57699450e+05,  4.03594391e+04, -2.02731230e+05,\n",
       "       -2.39714737e+05,  6.57411397e+04,  7.28555446e+05, -8.95200299e+03,\n",
       "       -8.85203676e+04, -4.48896485e+05, -2.74389490e+05, -9.44327313e+04,\n",
       "       -2.67934022e+05, -4.04954983e+05,  7.46332833e+04,  1.80587491e+05,\n",
       "       -2.64425851e+05, -1.49485017e+05,  1.65933949e+05,  1.49249828e+05,\n",
       "        5.40410043e+05, -2.70719205e+05, -1.69972679e+05, -5.16470367e+05,\n",
       "       -7.79982656e-09, -1.55160866e+05, -1.15908300e+05,  5.83174877e+05,\n",
       "       -2.84472278e+05,  5.69684967e+05,  4.68955222e+05, -2.55938457e+05,\n",
       "       -5.19553013e+05,  6.38993361e+05, -9.84264310e+04,  9.93358889e+04,\n",
       "       -2.07010167e+05,  8.97831114e+04, -7.40560869e+03, -1.38996276e+05,\n",
       "       -1.01230411e+06, -5.55868528e+05, -1.99082777e+06, -2.83612235e+06,\n",
       "        2.92343073e+07, -1.74280914e+06, -1.87527801e+06, -2.05517556e+06,\n",
       "       -2.17562554e+06, -3.00737488e+06, -5.91166212e+05, -1.76425774e+06,\n",
       "       -2.34978867e+06, -1.90993887e-09,  1.60278331e+06,  2.05961105e+05,\n",
       "       -2.09363080e+06, -3.98718551e+05, -2.95626818e+06, -2.17550447e+06,\n",
       "        3.54937940e+06,  3.11618114e+05, -2.58454388e+06, -2.13440722e+06,\n",
       "        4.10471129e+06, -2.38143279e+06,  1.12411138e+07, -1.87777621e+06,\n",
       "       -3.96395159e+06, -2.56476473e+06, -2.07638258e+06, -2.09337617e+06,\n",
       "       -9.92518693e+05])"
      ]
     },
     "execution_count": 140,
     "metadata": {},
     "output_type": "execute_result"
    }
   ],
   "source": [
    "model.coef_"
   ]
  },
  {
   "cell_type": "code",
   "execution_count": 141,
   "id": "e92e0a7e-660e-4129-ae1f-8fe4afd947a4",
   "metadata": {},
   "outputs": [
    {
     "data": {
      "text/plain": [
       "-388821243.9849189"
      ]
     },
     "execution_count": 141,
     "metadata": {},
     "output_type": "execute_result"
    }
   ],
   "source": [
    "model.intercept_"
   ]
  },
  {
   "cell_type": "markdown",
   "id": "dbc10bc4-a520-4d9b-b68f-47f65129f98c",
   "metadata": {},
   "source": [
    "## Testing Data Evalution"
   ]
  },
  {
   "cell_type": "code",
   "execution_count": 124,
   "id": "32eb9ce8-0791-4e17-b870-88843f84c0e3",
   "metadata": {},
   "outputs": [
    {
     "name": "stdout",
     "output_type": "stream",
     "text": [
      "MSE: 3012468735600.5874\n",
      "RMSE: 1735646.489236961\n",
      "R2: 0.6383093472587225\n",
      "MAE: 760319.061025287\n"
     ]
    }
   ],
   "source": [
    "y_pred = model.predict(x_test)\n",
    "\n",
    "mse= mean_squared_error(y_test, y_pred )\n",
    "print('MSE:', mse)\n",
    "\n",
    "rmse = np.sqrt(mse)\n",
    "print('RMSE:', rmse)\n",
    "\n",
    "r2 = r2_score(y_test,y_pred )\n",
    "print('R2:',r2)\n",
    "\n",
    "mae= mean_absolute_error(y_test, y_pred )\n",
    "print('MAE:', mae)"
   ]
  },
  {
   "cell_type": "markdown",
   "id": "b9181f5d-558e-4ea3-b1e4-62b60c68b9e9",
   "metadata": {},
   "source": [
    "## Training data Evaluation"
   ]
  },
  {
   "cell_type": "code",
   "execution_count": 125,
   "id": "4ccb25a5-2811-4fbd-8d3c-8a453128c08a",
   "metadata": {},
   "outputs": [
    {
     "name": "stdout",
     "output_type": "stream",
     "text": [
      "MSE: 1291620107976.2034\n",
      "RMSE: 1136494.6581379974\n",
      "R2: 0.7530385490340851\n",
      "MAE: 621350.5133678014\n"
     ]
    }
   ],
   "source": [
    "y_pred_train = model.predict(x_train)\n",
    "\n",
    "mse= mean_squared_error(y_train, y_pred_train )\n",
    "print('MSE:', mse)\n",
    "\n",
    "rmse = np.sqrt(mse)\n",
    "print('RMSE:', rmse)\n",
    "\n",
    "r2 = r2_score(y_train,y_pred_train )\n",
    "print('R2:',r2)\n",
    "\n",
    "mae= mean_absolute_error(y_train, y_pred_train )\n",
    "print('MAE:', mae)"
   ]
  },
  {
   "cell_type": "code",
   "execution_count": 126,
   "id": "bc6de175-3b30-48a1-ac7c-4b5a19ed26e8",
   "metadata": {},
   "outputs": [
    {
     "data": {
      "text/plain": [
       "1178    10800000\n",
       "1707      595000\n",
       "920       198000\n",
       "111      2250000\n",
       "1011      695000\n",
       "1100      425000\n",
       "1975      521000\n",
       "1219     2250000\n",
       "1068     1750000\n",
       "846       750000\n",
       "Name: Price, dtype: int64"
      ]
     },
     "execution_count": 126,
     "metadata": {},
     "output_type": "execute_result"
    }
   ],
   "source": [
    "y_test[:10]"
   ]
  },
  {
   "cell_type": "code",
   "execution_count": 127,
   "id": "fcc991b2-fa74-424d-9fa1-e1207da849c6",
   "metadata": {},
   "outputs": [
    {
     "data": {
      "text/plain": [
       "array([5464984.09591275,  319396.61550957,   23297.64546585,\n",
       "       3753935.91780752, 1022776.75358653, 1752806.58098376,\n",
       "        706491.74575955, 2738225.57939339, 1610552.25718874,\n",
       "       3675810.29048002])"
      ]
     },
     "execution_count": 127,
     "metadata": {},
     "output_type": "execute_result"
    }
   ],
   "source": [
    "y_pred[:10]"
   ]
  },
  {
   "cell_type": "code",
   "execution_count": 128,
   "id": "4fcf5b94-4264-40c1-962c-e9b0adc519d7",
   "metadata": {},
   "outputs": [
    {
     "data": {
      "text/plain": [
       "563    -1.040519e+06\n",
       "17     -1.086877e+05\n",
       "248     7.385643e+05\n",
       "1740    1.772812e+05\n",
       "1413   -3.255699e+05\n",
       "            ...     \n",
       "960    -1.091868e+06\n",
       "905    -2.008521e+05\n",
       "1096   -6.747185e+05\n",
       "235    -6.133990e+06\n",
       "1061    4.423889e+05\n",
       "Name: Price, Length: 1647, dtype: float64"
      ]
     },
     "execution_count": 128,
     "metadata": {},
     "output_type": "execute_result"
    }
   ],
   "source": [
    "residual = y_train - y_pred_train\n",
    "residual"
   ]
  },
  {
   "cell_type": "code",
   "execution_count": 129,
   "id": "bfc2e7b3-ccd6-413e-a9de-8b215b4cf61a",
   "metadata": {},
   "outputs": [],
   "source": [
    "import scipy.stats as sts\n",
    "import statsmodels.api as sm"
   ]
  },
  {
   "cell_type": "code",
   "execution_count": 130,
   "id": "ccb72b5a-5504-4de2-ba19-18eac58cc076",
   "metadata": {},
   "outputs": [
    {
     "data": {
      "image/png": "[encoded data removed]",
      "text/plain": [
       "<Figure size 640x480 with 1 Axes>"
      ]
     },
     "execution_count": 130,
     "metadata": {},
     "output_type": "execute_result"
    },
    {
     "data": {
      "image/png": "[encoded data removed]",
      "text/plain": [
       "<Figure size 640x480 with 1 Axes>"
      ]
     },
     "metadata": {},
     "output_type": "display_data"
    }
   ],
   "source": [
    "sm.qqplot(residual, line ='45',fit= True)"
   ]
  },
  {
   "cell_type": "markdown",
   "id": "aa44c5c1-c343-45f9-a506-62f14e51686e",
   "metadata": {},
   "source": [
    "# 2) K-Nearest Neighbour Algorithm"
   ]
  },
  {
   "cell_type": "markdown",
   "id": "e8d90ecb-57c1-426d-8d2a-b6139e92ba18",
   "metadata": {},
   "source": [
    "## Normalization"
   ]
  },
  {
   "cell_type": "code",
   "execution_count": 131,
   "id": "4300d02b-23de-4361-a0f8-7a8f36d5e469",
   "metadata": {},
   "outputs": [],
   "source": [
    "from sklearn.neighbors import KNeighborsRegressor\n",
    "\n",
    "from sklearn.preprocessing import MinMaxScaler, StandardScaler\n",
    "from sklearn.model_selection import train_test_split, GridSearchCV"
   ]
  },
  {
   "cell_type": "code",
   "execution_count": 132,
   "id": "89a1670b-f714-471a-8537-4f3504c45a46",
   "metadata": {},
   "outputs": [
    {
     "data": {
      "text/html": [
       "<div>\n",
       "<style scoped>\n",
       "    .dataframe tbody tr th:only-of-type {\n",
       "        vertical-align: middle;\n",
       "    }\n",
       "\n",
       "    .dataframe tbody tr th {\n",
       "        vertical-align: top;\n",
       "    }\n",
       "\n",
       "    .dataframe thead th {\n",
       "        text-align: right;\n",
       "    }\n",
       "</style>\n",
       "<table border=\"1\" class=\"dataframe\">\n",
       "  <thead>\n",
       "    <tr style=\"text-align: right;\">\n",
       "      <th></th>\n",
       "      <th>Model</th>\n",
       "      <th>Year</th>\n",
       "      <th>Kilometer</th>\n",
       "      <th>Fuel Type</th>\n",
       "      <th>Transmission</th>\n",
       "      <th>Color</th>\n",
       "      <th>Owner</th>\n",
       "      <th>Seller Type</th>\n",
       "      <th>Engine</th>\n",
       "      <th>Drivetrain</th>\n",
       "      <th>...</th>\n",
       "      <th>Make_Nissan</th>\n",
       "      <th>Make_Porsche</th>\n",
       "      <th>Make_Renault</th>\n",
       "      <th>Make_Rolls-Royce</th>\n",
       "      <th>Make_Skoda</th>\n",
       "      <th>Make_Ssangyong</th>\n",
       "      <th>Make_Tata</th>\n",
       "      <th>Make_Toyota</th>\n",
       "      <th>Make_Volkswagen</th>\n",
       "      <th>Make_Volvo</th>\n",
       "    </tr>\n",
       "  </thead>\n",
       "  <tbody>\n",
       "    <tr>\n",
       "      <th>0</th>\n",
       "      <td>0.101049</td>\n",
       "      <td>0.852941</td>\n",
       "      <td>0.043575</td>\n",
       "      <td>0.75</td>\n",
       "      <td>0.0</td>\n",
       "      <td>0.4375</td>\n",
       "      <td>0.0</td>\n",
       "      <td>0.0</td>\n",
       "      <td>0.096180</td>\n",
       "      <td>0.0</td>\n",
       "      <td>...</td>\n",
       "      <td>0.0</td>\n",
       "      <td>0.0</td>\n",
       "      <td>0.0</td>\n",
       "      <td>0.0</td>\n",
       "      <td>0.0</td>\n",
       "      <td>0.0</td>\n",
       "      <td>0.0</td>\n",
       "      <td>0.0</td>\n",
       "      <td>0.0</td>\n",
       "      <td>0.0</td>\n",
       "    </tr>\n",
       "    <tr>\n",
       "      <th>1</th>\n",
       "      <td>0.764538</td>\n",
       "      <td>0.764706</td>\n",
       "      <td>0.037500</td>\n",
       "      <td>0.25</td>\n",
       "      <td>0.0</td>\n",
       "      <td>0.9375</td>\n",
       "      <td>0.2</td>\n",
       "      <td>0.5</td>\n",
       "      <td>0.104558</td>\n",
       "      <td>0.0</td>\n",
       "      <td>...</td>\n",
       "      <td>0.0</td>\n",
       "      <td>0.0</td>\n",
       "      <td>0.0</td>\n",
       "      <td>0.0</td>\n",
       "      <td>0.0</td>\n",
       "      <td>0.0</td>\n",
       "      <td>0.0</td>\n",
       "      <td>0.0</td>\n",
       "      <td>0.0</td>\n",
       "      <td>0.0</td>\n",
       "    </tr>\n",
       "    <tr>\n",
       "      <th>2</th>\n",
       "      <td>0.981888</td>\n",
       "      <td>0.676471</td>\n",
       "      <td>0.033500</td>\n",
       "      <td>0.75</td>\n",
       "      <td>0.0</td>\n",
       "      <td>0.5000</td>\n",
       "      <td>0.0</td>\n",
       "      <td>0.5</td>\n",
       "      <td>0.096012</td>\n",
       "      <td>0.0</td>\n",
       "      <td>...</td>\n",
       "      <td>0.0</td>\n",
       "      <td>0.0</td>\n",
       "      <td>0.0</td>\n",
       "      <td>0.0</td>\n",
       "      <td>0.0</td>\n",
       "      <td>0.0</td>\n",
       "      <td>0.0</td>\n",
       "      <td>0.0</td>\n",
       "      <td>0.0</td>\n",
       "      <td>0.0</td>\n",
       "    </tr>\n",
       "    <tr>\n",
       "      <th>3</th>\n",
       "      <td>0.469018</td>\n",
       "      <td>0.911765</td>\n",
       "      <td>0.018750</td>\n",
       "      <td>0.75</td>\n",
       "      <td>0.0</td>\n",
       "      <td>0.8125</td>\n",
       "      <td>0.0</td>\n",
       "      <td>0.5</td>\n",
       "      <td>0.096012</td>\n",
       "      <td>0.0</td>\n",
       "      <td>...</td>\n",
       "      <td>0.0</td>\n",
       "      <td>0.0</td>\n",
       "      <td>0.0</td>\n",
       "      <td>0.0</td>\n",
       "      <td>0.0</td>\n",
       "      <td>0.0</td>\n",
       "      <td>0.0</td>\n",
       "      <td>1.0</td>\n",
       "      <td>0.0</td>\n",
       "      <td>0.0</td>\n",
       "    </tr>\n",
       "    <tr>\n",
       "      <th>4</th>\n",
       "      <td>0.522402</td>\n",
       "      <td>0.882353</td>\n",
       "      <td>0.034500</td>\n",
       "      <td>0.25</td>\n",
       "      <td>0.0</td>\n",
       "      <td>0.4375</td>\n",
       "      <td>0.0</td>\n",
       "      <td>0.5</td>\n",
       "      <td>0.296414</td>\n",
       "      <td>0.5</td>\n",
       "      <td>...</td>\n",
       "      <td>0.0</td>\n",
       "      <td>0.0</td>\n",
       "      <td>0.0</td>\n",
       "      <td>0.0</td>\n",
       "      <td>0.0</td>\n",
       "      <td>0.0</td>\n",
       "      <td>0.0</td>\n",
       "      <td>1.0</td>\n",
       "      <td>0.0</td>\n",
       "      <td>0.0</td>\n",
       "    </tr>\n",
       "    <tr>\n",
       "      <th>...</th>\n",
       "      <td>...</td>\n",
       "      <td>...</td>\n",
       "      <td>...</td>\n",
       "      <td>...</td>\n",
       "      <td>...</td>\n",
       "      <td>...</td>\n",
       "      <td>...</td>\n",
       "      <td>...</td>\n",
       "      <td>...</td>\n",
       "      <td>...</td>\n",
       "      <td>...</td>\n",
       "      <td>...</td>\n",
       "      <td>...</td>\n",
       "      <td>...</td>\n",
       "      <td>...</td>\n",
       "      <td>...</td>\n",
       "      <td>...</td>\n",
       "      <td>...</td>\n",
       "      <td>...</td>\n",
       "      <td>...</td>\n",
       "      <td>...</td>\n",
       "    </tr>\n",
       "    <tr>\n",
       "      <th>2054</th>\n",
       "      <td>0.952336</td>\n",
       "      <td>0.823529</td>\n",
       "      <td>0.045150</td>\n",
       "      <td>0.25</td>\n",
       "      <td>0.0</td>\n",
       "      <td>0.9375</td>\n",
       "      <td>0.0</td>\n",
       "      <td>0.5</td>\n",
       "      <td>0.260556</td>\n",
       "      <td>0.0</td>\n",
       "      <td>...</td>\n",
       "      <td>0.0</td>\n",
       "      <td>0.0</td>\n",
       "      <td>0.0</td>\n",
       "      <td>0.0</td>\n",
       "      <td>0.0</td>\n",
       "      <td>0.0</td>\n",
       "      <td>0.0</td>\n",
       "      <td>0.0</td>\n",
       "      <td>0.0</td>\n",
       "      <td>0.0</td>\n",
       "    </tr>\n",
       "    <tr>\n",
       "      <th>2055</th>\n",
       "      <td>0.394662</td>\n",
       "      <td>0.764706</td>\n",
       "      <td>0.041500</td>\n",
       "      <td>0.75</td>\n",
       "      <td>0.0</td>\n",
       "      <td>0.9375</td>\n",
       "      <td>0.2</td>\n",
       "      <td>0.5</td>\n",
       "      <td>0.031836</td>\n",
       "      <td>0.0</td>\n",
       "      <td>...</td>\n",
       "      <td>0.0</td>\n",
       "      <td>0.0</td>\n",
       "      <td>0.0</td>\n",
       "      <td>0.0</td>\n",
       "      <td>0.0</td>\n",
       "      <td>0.0</td>\n",
       "      <td>0.0</td>\n",
       "      <td>0.0</td>\n",
       "      <td>0.0</td>\n",
       "      <td>0.0</td>\n",
       "    </tr>\n",
       "    <tr>\n",
       "      <th>2056</th>\n",
       "      <td>0.433746</td>\n",
       "      <td>0.735294</td>\n",
       "      <td>0.036500</td>\n",
       "      <td>0.75</td>\n",
       "      <td>0.0</td>\n",
       "      <td>0.8750</td>\n",
       "      <td>0.0</td>\n",
       "      <td>0.5</td>\n",
       "      <td>0.095845</td>\n",
       "      <td>0.0</td>\n",
       "      <td>...</td>\n",
       "      <td>0.0</td>\n",
       "      <td>0.0</td>\n",
       "      <td>0.0</td>\n",
       "      <td>0.0</td>\n",
       "      <td>0.0</td>\n",
       "      <td>0.0</td>\n",
       "      <td>0.0</td>\n",
       "      <td>0.0</td>\n",
       "      <td>0.0</td>\n",
       "      <td>0.0</td>\n",
       "    </tr>\n",
       "    <tr>\n",
       "      <th>2057</th>\n",
       "      <td>0.012393</td>\n",
       "      <td>0.882353</td>\n",
       "      <td>0.030237</td>\n",
       "      <td>0.25</td>\n",
       "      <td>1.0</td>\n",
       "      <td>0.9375</td>\n",
       "      <td>0.0</td>\n",
       "      <td>0.5</td>\n",
       "      <td>0.229725</td>\n",
       "      <td>0.5</td>\n",
       "      <td>...</td>\n",
       "      <td>0.0</td>\n",
       "      <td>0.0</td>\n",
       "      <td>0.0</td>\n",
       "      <td>0.0</td>\n",
       "      <td>0.0</td>\n",
       "      <td>0.0</td>\n",
       "      <td>0.0</td>\n",
       "      <td>0.0</td>\n",
       "      <td>0.0</td>\n",
       "      <td>0.0</td>\n",
       "    </tr>\n",
       "    <tr>\n",
       "      <th>2058</th>\n",
       "      <td>0.131554</td>\n",
       "      <td>0.852941</td>\n",
       "      <td>0.036000</td>\n",
       "      <td>0.25</td>\n",
       "      <td>0.0</td>\n",
       "      <td>0.9375</td>\n",
       "      <td>0.0</td>\n",
       "      <td>0.5</td>\n",
       "      <td>0.145610</td>\n",
       "      <td>0.5</td>\n",
       "      <td>...</td>\n",
       "      <td>0.0</td>\n",
       "      <td>0.0</td>\n",
       "      <td>0.0</td>\n",
       "      <td>0.0</td>\n",
       "      <td>0.0</td>\n",
       "      <td>0.0</td>\n",
       "      <td>0.0</td>\n",
       "      <td>0.0</td>\n",
       "      <td>0.0</td>\n",
       "      <td>0.0</td>\n",
       "    </tr>\n",
       "  </tbody>\n",
       "</table>\n",
       "<p>2059 rows × 121 columns</p>\n",
       "</div>"
      ],
      "text/plain": [
       "         Model      Year  Kilometer  Fuel Type  Transmission   Color  Owner  \\\n",
       "0     0.101049  0.852941   0.043575       0.75           0.0  0.4375    0.0   \n",
       "1     0.764538  0.764706   0.037500       0.25           0.0  0.9375    0.2   \n",
       "2     0.981888  0.676471   0.033500       0.75           0.0  0.5000    0.0   \n",
       "3     0.469018  0.911765   0.018750       0.75           0.0  0.8125    0.0   \n",
       "4     0.522402  0.882353   0.034500       0.25           0.0  0.4375    0.0   \n",
       "...        ...       ...        ...        ...           ...     ...    ...   \n",
       "2054  0.952336  0.823529   0.045150       0.25           0.0  0.9375    0.0   \n",
       "2055  0.394662  0.764706   0.041500       0.75           0.0  0.9375    0.2   \n",
       "2056  0.433746  0.735294   0.036500       0.75           0.0  0.8750    0.0   \n",
       "2057  0.012393  0.882353   0.030237       0.25           1.0  0.9375    0.0   \n",
       "2058  0.131554  0.852941   0.036000       0.25           0.0  0.9375    0.0   \n",
       "\n",
       "      Seller Type    Engine  Drivetrain  ...  Make_Nissan  Make_Porsche  \\\n",
       "0             0.0  0.096180         0.0  ...          0.0           0.0   \n",
       "1             0.5  0.104558         0.0  ...          0.0           0.0   \n",
       "2             0.5  0.096012         0.0  ...          0.0           0.0   \n",
       "3             0.5  0.096012         0.0  ...          0.0           0.0   \n",
       "4             0.5  0.296414         0.5  ...          0.0           0.0   \n",
       "...           ...       ...         ...  ...          ...           ...   \n",
       "2054          0.5  0.260556         0.0  ...          0.0           0.0   \n",
       "2055          0.5  0.031836         0.0  ...          0.0           0.0   \n",
       "2056          0.5  0.095845         0.0  ...          0.0           0.0   \n",
       "2057          0.5  0.229725         0.5  ...          0.0           0.0   \n",
       "2058          0.5  0.145610         0.5  ...          0.0           0.0   \n",
       "\n",
       "      Make_Renault  Make_Rolls-Royce  Make_Skoda  Make_Ssangyong  Make_Tata  \\\n",
       "0              0.0               0.0         0.0             0.0        0.0   \n",
       "1              0.0               0.0         0.0             0.0        0.0   \n",
       "2              0.0               0.0         0.0             0.0        0.0   \n",
       "3              0.0               0.0         0.0             0.0        0.0   \n",
       "4              0.0               0.0         0.0             0.0        0.0   \n",
       "...            ...               ...         ...             ...        ...   \n",
       "2054           0.0               0.0         0.0             0.0        0.0   \n",
       "2055           0.0               0.0         0.0             0.0        0.0   \n",
       "2056           0.0               0.0         0.0             0.0        0.0   \n",
       "2057           0.0               0.0         0.0             0.0        0.0   \n",
       "2058           0.0               0.0         0.0             0.0        0.0   \n",
       "\n",
       "      Make_Toyota  Make_Volkswagen  Make_Volvo  \n",
       "0             0.0              0.0         0.0  \n",
       "1             0.0              0.0         0.0  \n",
       "2             0.0              0.0         0.0  \n",
       "3             1.0              0.0         0.0  \n",
       "4             1.0              0.0         0.0  \n",
       "...           ...              ...         ...  \n",
       "2054          0.0              0.0         0.0  \n",
       "2055          0.0              0.0         0.0  \n",
       "2056          0.0              0.0         0.0  \n",
       "2057          0.0              0.0         0.0  \n",
       "2058          0.0              0.0         0.0  \n",
       "\n",
       "[2059 rows x 121 columns]"
      ]
     },
     "execution_count": 132,
     "metadata": {},
     "output_type": "execute_result"
    }
   ],
   "source": [
    "Norm = MinMaxScaler()\n",
    "Norm_array = Norm.fit_transform(x)\n",
    "Norm_df = pd.DataFrame(Norm_array, columns=x.columns)\n",
    "Norm_df"
   ]
  },
  {
   "cell_type": "markdown",
   "id": "cbc00434-e630-48d2-916c-2737fc414a29",
   "metadata": {},
   "source": [
    "## Model Training"
   ]
  },
  {
   "cell_type": "code",
   "execution_count": 133,
   "id": "f36c5a58-c672-4f19-b1d1-391a502d23b5",
   "metadata": {},
   "outputs": [
    {
     "data": {
      "text/html": [
       "<style>#sk-container-id-2 {color: black;background-color: white;}#sk-container-id-2 pre{padding: 0;}#sk-container-id-2 div.sk-toggleable {background-color: white;}#sk-container-id-2 label.sk-toggleable__label {cursor: pointer;display: block;width: 100%;margin-bottom: 0;padding: 0.3em;box-sizing: border-box;text-align: center;}#sk-container-id-2 label.sk-toggleable__label-arrow:before {content: \"▸\";float: left;margin-right: 0.25em;color: #696969;}#sk-container-id-2 label.sk-toggleable__label-arrow:hover:before {color: black;}#sk-container-id-2 div.sk-estimator:hover label.sk-toggleable__label-arrow:before {color: black;}#sk-container-id-2 div.sk-toggleable__content {max-height: 0;max-width: 0;overflow: hidden;text-align: left;background-color: #f0f8ff;}#sk-container-id-2 div.sk-toggleable__content pre {margin: 0.2em;color: black;border-radius: 0.25em;background-color: #f0f8ff;}#sk-container-id-2 input.sk-toggleable__control:checked~div.sk-toggleable__content {max-height: 200px;max-width: 100%;overflow: auto;}#sk-container-id-2 input.sk-toggleable__control:checked~label.sk-toggleable__label-arrow:before {content: \"▾\";}#sk-container-id-2 div.sk-estimator input.sk-toggleable__control:checked~label.sk-toggleable__label {background-color: #d4ebff;}#sk-container-id-2 div.sk-label input.sk-toggleable__control:checked~label.sk-toggleable__label {background-color: #d4ebff;}#sk-container-id-2 input.sk-hidden--visually {border: 0;clip: rect(1px 1px 1px 1px);clip: rect(1px, 1px, 1px, 1px);height: 1px;margin: -1px;overflow: hidden;padding: 0;position: absolute;width: 1px;}#sk-container-id-2 div.sk-estimator {font-family: monospace;background-color: #f0f8ff;border: 1px dotted black;border-radius: 0.25em;box-sizing: border-box;margin-bottom: 0.5em;}#sk-container-id-2 div.sk-estimator:hover {background-color: #d4ebff;}#sk-container-id-2 div.sk-parallel-item::after {content: \"\";width: 100%;border-bottom: 1px solid gray;flex-grow: 1;}#sk-container-id-2 div.sk-label:hover label.sk-toggleable__label {background-color: #d4ebff;}#sk-container-id-2 div.sk-serial::before {content: \"\";position: absolute;border-left: 1px solid gray;box-sizing: border-box;top: 0;bottom: 0;left: 50%;z-index: 0;}#sk-container-id-2 div.sk-serial {display: flex;flex-direction: column;align-items: center;background-color: white;padding-right: 0.2em;padding-left: 0.2em;position: relative;}#sk-container-id-2 div.sk-item {position: relative;z-index: 1;}#sk-container-id-2 div.sk-parallel {display: flex;align-items: stretch;justify-content: center;background-color: white;position: relative;}#sk-container-id-2 div.sk-item::before, #sk-container-id-2 div.sk-parallel-item::before {content: \"\";position: absolute;border-left: 1px solid gray;box-sizing: border-box;top: 0;bottom: 0;left: 50%;z-index: -1;}#sk-container-id-2 div.sk-parallel-item {display: flex;flex-direction: column;z-index: 1;position: relative;background-color: white;}#sk-container-id-2 div.sk-parallel-item:first-child::after {align-self: flex-end;width: 50%;}#sk-container-id-2 div.sk-parallel-item:last-child::after {align-self: flex-start;width: 50%;}#sk-container-id-2 div.sk-parallel-item:only-child::after {width: 0;}#sk-container-id-2 div.sk-dashed-wrapped {border: 1px dashed gray;margin: 0 0.4em 0.5em 0.4em;box-sizing: border-box;padding-bottom: 0.4em;background-color: white;}#sk-container-id-2 div.sk-label label {font-family: monospace;font-weight: bold;display: inline-block;line-height: 1.2em;}#sk-container-id-2 div.sk-label-container {text-align: center;}#sk-container-id-2 div.sk-container {/* jupyter's `normalize.less` sets `[hidden] { display: none; }` but bootstrap.min.css set `[hidden] { display: none !important; }` so we also need the `!important` here to be able to override the default hidden behavior on the sphinx rendered scikit-learn.org. See: https://github.com/scikit-learn/scikit-learn/issues/21755 */display: inline-block !important;position: relative;}#sk-container-id-2 div.sk-text-repr-fallback {display: none;}</style><div id=\"sk-container-id-2\" class=\"sk-top-container\"><div class=\"sk-text-repr-fallback\"><pre>KNeighborsRegressor()</pre><b>In a Jupyter environment, please rerun this cell to show the HTML representation or trust the notebook. <br />On GitHub, the HTML representation is unable to render, please try loading this page with nbviewer.org.</b></div><div class=\"sk-container\" hidden><div class=\"sk-item\"><div class=\"sk-estimator sk-toggleable\"><input class=\"sk-toggleable__control sk-hidden--visually\" id=\"sk-estimator-id-2\" type=\"checkbox\" checked><label for=\"sk-estimator-id-2\" class=\"sk-toggleable__label sk-toggleable__label-arrow\">KNeighborsRegressor</label><div class=\"sk-toggleable__content\"><pre>KNeighborsRegressor()</pre></div></div></div></div></div>"
      ],
      "text/plain": [
       "KNeighborsRegressor()"
      ]
     },
     "execution_count": 133,
     "metadata": {},
     "output_type": "execute_result"
    }
   ],
   "source": [
    "knn_model= KNeighborsRegressor()\n",
    "knn_model.fit(x_train,y_train)"
   ]
  },
  {
   "cell_type": "markdown",
   "id": "06d290f9-f223-4869-b88c-65ac784292b1",
   "metadata": {},
   "source": [
    "## Testing data Evaluation"
   ]
  },
  {
   "cell_type": "code",
   "execution_count": 134,
   "id": "60f315e7-fb1a-4e82-9a26-6e397b80e160",
   "metadata": {},
   "outputs": [],
   "source": [
    "y_pred = knn_model.predict(x_test)"
   ]
  },
  {
   "cell_type": "code",
   "execution_count": 135,
   "id": "7a45d0e1-21ad-4bef-9e6a-d4264ab033f4",
   "metadata": {},
   "outputs": [
    {
     "name": "stdout",
     "output_type": "stream",
     "text": [
      "MSE : 4852398207784.133\n",
      "RMSE : 2202815.9722918603\n",
      "r2_score : 0.4173990739246142\n"
     ]
    }
   ],
   "source": [
    "mse = mean_squared_error(y_test,y_pred)\n",
    "print('MSE :', mse)\n",
    "\n",
    "rmse = np.sqrt(mse)\n",
    "print('RMSE :',rmse)\n",
    "\n",
    "r2 = r2_score(y_test,y_pred)\n",
    "print('r2_score :', r2)"
   ]
  },
  {
   "cell_type": "markdown",
   "id": "3e41d790-4db8-4779-91a8-e2bf0f75e9d5",
   "metadata": {},
   "source": [
    "## Training data Evaluation"
   ]
  },
  {
   "cell_type": "code",
   "execution_count": 136,
   "id": "023d4cb9-6e49-4dfe-8c5c-da8a17c37f15",
   "metadata": {},
   "outputs": [],
   "source": [
    "y_pred = knn_model.predict(x_train)"
   ]
  },
  {
   "cell_type": "code",
   "execution_count": 137,
   "id": "12715d9b-15d7-43fd-9a39-850380c2013b",
   "metadata": {},
   "outputs": [
    {
     "name": "stdout",
     "output_type": "stream",
     "text": [
      "MSE : 2052875401093.5652\n",
      "RMSE : 1432785.888084317\n",
      "r2_score : 0.6074843643455867\n"
     ]
    }
   ],
   "source": [
    "mse = mean_squared_error(y_train,y_pred)\n",
    "print('MSE :', mse)\n",
    "\n",
    "rmse = np.sqrt(mse)\n",
    "print('RMSE :',rmse)\n",
    "\n",
    "r2 = r2_score(y_train,y_pred)\n",
    "print('r2_score :', r2)"
   ]
  },
  {
   "cell_type": "markdown",
   "id": "53e02558-f2de-456f-80a6-1b5db3e72371",
   "metadata": {},
   "source": [
    "## Hyper Parameter tuning"
   ]
  },
  {
   "cell_type": "code",
   "execution_count": 138,
   "id": "2490a9a6-75ca-4f8f-8819-4d33884925e4",
   "metadata": {},
   "outputs": [
    {
     "data": {
      "text/html": [
       "<style>#sk-container-id-3 {color: black;background-color: white;}#sk-container-id-3 pre{padding: 0;}#sk-container-id-3 div.sk-toggleable {background-color: white;}#sk-container-id-3 label.sk-toggleable__label {cursor: pointer;display: block;width: 100%;margin-bottom: 0;padding: 0.3em;box-sizing: border-box;text-align: center;}#sk-container-id-3 label.sk-toggleable__label-arrow:before {content: \"▸\";float: left;margin-right: 0.25em;color: #696969;}#sk-container-id-3 label.sk-toggleable__label-arrow:hover:before {color: black;}#sk-container-id-3 div.sk-estimator:hover label.sk-toggleable__label-arrow:before {color: black;}#sk-container-id-3 div.sk-toggleable__content {max-height: 0;max-width: 0;overflow: hidden;text-align: left;background-color: #f0f8ff;}#sk-container-id-3 div.sk-toggleable__content pre {margin: 0.2em;color: black;border-radius: 0.25em;background-color: #f0f8ff;}#sk-container-id-3 input.sk-toggleable__control:checked~div.sk-toggleable__content {max-height: 200px;max-width: 100%;overflow: auto;}#sk-container-id-3 input.sk-toggleable__control:checked~label.sk-toggleable__label-arrow:before {content: \"▾\";}#sk-container-id-3 div.sk-estimator input.sk-toggleable__control:checked~label.sk-toggleable__label {background-color: #d4ebff;}#sk-container-id-3 div.sk-label input.sk-toggleable__control:checked~label.sk-toggleable__label {background-color: #d4ebff;}#sk-container-id-3 input.sk-hidden--visually {border: 0;clip: rect(1px 1px 1px 1px);clip: rect(1px, 1px, 1px, 1px);height: 1px;margin: -1px;overflow: hidden;padding: 0;position: absolute;width: 1px;}#sk-container-id-3 div.sk-estimator {font-family: monospace;background-color: #f0f8ff;border: 1px dotted black;border-radius: 0.25em;box-sizing: border-box;margin-bottom: 0.5em;}#sk-container-id-3 div.sk-estimator:hover {background-color: #d4ebff;}#sk-container-id-3 div.sk-parallel-item::after {content: \"\";width: 100%;border-bottom: 1px solid gray;flex-grow: 1;}#sk-container-id-3 div.sk-label:hover label.sk-toggleable__label {background-color: #d4ebff;}#sk-container-id-3 div.sk-serial::before {content: \"\";position: absolute;border-left: 1px solid gray;box-sizing: border-box;top: 0;bottom: 0;left: 50%;z-index: 0;}#sk-container-id-3 div.sk-serial {display: flex;flex-direction: column;align-items: center;background-color: white;padding-right: 0.2em;padding-left: 0.2em;position: relative;}#sk-container-id-3 div.sk-item {position: relative;z-index: 1;}#sk-container-id-3 div.sk-parallel {display: flex;align-items: stretch;justify-content: center;background-color: white;position: relative;}#sk-container-id-3 div.sk-item::before, #sk-container-id-3 div.sk-parallel-item::before {content: \"\";position: absolute;border-left: 1px solid gray;box-sizing: border-box;top: 0;bottom: 0;left: 50%;z-index: -1;}#sk-container-id-3 div.sk-parallel-item {display: flex;flex-direction: column;z-index: 1;position: relative;background-color: white;}#sk-container-id-3 div.sk-parallel-item:first-child::after {align-self: flex-end;width: 50%;}#sk-container-id-3 div.sk-parallel-item:last-child::after {align-self: flex-start;width: 50%;}#sk-container-id-3 div.sk-parallel-item:only-child::after {width: 0;}#sk-container-id-3 div.sk-dashed-wrapped {border: 1px dashed gray;margin: 0 0.4em 0.5em 0.4em;box-sizing: border-box;padding-bottom: 0.4em;background-color: white;}#sk-container-id-3 div.sk-label label {font-family: monospace;font-weight: bold;display: inline-block;line-height: 1.2em;}#sk-container-id-3 div.sk-label-container {text-align: center;}#sk-container-id-3 div.sk-container {/* jupyter's `normalize.less` sets `[hidden] { display: none; }` but bootstrap.min.css set `[hidden] { display: none !important; }` so we also need the `!important` here to be able to override the default hidden behavior on the sphinx rendered scikit-learn.org. See: https://github.com/scikit-learn/scikit-learn/issues/21755 */display: inline-block !important;position: relative;}#sk-container-id-3 div.sk-text-repr-fallback {display: none;}</style><div id=\"sk-container-id-3\" class=\"sk-top-container\"><div class=\"sk-text-repr-fallback\"><pre>KNeighborsRegressor(n_neighbors=4, p=1)</pre><b>In a Jupyter environment, please rerun this cell to show the HTML representation or trust the notebook. <br />On GitHub, the HTML representation is unable to render, please try loading this page with nbviewer.org.</b></div><div class=\"sk-container\" hidden><div class=\"sk-item\"><div class=\"sk-estimator sk-toggleable\"><input class=\"sk-toggleable__control sk-hidden--visually\" id=\"sk-estimator-id-3\" type=\"checkbox\" checked><label for=\"sk-estimator-id-3\" class=\"sk-toggleable__label sk-toggleable__label-arrow\">KNeighborsRegressor</label><div class=\"sk-toggleable__content\"><pre>KNeighborsRegressor(n_neighbors=4, p=1)</pre></div></div></div></div></div>"
      ],
      "text/plain": [
       "KNeighborsRegressor(n_neighbors=4, p=1)"
      ]
     },
     "execution_count": 138,
     "metadata": {},
     "output_type": "execute_result"
    }
   ],
   "source": [
    "knn_model = KNeighborsRegressor()\n",
    "hyp = {'n_neighbors':np.arange(3,50),\n",
    "      'p':[1,2]}\n",
    "\n",
    "gscv_knn = GridSearchCV(knn_model, hyp, cv=5)\n",
    "gscv_knn.fit(x_train, y_train)\n",
    "gscv_knn.best_estimator_"
   ]
  },
  {
   "cell_type": "code",
   "execution_count": 139,
   "id": "d58341ae-fbaa-4be3-bee0-02c988cdbbe5",
   "metadata": {},
   "outputs": [
    {
     "data": {
      "text/plain": [
       "{'n_neighbors': 4, 'p': 1}"
      ]
     },
     "execution_count": 139,
     "metadata": {},
     "output_type": "execute_result"
    }
   ],
   "source": [
    "gscv_knn.best_params_"
   ]
  },
  {
   "cell_type": "markdown",
   "id": "43f42ad7-1127-419c-b4b3-33cac7b86478",
   "metadata": {},
   "source": [
    "## Testing Data Evaluation"
   ]
  },
  {
   "cell_type": "code",
   "execution_count": 140,
   "id": "0fa5c0eb-02d8-4b2b-b60d-3779e9465424",
   "metadata": {},
   "outputs": [
    {
     "name": "stdout",
     "output_type": "stream",
     "text": [
      "MSE : 5255547256743.687\n",
      "MAE : 995175.9805825243\n",
      "R2 Score : 0.3689951715215788\n"
     ]
    }
   ],
   "source": [
    "y_pred = gscv_knn.predict(x_test)\n",
    "\n",
    "mse = mean_squared_error(y_test, y_pred)\n",
    "print('MSE :', mse)\n",
    "\n",
    "mae = mean_absolute_error(y_test, y_pred)\n",
    "print('MAE :',mae)\n",
    "\n",
    "r2_value = r2_score(y_test, y_pred)\n",
    "print('R2 Score :', r2_value)"
   ]
  },
  {
   "cell_type": "markdown",
   "id": "a07fea6d-5a8c-458b-bf8c-29c75debe533",
   "metadata": {},
   "source": [
    "## Training Data Evaluation"
   ]
  },
  {
   "cell_type": "code",
   "execution_count": 141,
   "id": "3d85d1ec-3694-4c0f-9679-afc0e7002ddb",
   "metadata": {},
   "outputs": [
    {
     "name": "stdout",
     "output_type": "stream",
     "text": [
      "MSE : 1906391327374.1238\n",
      "MAE : 677695.6666666666\n",
      "R2 Score : 0.6354925373104952\n"
     ]
    }
   ],
   "source": [
    "y_pred_train = gscv_knn.predict(x_train)\n",
    "\n",
    "mse = mean_squared_error(y_train, y_pred_train)\n",
    "print('MSE :', mse)\n",
    "\n",
    "mae = mean_absolute_error(y_train, y_pred_train)\n",
    "print('MAE :',mae)\n",
    "\n",
    "r2_value = r2_score(y_train, y_pred_train)\n",
    "print('R2 Score :', r2_value)"
   ]
  },
  {
   "cell_type": "code",
   "execution_count": 142,
   "id": "900b5451-c765-4ac5-a5c8-a1654b2862b4",
   "metadata": {},
   "outputs": [
    {
     "name": "stdout",
     "output_type": "stream",
     "text": [
      "Adjusted r_squared: 0.4437105991242626\n"
     ]
    }
   ],
   "source": [
    "adj_r2 = 1- ((1-r2)*(len(x_test)-1)/ (len(x_test) - len(x.columns)-1))\n",
    "print('Adjusted r_squared:',adj_r2)"
   ]
  },
  {
   "cell_type": "markdown",
   "id": "79865680-9dcf-448f-b97f-8ffe70a41ec2",
   "metadata": {},
   "source": [
    "# 3) Desicion Tree"
   ]
  },
  {
   "cell_type": "code",
   "execution_count": 143,
   "id": "6ba8cfbe-435d-41f9-878b-c2c910f3c878",
   "metadata": {},
   "outputs": [],
   "source": [
    "from sklearn.tree import DecisionTreeRegressor, plot_tree\n",
    "from sklearn.model_selection import GridSearchCV"
   ]
  },
  {
   "cell_type": "markdown",
   "id": "0aaa5ea2-ef6a-44b9-96c6-ba1b3c1faa87",
   "metadata": {},
   "source": [
    "## Model Training"
   ]
  },
  {
   "cell_type": "code",
   "execution_count": 144,
   "id": "fdd2f5d6-3a5c-4e43-bf65-8af62abafea6",
   "metadata": {},
   "outputs": [
    {
     "data": {
      "text/html": [
       "<style>#sk-container-id-4 {color: black;background-color: white;}#sk-container-id-4 pre{padding: 0;}#sk-container-id-4 div.sk-toggleable {background-color: white;}#sk-container-id-4 label.sk-toggleable__label {cursor: pointer;display: block;width: 100%;margin-bottom: 0;padding: 0.3em;box-sizing: border-box;text-align: center;}#sk-container-id-4 label.sk-toggleable__label-arrow:before {content: \"▸\";float: left;margin-right: 0.25em;color: #696969;}#sk-container-id-4 label.sk-toggleable__label-arrow:hover:before {color: black;}#sk-container-id-4 div.sk-estimator:hover label.sk-toggleable__label-arrow:before {color: black;}#sk-container-id-4 div.sk-toggleable__content {max-height: 0;max-width: 0;overflow: hidden;text-align: left;background-color: #f0f8ff;}#sk-container-id-4 div.sk-toggleable__content pre {margin: 0.2em;color: black;border-radius: 0.25em;background-color: #f0f8ff;}#sk-container-id-4 input.sk-toggleable__control:checked~div.sk-toggleable__content {max-height: 200px;max-width: 100%;overflow: auto;}#sk-container-id-4 input.sk-toggleable__control:checked~label.sk-toggleable__label-arrow:before {content: \"▾\";}#sk-container-id-4 div.sk-estimator input.sk-toggleable__control:checked~label.sk-toggleable__label {background-color: #d4ebff;}#sk-container-id-4 div.sk-label input.sk-toggleable__control:checked~label.sk-toggleable__label {background-color: #d4ebff;}#sk-container-id-4 input.sk-hidden--visually {border: 0;clip: rect(1px 1px 1px 1px);clip: rect(1px, 1px, 1px, 1px);height: 1px;margin: -1px;overflow: hidden;padding: 0;position: absolute;width: 1px;}#sk-container-id-4 div.sk-estimator {font-family: monospace;background-color: #f0f8ff;border: 1px dotted black;border-radius: 0.25em;box-sizing: border-box;margin-bottom: 0.5em;}#sk-container-id-4 div.sk-estimator:hover {background-color: #d4ebff;}#sk-container-id-4 div.sk-parallel-item::after {content: \"\";width: 100%;border-bottom: 1px solid gray;flex-grow: 1;}#sk-container-id-4 div.sk-label:hover label.sk-toggleable__label {background-color: #d4ebff;}#sk-container-id-4 div.sk-serial::before {content: \"\";position: absolute;border-left: 1px solid gray;box-sizing: border-box;top: 0;bottom: 0;left: 50%;z-index: 0;}#sk-container-id-4 div.sk-serial {display: flex;flex-direction: column;align-items: center;background-color: white;padding-right: 0.2em;padding-left: 0.2em;position: relative;}#sk-container-id-4 div.sk-item {position: relative;z-index: 1;}#sk-container-id-4 div.sk-parallel {display: flex;align-items: stretch;justify-content: center;background-color: white;position: relative;}#sk-container-id-4 div.sk-item::before, #sk-container-id-4 div.sk-parallel-item::before {content: \"\";position: absolute;border-left: 1px solid gray;box-sizing: border-box;top: 0;bottom: 0;left: 50%;z-index: -1;}#sk-container-id-4 div.sk-parallel-item {display: flex;flex-direction: column;z-index: 1;position: relative;background-color: white;}#sk-container-id-4 div.sk-parallel-item:first-child::after {align-self: flex-end;width: 50%;}#sk-container-id-4 div.sk-parallel-item:last-child::after {align-self: flex-start;width: 50%;}#sk-container-id-4 div.sk-parallel-item:only-child::after {width: 0;}#sk-container-id-4 div.sk-dashed-wrapped {border: 1px dashed gray;margin: 0 0.4em 0.5em 0.4em;box-sizing: border-box;padding-bottom: 0.4em;background-color: white;}#sk-container-id-4 div.sk-label label {font-family: monospace;font-weight: bold;display: inline-block;line-height: 1.2em;}#sk-container-id-4 div.sk-label-container {text-align: center;}#sk-container-id-4 div.sk-container {/* jupyter's `normalize.less` sets `[hidden] { display: none; }` but bootstrap.min.css set `[hidden] { display: none !important; }` so we also need the `!important` here to be able to override the default hidden behavior on the sphinx rendered scikit-learn.org. See: https://github.com/scikit-learn/scikit-learn/issues/21755 */display: inline-block !important;position: relative;}#sk-container-id-4 div.sk-text-repr-fallback {display: none;}</style><div id=\"sk-container-id-4\" class=\"sk-top-container\"><div class=\"sk-text-repr-fallback\"><pre>DecisionTreeRegressor()</pre><b>In a Jupyter environment, please rerun this cell to show the HTML representation or trust the notebook. <br />On GitHub, the HTML representation is unable to render, please try loading this page with nbviewer.org.</b></div><div class=\"sk-container\" hidden><div class=\"sk-item\"><div class=\"sk-estimator sk-toggleable\"><input class=\"sk-toggleable__control sk-hidden--visually\" id=\"sk-estimator-id-4\" type=\"checkbox\" checked><label for=\"sk-estimator-id-4\" class=\"sk-toggleable__label sk-toggleable__label-arrow\">DecisionTreeRegressor</label><div class=\"sk-toggleable__content\"><pre>DecisionTreeRegressor()</pre></div></div></div></div></div>"
      ],
      "text/plain": [
       "DecisionTreeRegressor()"
      ]
     },
     "execution_count": 144,
     "metadata": {},
     "output_type": "execute_result"
    }
   ],
   "source": [
    "dt_model = DecisionTreeRegressor(criterion='squared_error')\n",
    "dt_model.fit(x_train,y_train)"
   ]
  },
  {
   "cell_type": "markdown",
   "id": "ead95246-eac4-4fad-9dca-4c60330261d9",
   "metadata": {},
   "source": [
    "## Testing data evaluation"
   ]
  },
  {
   "cell_type": "code",
   "execution_count": 145,
   "id": "dd7f8a91-cdf6-40b7-ae92-0d447eaeb0f5",
   "metadata": {},
   "outputs": [
    {
     "name": "stdout",
     "output_type": "stream",
     "text": [
      "Mean Squared Error : 2411103039883.5776\n",
      "Root Mean Squared Error : 1552772.6942098052\n",
      "Mean Absolute Error 514786.4077669903\n",
      "R-squared value 0.7105120388417552\n"
     ]
    }
   ],
   "source": [
    "y_pred = dt_model.predict(x_test)\n",
    "\n",
    "mse= mean_squared_error(y_test,y_pred)\n",
    "print('Mean Squared Error :', mse)\n",
    "\n",
    "rmse= np.sqrt(mse)\n",
    "print('Root Mean Squared Error :', rmse)\n",
    "\n",
    "mae= mean_absolute_error(y_test,y_pred)\n",
    "print('Mean Absolute Error', mae)\n",
    "\n",
    "r2 = r2_score(y_test,y_pred)\n",
    "print('R-squared value', r2)"
   ]
  },
  {
   "cell_type": "markdown",
   "id": "6a1a007d-0e79-4676-9805-8ffa8e2100e8",
   "metadata": {},
   "source": [
    "## Training data evaluation"
   ]
  },
  {
   "cell_type": "code",
   "execution_count": 146,
   "id": "4787b1e0-d279-402a-9316-06c5bfebb07c",
   "metadata": {},
   "outputs": [
    {
     "name": "stdout",
     "output_type": "stream",
     "text": [
      "Mean Squared Error : 877474195.5069824\n",
      "Root Mean Squared Error : 29622.190930229695\n",
      "Mean Absolute Error 1044.3230115361264\n",
      "R-squared value 0.9998322244294825\n"
     ]
    }
   ],
   "source": [
    "y_pred_train = dt_model.predict(x_train)\n",
    "\n",
    "mse= mean_squared_error(y_train,y_pred_train)\n",
    "print('Mean Squared Error :', mse)\n",
    "\n",
    "rmse= np.sqrt(mse)\n",
    "print('Root Mean Squared Error :', rmse)\n",
    "\n",
    "mae= mean_absolute_error(y_train,y_pred_train)\n",
    "print('Mean Absolute Error', mae)\n",
    "\n",
    "r2 = r2_score(y_train,y_pred_train)\n",
    "print('R-squared value', r2)"
   ]
  },
  {
   "cell_type": "markdown",
   "id": "cf5982f1-8149-446c-8ba0-4b6356eeb5de",
   "metadata": {},
   "source": [
    "## Hyperparameter Tuning"
   ]
  },
  {
   "cell_type": "code",
   "execution_count": 147,
   "id": "6f54e803-1acc-46aa-b588-d64fa7e56887",
   "metadata": {},
   "outputs": [],
   "source": [
    "hyp= { 'criterion':['squared_error', 'absolute_error'],\n",
    "       'max_depth':np.arange(3,10),\n",
    "       'min_samples_split':np.arange(2,20),\n",
    "       'min_samples_leaf': np.arange(2,10)}"
   ]
  },
  {
   "cell_type": "code",
   "execution_count": null,
   "id": "5515aa23-0ea2-49ea-9637-b3f725965596",
   "metadata": {},
   "outputs": [],
   "source": [
    "dt_reg_model = DecisionTreeRegressor()\n",
    "gscv_dt_reg = GridSearchCV(dt_reg_model, hyp, cv=7)\n",
    "gscv_dt_reg.fit(x_train,y_train)"
   ]
  },
  {
   "cell_type": "code",
   "execution_count": null,
   "id": "ea043962-1b13-47fb-a17b-e984d5fa76a4",
   "metadata": {},
   "outputs": [],
   "source": []
  }
 ],
 "metadata": {
  "kernelspec": {
   "display_name": "Python 3 (ipykernel)",
   "language": "python",
   "name": "python3"
  },
  "language_info": {
   "codemirror_mode": {
    "name": "ipython",
    "version": 3
   },
   "file_extension": ".py",
   "mimetype": "text/x-python",
   "name": "python",
   "nbconvert_exporter": "python",
   "pygments_lexer": "ipython3",
   "version": "3.11.7"
  }
 },
 "nbformat": 4,
 "nbformat_minor": 5
}
